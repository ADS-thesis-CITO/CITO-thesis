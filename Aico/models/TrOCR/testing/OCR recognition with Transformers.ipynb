{
 "cells": [
  {
   "cell_type": "markdown",
   "id": "ae8a065f",
   "metadata": {},
   "source": [
    "# OCR recognition with Transformers (Testing Phase)"
   ]
  },
  {
   "cell_type": "markdown",
   "id": "f9ab04fe",
   "metadata": {},
   "source": [
    "#### important libraries"
   ]
  },
  {
   "cell_type": "code",
   "execution_count": null,
   "id": "17c5bbab",
   "metadata": {},
   "outputs": [],
   "source": [
    "import requests \n",
    "import pandas as pd\n",
    "import numpy as np\n",
    "import os\n",
    "\n",
    "\n",
    "from PIL import Image\n",
    "import matplotlib.pyplot as plt\n",
    "import seaborn as sns\n",
    "\n",
    "import cv2\n",
    "import torch\n",
    "from transformers import TrOCRProcessor, VisionEncoderDecoderModel\n",
    "\n",
    "\n",
    "from sklearn.metrics import confusion_matrix\n",
    "from sklearn.metrics import classification_report\n",
    "from math import ceil, floor\n",
    "\n",
    "import warnings\n",
    "warnings.filterwarnings('ignore')"
   ]
  },
  {
   "cell_type": "markdown",
   "id": "bd54dff6",
   "metadata": {},
   "source": [
    "#### specify the FineTune model path (Pytorch model) and load the processor and model of ViT"
   ]
  },
  {
   "cell_type": "code",
   "execution_count": 29,
   "id": "40e892bf",
   "metadata": {},
   "outputs": [],
   "source": [
    "\n",
    "#specify the FineTune model path (Pytorch model)\n",
    "model_path = r\"C:\\Users\\A\\Classification Aico\\modelling\\training\\model\\mnist_dataset_1\"\n",
    "\n",
    "device = torch.device(\"cuda\" if torch.cuda.is_available() else \"cpu\")\n",
    "processor = TrOCRProcessor.from_pretrained(\"microsoft/trocr-base-handwritten\") \n",
    "model = VisionEncoderDecoderModel.from_pretrained(model_path,local_files_only=True).to(device) "
   ]
  },
  {
   "cell_type": "markdown",
   "id": "f90192b8",
   "metadata": {},
   "source": [
    "#### Loop over all the single digits images and generate them with the processor and model"
   ]
  },
  {
   "cell_type": "code",
   "execution_count": 31,
   "id": "fe4e838f",
   "metadata": {},
   "outputs": [],
   "source": [
    "\n",
    "images = \"C:\\\\Users\\\\A\\\\datasets\\\\Thesis\\\\28x28\\\\\"\n",
    "df_digit = pd.DataFrame()\n",
    "df_temp = pd.DataFrame(columns=['Student','Question','Subdigit','Pred'])\n",
    "for img in os.listdir(images):\n",
    "    #image = Image.open(images+img).convert(\"RGB\")\n",
    "    image = cv2.imread(images+img)\n",
    "    imageinv = cv2.bitwise_not(image)z\n",
    "    pixel_values = processor(imageinv, return_tensors=\"pt\").pixel_values\n",
    "    generated_ids = model.generate(pixel_values.to(device))\n",
    "    generated_text = processor.batch_decode(generated_ids, skip_special_tokens=True)[0]\n",
    "    name = img.split('_')\n",
    "    data = {'Student': name[0],'Question': name[1], 'Subdigit': name[2].split('.')[0],'Pred': int(generated_text)}\n",
    "    df_digit = df_digit.append(data,ignore_index=True)\n",
    "    "
   ]
  },
  {
   "cell_type": "markdown",
   "id": "f4b137f8",
   "metadata": {},
   "source": [
    "#### Read the custom labels for testing purpose (get accuracy score)"
   ]
  },
  {
   "cell_type": "code",
   "execution_count": 32,
   "id": "0059a89c",
   "metadata": {},
   "outputs": [],
   "source": [
    "\n",
    "df_labels = pd.read_csv(r'C:\\Users\\A\\Classification Aico\\modelling\\testing\\input\\custom_label.csv',dtype=str)"
   ]
  },
  {
   "cell_type": "code",
   "execution_count": 33,
   "id": "df789c00",
   "metadata": {},
   "outputs": [
    {
     "data": {
      "text/html": [
       "<div>\n",
       "<style scoped>\n",
       "    .dataframe tbody tr th:only-of-type {\n",
       "        vertical-align: middle;\n",
       "    }\n",
       "\n",
       "    .dataframe tbody tr th {\n",
       "        vertical-align: top;\n",
       "    }\n",
       "\n",
       "    .dataframe thead th {\n",
       "        text-align: right;\n",
       "    }\n",
       "</style>\n",
       "<table border=\"1\" class=\"dataframe\">\n",
       "  <thead>\n",
       "    <tr style=\"text-align: right;\">\n",
       "      <th></th>\n",
       "      <th>Student</th>\n",
       "      <th>Question</th>\n",
       "      <th>Subdigit</th>\n",
       "      <th>Expected</th>\n",
       "    </tr>\n",
       "  </thead>\n",
       "  <tbody>\n",
       "    <tr>\n",
       "      <th>0</th>\n",
       "      <td>exp1</td>\n",
       "      <td>2</td>\n",
       "      <td>0</td>\n",
       "      <td>2</td>\n",
       "    </tr>\n",
       "    <tr>\n",
       "      <th>1</th>\n",
       "      <td>exp1</td>\n",
       "      <td>2</td>\n",
       "      <td>1</td>\n",
       "      <td>7</td>\n",
       "    </tr>\n",
       "    <tr>\n",
       "      <th>2</th>\n",
       "      <td>exp1</td>\n",
       "      <td>3</td>\n",
       "      <td>0</td>\n",
       "      <td>4</td>\n",
       "    </tr>\n",
       "    <tr>\n",
       "      <th>3</th>\n",
       "      <td>exp1</td>\n",
       "      <td>3</td>\n",
       "      <td>1</td>\n",
       "      <td>8</td>\n",
       "    </tr>\n",
       "    <tr>\n",
       "      <th>4</th>\n",
       "      <td>exp1</td>\n",
       "      <td>4</td>\n",
       "      <td>0</td>\n",
       "      <td>3</td>\n",
       "    </tr>\n",
       "    <tr>\n",
       "      <th>...</th>\n",
       "      <td>...</td>\n",
       "      <td>...</td>\n",
       "      <td>...</td>\n",
       "      <td>...</td>\n",
       "    </tr>\n",
       "    <tr>\n",
       "      <th>3414</th>\n",
       "      <td>exp73</td>\n",
       "      <td>19</td>\n",
       "      <td>1</td>\n",
       "      <td>5</td>\n",
       "    </tr>\n",
       "    <tr>\n",
       "      <th>3415</th>\n",
       "      <td>exp73</td>\n",
       "      <td>19</td>\n",
       "      <td>2</td>\n",
       "      <td>5</td>\n",
       "    </tr>\n",
       "    <tr>\n",
       "      <th>3416</th>\n",
       "      <td>exp73</td>\n",
       "      <td>20</td>\n",
       "      <td>0</td>\n",
       "      <td>1</td>\n",
       "    </tr>\n",
       "    <tr>\n",
       "      <th>3417</th>\n",
       "      <td>exp73</td>\n",
       "      <td>20</td>\n",
       "      <td>1</td>\n",
       "      <td>4</td>\n",
       "    </tr>\n",
       "    <tr>\n",
       "      <th>3418</th>\n",
       "      <td>exp73</td>\n",
       "      <td>20</td>\n",
       "      <td>2</td>\n",
       "      <td>2</td>\n",
       "    </tr>\n",
       "  </tbody>\n",
       "</table>\n",
       "<p>3419 rows × 4 columns</p>\n",
       "</div>"
      ],
      "text/plain": [
       "     Student Question Subdigit Expected\n",
       "0       exp1        2        0        2\n",
       "1       exp1        2        1        7\n",
       "2       exp1        3        0        4\n",
       "3       exp1        3        1        8\n",
       "4       exp1        4        0        3\n",
       "...      ...      ...      ...      ...\n",
       "3414   exp73       19        1        5\n",
       "3415   exp73       19        2        5\n",
       "3416   exp73       20        0        1\n",
       "3417   exp73       20        1        4\n",
       "3418   exp73       20        2        2\n",
       "\n",
       "[3419 rows x 4 columns]"
      ]
     },
     "execution_count": 33,
     "metadata": {},
     "output_type": "execute_result"
    }
   ],
   "source": [
    "df_labels"
   ]
  },
  {
   "cell_type": "code",
   "execution_count": 34,
   "id": "7d66d20f",
   "metadata": {},
   "outputs": [],
   "source": [
    "df_merge = pd.merge(df_digit,df_labels,how='inner')"
   ]
  },
  {
   "cell_type": "code",
   "execution_count": 35,
   "id": "7b61476d",
   "metadata": {},
   "outputs": [
    {
     "data": {
      "text/html": [
       "<div>\n",
       "<style scoped>\n",
       "    .dataframe tbody tr th:only-of-type {\n",
       "        vertical-align: middle;\n",
       "    }\n",
       "\n",
       "    .dataframe tbody tr th {\n",
       "        vertical-align: top;\n",
       "    }\n",
       "\n",
       "    .dataframe thead th {\n",
       "        text-align: right;\n",
       "    }\n",
       "</style>\n",
       "<table border=\"1\" class=\"dataframe\">\n",
       "  <thead>\n",
       "    <tr style=\"text-align: right;\">\n",
       "      <th></th>\n",
       "      <th>Student</th>\n",
       "      <th>Question</th>\n",
       "      <th>Subdigit</th>\n",
       "      <th>Pred</th>\n",
       "    </tr>\n",
       "  </thead>\n",
       "  <tbody>\n",
       "    <tr>\n",
       "      <th>0</th>\n",
       "      <td>exp10</td>\n",
       "      <td>10</td>\n",
       "      <td>0</td>\n",
       "      <td>4</td>\n",
       "    </tr>\n",
       "    <tr>\n",
       "      <th>1</th>\n",
       "      <td>exp10</td>\n",
       "      <td>10</td>\n",
       "      <td>1</td>\n",
       "      <td>0</td>\n",
       "    </tr>\n",
       "    <tr>\n",
       "      <th>2</th>\n",
       "      <td>exp10</td>\n",
       "      <td>11</td>\n",
       "      <td>0</td>\n",
       "      <td>1</td>\n",
       "    </tr>\n",
       "    <tr>\n",
       "      <th>3</th>\n",
       "      <td>exp10</td>\n",
       "      <td>11</td>\n",
       "      <td>1</td>\n",
       "      <td>5</td>\n",
       "    </tr>\n",
       "    <tr>\n",
       "      <th>4</th>\n",
       "      <td>exp10</td>\n",
       "      <td>11</td>\n",
       "      <td>2</td>\n",
       "      <td>0</td>\n",
       "    </tr>\n",
       "    <tr>\n",
       "      <th>...</th>\n",
       "      <td>...</td>\n",
       "      <td>...</td>\n",
       "      <td>...</td>\n",
       "      <td>...</td>\n",
       "    </tr>\n",
       "    <tr>\n",
       "      <th>3421</th>\n",
       "      <td>exp9</td>\n",
       "      <td>8</td>\n",
       "      <td>1</td>\n",
       "      <td>5</td>\n",
       "    </tr>\n",
       "    <tr>\n",
       "      <th>3422</th>\n",
       "      <td>exp9</td>\n",
       "      <td>8</td>\n",
       "      <td>2</td>\n",
       "      <td>3</td>\n",
       "    </tr>\n",
       "    <tr>\n",
       "      <th>3423</th>\n",
       "      <td>exp9</td>\n",
       "      <td>9</td>\n",
       "      <td>0</td>\n",
       "      <td>6</td>\n",
       "    </tr>\n",
       "    <tr>\n",
       "      <th>3424</th>\n",
       "      <td>exp9</td>\n",
       "      <td>9</td>\n",
       "      <td>1</td>\n",
       "      <td>6</td>\n",
       "    </tr>\n",
       "    <tr>\n",
       "      <th>3425</th>\n",
       "      <td>exp9</td>\n",
       "      <td>9</td>\n",
       "      <td>2</td>\n",
       "      <td>0</td>\n",
       "    </tr>\n",
       "  </tbody>\n",
       "</table>\n",
       "<p>3426 rows × 4 columns</p>\n",
       "</div>"
      ],
      "text/plain": [
       "     Student Question Subdigit  Pred\n",
       "0      exp10       10        0     4\n",
       "1      exp10       10        1     0\n",
       "2      exp10       11        0     1\n",
       "3      exp10       11        1     5\n",
       "4      exp10       11        2     0\n",
       "...      ...      ...      ...   ...\n",
       "3421    exp9        8        1     5\n",
       "3422    exp9        8        2     3\n",
       "3423    exp9        9        0     6\n",
       "3424    exp9        9        1     6\n",
       "3425    exp9        9        2     0\n",
       "\n",
       "[3426 rows x 4 columns]"
      ]
     },
     "execution_count": 35,
     "metadata": {},
     "output_type": "execute_result"
    }
   ],
   "source": [
    "df_digit"
   ]
  },
  {
   "cell_type": "code",
   "execution_count": 36,
   "id": "453f85ce",
   "metadata": {},
   "outputs": [],
   "source": [
    "df_merge = df_merge.dropna()\n",
    "df_merge.Pred = pd.to_numeric(df_merge.Pred, errors='coerce')\n",
    "df_merge.Expected = pd.to_numeric(df_merge.Expected, errors='coerce')\n",
    "\n",
    "# only select single digits\n",
    "df_merge = df_merge[df_merge.Expected < 10].reset_index()\n",
    "\n"
   ]
  },
  {
   "cell_type": "code",
   "execution_count": 39,
   "id": "203947fb",
   "metadata": {},
   "outputs": [
    {
     "data": {
      "text/plain": [
       "Expected\n",
       "0    321\n",
       "1    301\n",
       "2    278\n",
       "3    375\n",
       "4    329\n",
       "5    218\n",
       "6    290\n",
       "7    261\n",
       "8    304\n",
       "9    130\n",
       "Name: index, dtype: int64"
      ]
     },
     "execution_count": 39,
     "metadata": {},
     "output_type": "execute_result"
    }
   ],
   "source": [
    "df_merge.groupby(['Expected'])['index'].count()"
   ]
  },
  {
   "cell_type": "markdown",
   "id": "0b562099",
   "metadata": {},
   "source": [
    "#### Create and print the classification report"
   ]
  },
  {
   "cell_type": "code",
   "execution_count": 40,
   "id": "c8368590",
   "metadata": {},
   "outputs": [],
   "source": [
    "y_true = df_merge.Expected\n",
    "y_pred = df_merge.Pred\n",
    "cf_matrix = confusion_matrix(y_true, y_pred)\n"
   ]
  },
  {
   "cell_type": "code",
   "execution_count": 43,
   "id": "0bafe27f",
   "metadata": {},
   "outputs": [
    {
     "name": "stdout",
     "output_type": "stream",
     "text": [
      "              precision    recall  f1-score   support\n",
      "\n",
      "           0       0.98      0.94      0.96       337\n",
      "           1       0.98      0.98      0.98       302\n",
      "           2       0.98      0.90      0.94       303\n",
      "           3       1.00      0.97      0.98       385\n",
      "           4       0.96      0.98      0.97       323\n",
      "           5       1.00      0.98      0.99       222\n",
      "           6       0.98      0.99      0.98       286\n",
      "           7       0.90      0.96      0.93       244\n",
      "           8       0.88      0.98      0.93       275\n",
      "           9       0.93      0.93      0.93       130\n",
      "\n",
      "    accuracy                           0.96      2807\n",
      "   macro avg       0.96      0.96      0.96      2807\n",
      "weighted avg       0.96      0.96      0.96      2807\n",
      "\n"
     ]
    }
   ],
   "source": [
    "print(classification_report(y_pred,y_true))"
   ]
  },
  {
   "cell_type": "code",
   "execution_count": 44,
   "id": "44f286aa",
   "metadata": {},
   "outputs": [
    {
     "data": {
      "text/plain": [
       "0.9608122550765942"
      ]
     },
     "execution_count": 44,
     "metadata": {},
     "output_type": "execute_result"
    }
   ],
   "source": [
    "report = classification_report(y_true, y_pred, output_dict=True)\n",
    "report['accuracy']"
   ]
  },
  {
   "cell_type": "markdown",
   "id": "04d4415b",
   "metadata": {},
   "source": [
    "#### Plot the confusion matrix"
   ]
  },
  {
   "cell_type": "code",
   "execution_count": 45,
   "id": "b411cd86",
   "metadata": {},
   "outputs": [
    {
     "data": {
      "image/png": "[encoded data removed]",
      "text/plain": [
       "<Figure size 432x288 with 2 Axes>"
      ]
     },
     "metadata": {
      "needs_background": "light"
     },
     "output_type": "display_data"
    }
   ],
   "source": [
    "ax = sns.heatmap(cf_matrix , annot=True, cmap='magma',fmt='g')\n",
    "\n",
    "ax.set_title('Seaborn Confusion Matrix with labels\\n\\n');\n",
    "ax.set_xlabel('\\nPredicted Values')\n",
    "ax.set_ylabel('Actual Values ');\n",
    "\n",
    "## Display the visualization of the Confusion Matrix.\n",
    "plt.show()"
   ]
  },
  {
   "cell_type": "markdown",
   "id": "650bbb53",
   "metadata": {},
   "source": [
    "#### Show all miss classified digits"
   ]
  },
  {
   "cell_type": "code",
   "execution_count": 49,
   "id": "6a90dcf8",
   "metadata": {},
   "outputs": [],
   "source": [
    "df_miss = df_merge[(df_merge['Pred'] != df_merge['Expected'])]"
   ]
  },
  {
   "cell_type": "code",
   "execution_count": 50,
   "id": "74c1f8ad",
   "metadata": {},
   "outputs": [
    {
     "data": {
      "text/html": [
       "<div>\n",
       "<style scoped>\n",
       "    .dataframe tbody tr th:only-of-type {\n",
       "        vertical-align: middle;\n",
       "    }\n",
       "\n",
       "    .dataframe tbody tr th {\n",
       "        vertical-align: top;\n",
       "    }\n",
       "\n",
       "    .dataframe thead th {\n",
       "        text-align: right;\n",
       "    }\n",
       "</style>\n",
       "<table border=\"1\" class=\"dataframe\">\n",
       "  <thead>\n",
       "    <tr style=\"text-align: right;\">\n",
       "      <th></th>\n",
       "      <th>index</th>\n",
       "      <th>Student</th>\n",
       "      <th>Question</th>\n",
       "      <th>Subdigit</th>\n",
       "      <th>Pred</th>\n",
       "      <th>Expected</th>\n",
       "    </tr>\n",
       "  </thead>\n",
       "  <tbody>\n",
       "    <tr>\n",
       "      <th>16</th>\n",
       "      <td>19</td>\n",
       "      <td>exp10</td>\n",
       "      <td>17</td>\n",
       "      <td>1</td>\n",
       "      <td>7</td>\n",
       "      <td>4</td>\n",
       "    </tr>\n",
       "    <tr>\n",
       "      <th>36</th>\n",
       "      <td>40</td>\n",
       "      <td>exp10</td>\n",
       "      <td>6</td>\n",
       "      <td>2</td>\n",
       "      <td>4</td>\n",
       "      <td>7</td>\n",
       "    </tr>\n",
       "    <tr>\n",
       "      <th>144</th>\n",
       "      <td>171</td>\n",
       "      <td>exp13</td>\n",
       "      <td>13</td>\n",
       "      <td>0</td>\n",
       "      <td>8</td>\n",
       "      <td>9</td>\n",
       "    </tr>\n",
       "    <tr>\n",
       "      <th>148</th>\n",
       "      <td>175</td>\n",
       "      <td>exp13</td>\n",
       "      <td>14</td>\n",
       "      <td>1</td>\n",
       "      <td>2</td>\n",
       "      <td>8</td>\n",
       "    </tr>\n",
       "    <tr>\n",
       "      <th>209</th>\n",
       "      <td>245</td>\n",
       "      <td>exp14</td>\n",
       "      <td>2</td>\n",
       "      <td>1</td>\n",
       "      <td>2</td>\n",
       "      <td>7</td>\n",
       "    </tr>\n",
       "    <tr>\n",
       "      <th>...</th>\n",
       "      <td>...</td>\n",
       "      <td>...</td>\n",
       "      <td>...</td>\n",
       "      <td>...</td>\n",
       "      <td>...</td>\n",
       "      <td>...</td>\n",
       "    </tr>\n",
       "    <tr>\n",
       "      <th>2767</th>\n",
       "      <td>3370</td>\n",
       "      <td>exp9</td>\n",
       "      <td>12</td>\n",
       "      <td>0</td>\n",
       "      <td>2</td>\n",
       "      <td>8</td>\n",
       "    </tr>\n",
       "    <tr>\n",
       "      <th>2768</th>\n",
       "      <td>3371</td>\n",
       "      <td>exp9</td>\n",
       "      <td>12</td>\n",
       "      <td>1</td>\n",
       "      <td>4</td>\n",
       "      <td>7</td>\n",
       "    </tr>\n",
       "    <tr>\n",
       "      <th>2776</th>\n",
       "      <td>3379</td>\n",
       "      <td>exp9</td>\n",
       "      <td>15</td>\n",
       "      <td>1</td>\n",
       "      <td>6</td>\n",
       "      <td>8</td>\n",
       "    </tr>\n",
       "    <tr>\n",
       "      <th>2789</th>\n",
       "      <td>3395</td>\n",
       "      <td>exp9</td>\n",
       "      <td>20</td>\n",
       "      <td>2</td>\n",
       "      <td>7</td>\n",
       "      <td>2</td>\n",
       "    </tr>\n",
       "    <tr>\n",
       "      <th>2796</th>\n",
       "      <td>3403</td>\n",
       "      <td>exp9</td>\n",
       "      <td>5</td>\n",
       "      <td>2</td>\n",
       "      <td>2</td>\n",
       "      <td>0</td>\n",
       "    </tr>\n",
       "  </tbody>\n",
       "</table>\n",
       "<p>110 rows × 6 columns</p>\n",
       "</div>"
      ],
      "text/plain": [
       "      index Student Question Subdigit  Pred  Expected\n",
       "16       19   exp10       17        1     7         4\n",
       "36       40   exp10        6        2     4         7\n",
       "144     171   exp13       13        0     8         9\n",
       "148     175   exp13       14        1     2         8\n",
       "209     245   exp14        2        1     2         7\n",
       "...     ...     ...      ...      ...   ...       ...\n",
       "2767   3370    exp9       12        0     2         8\n",
       "2768   3371    exp9       12        1     4         7\n",
       "2776   3379    exp9       15        1     6         8\n",
       "2789   3395    exp9       20        2     7         2\n",
       "2796   3403    exp9        5        2     2         0\n",
       "\n",
       "[110 rows x 6 columns]"
      ]
     },
     "execution_count": 50,
     "metadata": {},
     "output_type": "execute_result"
    }
   ],
   "source": [
    "df_miss"
   ]
  },
  {
   "cell_type": "markdown",
   "id": "e0b2fc52",
   "metadata": {},
   "source": [
    "#### Plot all miss classification of the model"
   ]
  },
  {
   "cell_type": "code",
   "execution_count": null,
   "id": "cbb865ff",
   "metadata": {},
   "outputs": [],
   "source": [
    "import cv2\n",
    "import matplotlib.pyplot as plt\n",
    "path = r'C:\\Users\\A\\datasets\\Thesis\\28x28'\n",
    "\n",
    "for index in df_miss.index:\n",
    "    \n",
    "    image = cv2.imread(path+'//'+index[['Student','Question','Subdigit']].apply(\"_\".join,axis=1)+'.jpg')\n",
    "    imagem = cv2.bitwise_not(image)\n",
    "    plt.imshow(imagem)\n",
    "    plt.show()"
   ]
  },
  {
   "cell_type": "code",
   "execution_count": null,
   "id": "da591237",
   "metadata": {},
   "outputs": [],
   "source": []
  }
 ],
 "metadata": {
  "kernelspec": {
   "display_name": "Python 3 (ipykernel)",
   "language": "python",
   "name": "python3"
  },
  "language_info": {
   "codemirror_mode": {
    "name": "ipython",
    "version": 3
   },
   "file_extension": ".py",
   "mimetype": "text/x-python",
   "name": "python",
   "nbconvert_exporter": "python",
   "pygments_lexer": "ipython3",
   "version": "3.9.12"
  }
 },
 "nbformat": 4,
 "nbformat_minor": 5
}
