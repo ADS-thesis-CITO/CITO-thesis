{
 "cells": [
  {
   "cell_type": "markdown",
   "id": "ae8a065f",
   "metadata": {},
   "source": [
    "# OCR recognition with Transformers"
   ]
  },
  {
   "cell_type": "code",
   "execution_count": null,
   "id": "40e892bf",
   "metadata": {},
   "outputs": [],
   "source": [
    "import torch\n",
    "from transformers import TrOCRProcessor, VisionEncoderDecoderModel\n",
    "import requests \n",
    "from PIL import Image\n",
    "\n",
    "model_path = \"C:/Users/A/yolov5/model\"\n",
    "\n",
    "device = torch.device(\"cuda\" if torch.cuda.is_available() else \"cpu\")\n",
    "processor = TrOCRProcessor.from_pretrained(\"microsoft/trocr-base-handwritten\") \n",
    "model = VisionEncoderDecoderModel.from_pretrained(model_path).to(device) "
   ]
  },
  {
   "cell_type": "code",
   "execution_count": null,
   "id": "fe4e838f",
   "metadata": {},
   "outputs": [],
   "source": [
    "from PIL import Image\n",
    "import pandas as pd\n",
    "import os\n",
    "images = \"C:\\\\Users\\\\A\\\\datasets\\\\Thesis\\\\crops_aico_28\\\\\"\n",
    "df_digit = pd.DataFrame()\n",
    "df_temp = pd.DataFrame(columns=['Student','Question','Subdigit','Pred'])\n",
    "for img in os.listdir(images):\n",
    "    image = Image.open(images+img).convert(\"RGB\")\n",
    "    pixel_values = processor(image, return_tensors=\"pt\").pixel_values\n",
    "    generated_ids = model.generate(pixel_values.to(device))\n",
    "    generated_text = processor.batch_decode(generated_ids, skip_special_tokens=True)[0]\n",
    "    name = img.split('_')\n",
    "    data = {'Student': name[0],'Question': name[1], 'Subdigit': name[2].split('.')[0],'Pred': int(generated_text)}\n",
    "    df_digit = df_digit.append(data,ignore_index=True)\n",
    "    "
   ]
  },
  {
   "cell_type": "code",
   "execution_count": null,
   "id": "0059a89c",
   "metadata": {},
   "outputs": [],
   "source": [
    "df_labels = pd.read_csv('custom_label_v1.csv',dtype=str)"
   ]
  },
  {
   "cell_type": "code",
   "execution_count": null,
   "id": "7d66d20f",
   "metadata": {},
   "outputs": [],
   "source": [
    "df_merge = pd.merge(df_digit,df_labels,how='inner')"
   ]
  },
  {
   "cell_type": "code",
   "execution_count": null,
   "id": "453f85ce",
   "metadata": {},
   "outputs": [],
   "source": [
    "df_merge = df_merge.dropna()"
   ]
  },
  {
   "cell_type": "code",
   "execution_count": null,
   "id": "538f20e4",
   "metadata": {},
   "outputs": [],
   "source": [
    "df_merge.Pred = pd.to_numeric(df_merge.Pred, errors='coerce')\n",
    "df_merge.Expected = pd.to_numeric(df_merge.Expected, errors='coerce')"
   ]
  },
  {
   "cell_type": "code",
   "execution_count": null,
   "id": "5ec2a878",
   "metadata": {},
   "outputs": [],
   "source": [
    "df_merge = df_merge[df_merge.Expected < 10].reset_index()"
   ]
  },
  {
   "cell_type": "code",
   "execution_count": null,
   "id": "c8368590",
   "metadata": {},
   "outputs": [],
   "source": [
    "from sklearn.metrics import confusion_matrix\n",
    "y_true = df_merge.Expected\n",
    "y_pred = df_merge.Pred\n",
    "\n"
   ]
  },
  {
   "cell_type": "code",
   "execution_count": null,
   "id": "03b598e3",
   "metadata": {},
   "outputs": [],
   "source": [
    "confusion_matrix(y_true, y_pred)"
   ]
  },
  {
   "cell_type": "code",
   "execution_count": null,
   "id": "76eb7544",
   "metadata": {},
   "outputs": [],
   "source": [
    "from sklearn.metrics import classification_report\n",
    "print(classification_report(y_pred,y_true))"
   ]
  },
  {
   "cell_type": "code",
   "execution_count": null,
   "id": "d1916e24",
   "metadata": {},
   "outputs": [],
   "source": []
  },
  {
   "cell_type": "code",
   "execution_count": null,
   "id": "93808a98",
   "metadata": {},
   "outputs": [],
   "source": []
  }
 ],
 "metadata": {
  "kernelspec": {
   "display_name": "Python 3 (ipykernel)",
   "language": "python",
   "name": "python3"
  },
  "language_info": {
   "codemirror_mode": {
    "name": "ipython",
    "version": 3
   },
   "file_extension": ".py",
   "mimetype": "text/x-python",
   "name": "python",
   "nbconvert_exporter": "python",
   "pygments_lexer": "ipython3",
   "version": "3.9.12"
  }
 },
 "nbformat": 4,
 "nbformat_minor": 5
}
