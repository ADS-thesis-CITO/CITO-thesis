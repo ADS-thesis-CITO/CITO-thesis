{
 "cells": [
  {
   "cell_type": "markdown",
   "id": "152a3541",
   "metadata": {},
   "source": [
    "# OCR recognition with Transformers (Training Phase)"
   ]
  },
  {
   "cell_type": "markdown",
   "id": "c29f7cfb",
   "metadata": {},
   "source": [
    "#### important libraries"
   ]
  },
  {
   "cell_type": "code",
   "execution_count": null,
   "id": "6f916c05",
   "metadata": {},
   "outputs": [],
   "source": [
    "import numpy as np # linear algebra\n",
    "import pandas as pd # data processing, CSV file I/O (e.g. pd.read_csv)\n",
    "import os\n",
    "import glob\n",
    "from math import ceil, floor\n",
    "\n",
    "from PIL import Image\n",
    "import seaborn as sns\n",
    "import matplotlib.pyplot as plt\n",
    "\n",
    "import torch\n",
    "from torch.utils.data import Dataset\n",
    "from datasets import load_metric\n",
    "\n",
    "from sklearn.model_selection import train_test_split\n",
    "from sklearn.metrics import accuracy_score, recall_score, precision_score, f1_score\n",
    "from sklearn.metrics import confusion_matrix\n",
    "from sklearn.metrics import classification_report"
   ]
  },
  {
   "cell_type": "code",
   "execution_count": 2,
   "id": "662d02c2",
   "metadata": {},
   "outputs": [],
   "source": [
    "os.environ[\"WANDB_DISABLED\"] = \"True\""
   ]
  },
  {
   "cell_type": "markdown",
   "id": "cc37ae61",
   "metadata": {},
   "source": [
    "#### Import all the MNIST digits dataset"
   ]
  },
  {
   "cell_type": "code",
   "execution_count": 3,
   "id": "6f7697e7",
   "metadata": {},
   "outputs": [],
   "source": [
    "\n",
    "\n",
    "digits = [0,1,2,3,4,5,6,7,8,9]\n",
    "path = 'C:\\\\Users\\\\A\\\\datasets\\\\MNIST - JPG - training\\\\'\n",
    "train = []\n",
    "\n",
    "for digit in digits:\n",
    "    digit_path = path+str(digit)+'\\*'\n",
    "    for file in glob.glob(digit_path):\n",
    "        # make label from filename\n",
    "        filename = os.path.basename(file)\n",
    "        #label = filename.split('_')[0]\n",
    "        train.append([file, str(digit)])\n",
    "\n",
    "df = pd.DataFrame(train, columns=['file_name', 'text'])"
   ]
  },
  {
   "cell_type": "markdown",
   "id": "fd17c736",
   "metadata": {},
   "source": [
    "#### Create a sample of the dataset (not used here!)"
   ]
  },
  {
   "cell_type": "code",
   "execution_count": 1,
   "id": "c2728db7",
   "metadata": {},
   "outputs": [],
   "source": [
    "\n",
    "#df['text'].value_counts()\n",
    "#df2 = pd.DataFrame()\n",
    "#for digit in digits:\n",
    "#    df_sample = df[df['text'] == str(digit)].sample(n=300,random_state = 1)\n",
    "#    df2 = df2.append(df_sample)"
   ]
  },
  {
   "cell_type": "code",
   "execution_count": 5,
   "id": "ab2d6c3b",
   "metadata": {},
   "outputs": [
    {
     "data": {
      "text/plain": [
       "0    300\n",
       "1    300\n",
       "2    300\n",
       "3    300\n",
       "4    300\n",
       "5    300\n",
       "6    300\n",
       "7    300\n",
       "8    300\n",
       "9    300\n",
       "Name: text, dtype: int64"
      ]
     },
     "execution_count": 5,
     "metadata": {},
     "output_type": "execute_result"
    }
   ],
   "source": [
    "df2.text.value_counts()"
   ]
  },
  {
   "cell_type": "markdown",
   "id": "9b14618d",
   "metadata": {},
   "source": [
    "#### Import all the Custom digits dataset"
   ]
  },
  {
   "cell_type": "code",
   "execution_count": 6,
   "id": "3cc3ddd1",
   "metadata": {},
   "outputs": [],
   "source": [
    "# custom label dataset\n",
    "digits = [0,1,2,3,4,5,6,7,8,9]\n",
    "digits_select = [0,2,3,5,7,8,9]\n",
    "path = 'C:\\\\Users\\\\A\\\\datasets\\\\school_label_dataset\\\\extract_digits\\\\'\n",
    "\n",
    "train = []\n",
    "\n",
    "for digit in digits:\n",
    "    digit_path = path+str(digit)+'\\*'\n",
    "    for file in glob.glob(digit_path):\n",
    "    # make label from filename\n",
    "        filename = os.path.basename(file)\n",
    "        #label = filename.split('_')[0]\n",
    "        train.append([file, str(digit)])\n",
    "\n",
    "df3 = pd.DataFrame(train, columns=['file_name', 'text'])"
   ]
  },
  {
   "cell_type": "code",
   "execution_count": 15,
   "id": "25f0e257",
   "metadata": {},
   "outputs": [
    {
     "data": {
      "text/plain": [
       "1    319\n",
       "3    300\n",
       "4    268\n",
       "2    265\n",
       "6    256\n",
       "8    254\n",
       "7    237\n",
       "0    230\n",
       "5    190\n",
       "9    156\n",
       "Name: text, dtype: int64"
      ]
     },
     "execution_count": 15,
     "metadata": {},
     "output_type": "execute_result"
    }
   ],
   "source": [
    "df3['text'].value_counts()"
   ]
  },
  {
   "cell_type": "markdown",
   "id": "085fb329",
   "metadata": {},
   "source": [
    "#### split / train testset for training"
   ]
  },
  {
   "cell_type": "code",
   "execution_count": 11,
   "id": "e59d10ee",
   "metadata": {},
   "outputs": [],
   "source": [
    "from sklearn.model_selection import train_test_split\n",
    "train_df, test_df = train_test_split(df, test_size=0.1)\n",
    "# we reset the indices to start from zero\n",
    "train_df.reset_index(drop=True, inplace=True)\n",
    "test_df.reset_index(drop=True, inplace=True)\n",
    "\n",
    "train_df2, test_df2 = train_test_split(train_df, test_size=0.2)\n",
    "# we reset the indices to start from zero\n",
    "train_df2.reset_index(drop=True, inplace=True)\n",
    "test_df2.reset_index(drop=True, inplace=True)"
   ]
  },
  {
   "cell_type": "code",
   "execution_count": 12,
   "id": "0560604b",
   "metadata": {},
   "outputs": [
    {
     "data": {
      "text/html": [
       "<div>\n",
       "<style scoped>\n",
       "    .dataframe tbody tr th:only-of-type {\n",
       "        vertical-align: middle;\n",
       "    }\n",
       "\n",
       "    .dataframe tbody tr th {\n",
       "        vertical-align: top;\n",
       "    }\n",
       "\n",
       "    .dataframe thead th {\n",
       "        text-align: right;\n",
       "    }\n",
       "</style>\n",
       "<table border=\"1\" class=\"dataframe\">\n",
       "  <thead>\n",
       "    <tr style=\"text-align: right;\">\n",
       "      <th></th>\n",
       "      <th>file_name</th>\n",
       "      <th>text</th>\n",
       "    </tr>\n",
       "  </thead>\n",
       "  <tbody>\n",
       "    <tr>\n",
       "      <th>0</th>\n",
       "      <td>C:\\Users\\A\\datasets\\school_label_dataset\\extra...</td>\n",
       "      <td>7</td>\n",
       "    </tr>\n",
       "    <tr>\n",
       "      <th>1</th>\n",
       "      <td>C:\\Users\\A\\datasets\\school_label_dataset\\extra...</td>\n",
       "      <td>0</td>\n",
       "    </tr>\n",
       "    <tr>\n",
       "      <th>2</th>\n",
       "      <td>C:\\Users\\A\\datasets\\school_label_dataset\\extra...</td>\n",
       "      <td>5</td>\n",
       "    </tr>\n",
       "    <tr>\n",
       "      <th>3</th>\n",
       "      <td>C:\\Users\\A\\datasets\\school_label_dataset\\extra...</td>\n",
       "      <td>3</td>\n",
       "    </tr>\n",
       "    <tr>\n",
       "      <th>4</th>\n",
       "      <td>C:\\Users\\A\\datasets\\school_label_dataset\\extra...</td>\n",
       "      <td>7</td>\n",
       "    </tr>\n",
       "    <tr>\n",
       "      <th>...</th>\n",
       "      <td>...</td>\n",
       "      <td>...</td>\n",
       "    </tr>\n",
       "    <tr>\n",
       "      <th>490</th>\n",
       "      <td>C:\\Users\\A\\datasets\\school_label_dataset\\extra...</td>\n",
       "      <td>1</td>\n",
       "    </tr>\n",
       "    <tr>\n",
       "      <th>491</th>\n",
       "      <td>C:\\Users\\A\\datasets\\school_label_dataset\\extra...</td>\n",
       "      <td>7</td>\n",
       "    </tr>\n",
       "    <tr>\n",
       "      <th>492</th>\n",
       "      <td>C:\\Users\\A\\datasets\\school_label_dataset\\extra...</td>\n",
       "      <td>3</td>\n",
       "    </tr>\n",
       "    <tr>\n",
       "      <th>493</th>\n",
       "      <td>C:\\Users\\A\\datasets\\school_label_dataset\\extra...</td>\n",
       "      <td>7</td>\n",
       "    </tr>\n",
       "    <tr>\n",
       "      <th>494</th>\n",
       "      <td>C:\\Users\\A\\datasets\\school_label_dataset\\extra...</td>\n",
       "      <td>8</td>\n",
       "    </tr>\n",
       "  </tbody>\n",
       "</table>\n",
       "<p>495 rows × 2 columns</p>\n",
       "</div>"
      ],
      "text/plain": [
       "                                             file_name text\n",
       "0    C:\\Users\\A\\datasets\\school_label_dataset\\extra...    7\n",
       "1    C:\\Users\\A\\datasets\\school_label_dataset\\extra...    0\n",
       "2    C:\\Users\\A\\datasets\\school_label_dataset\\extra...    5\n",
       "3    C:\\Users\\A\\datasets\\school_label_dataset\\extra...    3\n",
       "4    C:\\Users\\A\\datasets\\school_label_dataset\\extra...    7\n",
       "..                                                 ...  ...\n",
       "490  C:\\Users\\A\\datasets\\school_label_dataset\\extra...    1\n",
       "491  C:\\Users\\A\\datasets\\school_label_dataset\\extra...    7\n",
       "492  C:\\Users\\A\\datasets\\school_label_dataset\\extra...    3\n",
       "493  C:\\Users\\A\\datasets\\school_label_dataset\\extra...    7\n",
       "494  C:\\Users\\A\\datasets\\school_label_dataset\\extra...    8\n",
       "\n",
       "[495 rows x 2 columns]"
      ]
     },
     "execution_count": 12,
     "metadata": {},
     "output_type": "execute_result"
    }
   ],
   "source": [
    "test_df"
   ]
  },
  {
   "cell_type": "markdown",
   "id": "de00fe83",
   "metadata": {},
   "source": [
    "#### Create encoding class, so that the encoder knows what to do"
   ]
  },
  {
   "cell_type": "code",
   "execution_count": 13,
   "id": "45957f19",
   "metadata": {},
   "outputs": [],
   "source": [
    "\n",
    "\n",
    "class IAMDataset(Dataset):\n",
    "    def __init__(self, root_dir, df, processor, max_target_length=1):\n",
    "        self.root_dir = root_dir\n",
    "        self.df = df\n",
    "        self.processor = processor\n",
    "        self.max_target_length = max_target_length\n",
    "\n",
    "    def __len__(self):\n",
    "        return len(self.df)\n",
    "\n",
    "    def __getitem__(self, idx):\n",
    "        # get file name + text \n",
    "        file_name = self.df['file_name'][idx]\n",
    "        text = self.df['text'][idx]\n",
    "        # prepare image (i.e. resize + normalize)\n",
    "        image = Image.open(self.root_dir + file_name).convert(\"RGB\")\n",
    "        pixel_values = self.processor(image, return_tensors=\"pt\").pixel_values\n",
    "        # add labels (input_ids) by encoding the text\n",
    "        labels = self.processor.tokenizer(text, \n",
    "                                          padding=\"max_length\", \n",
    "                                          max_length=self.max_target_length).input_ids\n",
    "        \n",
    "        labels = [label if label != self.processor.tokenizer.pad_token_id else -100 for label in labels]\n",
    "\n",
    "        encoding = {\"pixel_values\": pixel_values.squeeze(), \"labels\": torch.tensor(labels)}\n",
    "\n",
    "        return encoding"
   ]
  },
  {
   "cell_type": "markdown",
   "id": "d136e0d9",
   "metadata": {},
   "source": [
    "#### Load the pretrained processor and create two sets; train and valid"
   ]
  },
  {
   "cell_type": "code",
   "execution_count": 14,
   "id": "f7952980",
   "metadata": {},
   "outputs": [],
   "source": [
    "from transformers import TrOCRProcessor\n",
    "\n",
    "processor = TrOCRProcessor.from_pretrained(\"microsoft/trocr-base-handwritten\")\n",
    "train_dataset = IAMDataset(root_dir='',\n",
    "                           df=train_df2,\n",
    "                           processor=processor)\n",
    "eval_dataset = IAMDataset(root_dir='',\n",
    "                           df=test_df2,\n",
    "                           processor=processor)"
   ]
  },
  {
   "cell_type": "code",
   "execution_count": 15,
   "id": "7c51b9c7",
   "metadata": {},
   "outputs": [
    {
     "name": "stdout",
     "output_type": "stream",
     "text": [
      "Number of training examples: 1782\n",
      "Number of validation examples: 198\n"
     ]
    }
   ],
   "source": [
    "print(\"Number of training examples:\", len(train_dataset))\n",
    "print(\"Number of validation examples:\", len(eval_dataset))"
   ]
  },
  {
   "cell_type": "code",
   "execution_count": 16,
   "id": "53ab6f94",
   "metadata": {},
   "outputs": [
    {
     "name": "stdout",
     "output_type": "stream",
     "text": [
      "pixel_values torch.Size([3, 384, 384])\n",
      "labels torch.Size([3])\n"
     ]
    }
   ],
   "source": [
    "encoding = train_dataset[0]\n",
    "for k,v in encoding.items():\n",
    "    print(k, v.shape)"
   ]
  },
  {
   "cell_type": "code",
   "execution_count": 17,
   "id": "685bea5e",
   "metadata": {},
   "outputs": [
    {
     "name": "stdout",
     "output_type": "stream",
     "text": [
      "tensor([  0, 466,   2])\n",
      "Decoded Label: 9\n"
     ]
    }
   ],
   "source": [
    "labels = encoding['labels']\n",
    "print(labels)\n",
    "\n",
    "labels[labels == -100] = processor.tokenizer.pad_token_id\n",
    "label_str = processor.decode(labels, skip_special_tokens=True)\n",
    "print('Decoded Label:', label_str)"
   ]
  },
  {
   "cell_type": "code",
   "execution_count": 20,
   "id": "88ba58ea",
   "metadata": {},
   "outputs": [
    {
     "name": "stdout",
     "output_type": "stream",
     "text": [
      "Label: 4\n"
     ]
    },
    {
     "data": {
      "image/png": "[encoded data removed]",
      "text/plain": [
       "<PIL.Image.Image image mode=RGB size=28x28>"
      ]
     },
     "execution_count": 20,
     "metadata": {},
     "output_type": "execute_result"
    }
   ],
   "source": [
    "# print sample image\n",
    "image = Image.open(train_dataset.root_dir + train_df['file_name'][0]).convert(\"RGB\")\n",
    "print('Label: '+train_df['text'][0])\n",
    "image"
   ]
  },
  {
   "cell_type": "markdown",
   "id": "34599d75",
   "metadata": {},
   "source": [
    "#### Create metrics function, so this can be used to test the validation set"
   ]
  },
  {
   "cell_type": "code",
   "execution_count": 21,
   "id": "1d952581",
   "metadata": {},
   "outputs": [],
   "source": [
    "\n",
    "cer_metric = load_metric(\"cer\")\n",
    "\n",
    "def compute_metrics(pred):\n",
    "    #print(pred)\n",
    "    labels_ids = pred.label_ids\n",
    "    pred_ids = pred.predictions\n",
    "\n",
    "    pred_str = processor.batch_decode(pred_ids, skip_special_tokens=True)\n",
    "    labels_ids[labels_ids == -100] = processor.tokenizer.pad_token_id\n",
    "    label_str = processor.batch_decode(labels_ids, skip_special_tokens=True)\n",
    "    #print(list(pred_str))\n",
    "    #print(type(label_str))\n",
    "    cer = cer_metric.compute(predictions=pred_str, references=label_str)\n",
    "    accuracy = accuracy_score(y_true=list(label_str[:]), y_pred=list(pred_str[:]))\n",
    "    recall = recall_score(y_true=list(label_str[:]), y_pred=list(pred_str[:]), average = \"weighted\")\n",
    "    precision = precision_score(y_true=list(label_str[:]), y_pred=list(pred_str[:]), average = \"weighted\")\n",
    "    return {\"cer\": cer, \"pred\": pred_str,\"labels\": label_str,\"accuracy\": accuracy, \"recall\": recall, \"precision\":precision}"
   ]
  },
  {
   "cell_type": "markdown",
   "id": "d0593635",
   "metadata": {},
   "source": [
    "#### Load the pretrained model"
   ]
  },
  {
   "cell_type": "code",
   "execution_count": 22,
   "id": "1adbb2f4",
   "metadata": {},
   "outputs": [
    {
     "name": "stderr",
     "output_type": "stream",
     "text": [
      "Some weights of VisionEncoderDecoderModel were not initialized from the model checkpoint at microsoft/trocr-base-stage1 and are newly initialized: ['encoder.pooler.dense.bias', 'encoder.pooler.dense.weight']\n",
      "You should probably TRAIN this model on a down-stream task to be able to use it for predictions and inference.\n"
     ]
    }
   ],
   "source": [
    "from transformers import VisionEncoderDecoderModel\n",
    "\n",
    "model = VisionEncoderDecoderModel.from_pretrained(\"microsoft/trocr-base-stage1\")"
   ]
  },
  {
   "cell_type": "markdown",
   "id": "3f7f175e",
   "metadata": {},
   "source": [
    "#### Create parameters (these have been changed a lot and this seems to give the best results)"
   ]
  },
  {
   "cell_type": "code",
   "execution_count": 23,
   "id": "4130ca1a",
   "metadata": {},
   "outputs": [],
   "source": [
    "# parameters\n",
    "\n",
    "# set special tokens used for creating the decoder_input_ids from the labels\n",
    "model.config.decoder_start_token_id = processor.tokenizer.cls_token_id\n",
    "model.config.pad_token_id = processor.tokenizer.pad_token_id\n",
    "# make sure vocab size is set correctly\n",
    "model.config.vocab_size = 10\n",
    "\n",
    "# set beam search parameters\n",
    "model.config.eos_token_id = processor.tokenizer.sep_token_id\n",
    "model.config.max_length = 10\n",
    "model.config.early_stopping = True\n",
    "model.config.no_repeat_ngram_size = 3\n",
    "model.config.length_penalty = 2.0\n",
    "model.config.num_beams = 4"
   ]
  },
  {
   "cell_type": "markdown",
   "id": "13a1f0e4",
   "metadata": {},
   "source": [
    "#### Train the model with Seq2SeqTrainer"
   ]
  },
  {
   "cell_type": "code",
   "execution_count": 24,
   "id": "06dbbd11",
   "metadata": {
    "scrolled": true
   },
   "outputs": [
    {
     "name": "stderr",
     "output_type": "stream",
     "text": [
      "Using amp half precision backend\n",
      "C:\\Users\\A\\anaconda3\\envs\\tf-gpu\\lib\\site-packages\\transformers\\optimization.py:306: FutureWarning: This implementation of AdamW is deprecated and will be removed in a future version. Use the PyTorch implementation torch.optim.AdamW instead, or set `no_deprecation_warning=True` to disable this warning\n",
      "  warnings.warn(\n",
      "***** Running training *****\n",
      "  Num examples = 1782\n",
      "  Num Epochs = 3\n",
      "  Instantaneous batch size per device = 4\n",
      "  Total train batch size (w. parallel, distributed & accumulation) = 4\n",
      "  Gradient Accumulation steps = 1\n",
      "  Total optimization steps = 1338\n",
      "Automatic Weights & Biases logging enabled, to disable set os.environ[\"WANDB_DISABLED\"] = \"true\"\n",
      "\u001b[34m\u001b[1mwandb\u001b[0m: Currently logged in as: \u001b[33mpeterjans\u001b[0m. Use \u001b[1m`wandb login --relogin`\u001b[0m to force relogin\n"
     ]
    },
    {
     "data": {
      "text/html": [
       "wandb version 0.12.19 is available!  To upgrade, please run:\n",
       " $ pip install wandb --upgrade"
      ],
      "text/plain": [
       "<IPython.core.display.HTML object>"
      ]
     },
     "metadata": {},
     "output_type": "display_data"
    },
    {
     "data": {
      "text/html": [
       "Tracking run with wandb version 0.12.16"
      ],
      "text/plain": [
       "<IPython.core.display.HTML object>"
      ]
     },
     "metadata": {},
     "output_type": "display_data"
    },
    {
     "data": {
      "text/html": [
       "Run data is saved locally in <code>C:\\Users\\A\\Classification Aico\\modelling\\training\\wandb\\run-20220625_123720-39wvjy7n</code>"
      ],
      "text/plain": [
       "<IPython.core.display.HTML object>"
      ]
     },
     "metadata": {},
     "output_type": "display_data"
    },
    {
     "data": {
      "text/html": [
       "Syncing run <strong><a href=\"https://wandb.ai/peterjans/huggingface/runs/39wvjy7n\" target=\"_blank\">.</a></strong> to <a href=\"https://wandb.ai/peterjans/huggingface\" target=\"_blank\">Weights & Biases</a> (<a href=\"https://wandb.me/run\" target=\"_blank\">docs</a>)<br/>"
      ],
      "text/plain": [
       "<IPython.core.display.HTML object>"
      ]
     },
     "metadata": {},
     "output_type": "display_data"
    },
    {
     "data": {
      "text/html": [
       "\n",
       "    <div>\n",
       "      \n",
       "      <progress value='1338' max='1338' style='width:300px; height:20px; vertical-align: middle;'></progress>\n",
       "      [1338/1338 20:27, Epoch 3/3]\n",
       "    </div>\n",
       "    <table border=\"1\" class=\"dataframe\">\n",
       "  <thead>\n",
       " <tr style=\"text-align: left;\">\n",
       "      <th>Step</th>\n",
       "      <th>Training Loss</th>\n",
       "      <th>Validation Loss</th>\n",
       "      <th>Cer</th>\n",
       "      <th>Pred</th>\n",
       "      <th>Labels</th>\n",
       "      <th>Accuracy</th>\n",
       "      <th>Recall</th>\n",
       "      <th>Precision</th>\n",
       "    </tr>\n",
       "  </thead>\n",
       "  <tbody>\n",
       "    <tr>\n",
       "      <td>50</td>\n",
       "      <td>0.734300</td>\n",
       "      <td>0.790122</td>\n",
       "      <td>0.212121</td>\n",
       "      <td>['4', '6', '6', '6', '4', '4', '5', '8', '1', '4', '3', '0', '6', '1', '8', '6', '4', '0', '2', '0', '4', '3', '8', '0', '2', '4', '1', '2', '4', '1', '4', '2', '4', '3', '6', '7', '1', '2', '2', '7', '4', '3', '4', '4', '2', '4', '6', '3', '3', '8', '2', '4', '3', '5', '5', '1', '3', '2', '0', '6', '2', '3', '0', '3', '6', '6', '7', '2', '2', '6', '2', '6', '2', '0', '5', '4', '2', '1', '4', '8', '2', '4', '1', '3', '2', '1', '3', '2', '8', '5', '1', '4', '3', '2', '1', '8', '2', '5', '0', '4', '0', '4', '2', '4', '4', '6', '2', '5', '4', '2', '8', '2', '2', '2', '0', '8', '2', '6', '2', '2', '1', '1', '2', '1', '6', '4', '6', '7', '4', '2', '6', '5', '2', '4', '4', '8', '4', '8', '0', '5', '6', '2', '5', '5', '2', '2', '3', '3', '2', '4', '1', '2', '1', '5', '8', '6', '3', '1', '3', '2', '1', '0', '2', '8', '2', '5', '2', '4', '2', '1', '4', '6', '5', '5', '0', '4', '5', '2', '2', '0', '0', '8', '5', '0', '4', '4', '3', '2', '4', '1', '8', '5', '8', '8', '5', '6', '5', '8']</td>\n",
       "      <td>['1', '6', '6', '6', '4', '7', '5', '8', '1', '7', '3', '0', '6', '1', '8', '6', '4', '0', '9', '0', '4', '3', '8', '0', '3', '1', '1', '2', '4', '1', '7', '2', '4', '3', '6', '7', '1', '7', '7', '7', '4', '3', '4', '4', '2', '4', '6', '3', '3', '8', '3', '6', '3', '3', '5', '1', '3', '2', '0', '6', '2', '3', '0', '3', '6', '6', '7', '2', '7', '6', '2', '6', '2', '0', '9', '4', '2', '1', '1', '8', '2', '1', '1', '3', '7', '1', '3', '2', '8', '5', '1', '4', '3', '2', '1', '8', '0', '9', '0', '1', '0', '4', '2', '4', '4', '6', '7', '5', '4', '7', '8', '7', '7', '2', '0', '8', '2', '6', '2', '2', '1', '1', '7', '1', '6', '7', '6', '7', '1', '2', '6', '9', '7', '7', '4', '8', '7', '8', '4', '5', '6', '9', '5', '5', '2', '7', '3', '3', '2', '4', '1', '2', '1', '9', '8', '6', '3', '1', '3', '2', '1', '0', '2', '8', '7', '4', '2', '4', '2', '1', '4', '6', '5', '5', '0', '4', '5', '7', '2', '0', '0', '8', '5', '0', '4', '7', '3', '2', '4', '1', '8', '5', '8', '8', '9', '6', '3', '9']</td>\n",
       "      <td>0.787879</td>\n",
       "      <td>0.787879</td>\n",
       "      <td>0.823850</td>\n",
       "    </tr>\n",
       "    <tr>\n",
       "      <td>100</td>\n",
       "      <td>0.753000</td>\n",
       "      <td>0.751251</td>\n",
       "      <td>0.156566</td>\n",
       "      <td>['7', '6', '6', '6', '6', '7', '5', '8', '1', '7', '3', '0', '6', '1', '8', '6', '6', '0', '7', '0', '1', '3', '8', '0', '8', '1', '1', '2', '1', '1', '7', '2', '6', '3', '6', '7', '1', '7', '7', '7', '1', '8', '6', '1', '2', '7', '6', '3', '3', '8', '7', '6', '3', '3', '5', '1', '3', '2', '0', '6', '2', '3', '0', '3', '6', '6', '7', '2', '7', '6', '2', '6', '2', '0', '9', '4', '2', '1', '1', '8', '2', '1', '1', '3', '7', '1', '3', '2', '8', '5', '1', '6', '3', '2', '1', '8', '0', '8', '0', '1', '0', '1', '2', '1', '1', '6', '7', '5', '4', '7', '8', '7', '7', '2', '0', '8', '2', '6', '2', '2', '1', '1', '7', '1', '6', '7', '6', '7', '1', '2', '6', '9', '7', '6', '6', '8', '7', '8', '0', '5', '6', '8', '5', '6', '2', '7', '3', '3', '2', '6', '1', '2', '1', '9', '8', '6', '3', '1', '3', '2', '1', '0', '2', '8', '7', '6', '2', '6', '2', '1', '6', '6', '5', '5', '0', '1', '5', '7', '2', '0', '0', '8', '5', '0', '4', '7', '3', '2', '1', '1', '8', '5', '8', '8', '9', '6', '3', '8']</td>\n",
       "      <td>['1', '6', '6', '6', '4', '7', '5', '8', '1', '7', '3', '0', '6', '1', '8', '6', '4', '0', '9', '0', '4', '3', '8', '0', '3', '1', '1', '2', '4', '1', '7', '2', '4', '3', '6', '7', '1', '7', '7', '7', '4', '3', '4', '4', '2', '4', '6', '3', '3', '8', '3', '6', '3', '3', '5', '1', '3', '2', '0', '6', '2', '3', '0', '3', '6', '6', '7', '2', '7', '6', '2', '6', '2', '0', '9', '4', '2', '1', '1', '8', '2', '1', '1', '3', '7', '1', '3', '2', '8', '5', '1', '4', '3', '2', '1', '8', '0', '9', '0', '1', '0', '4', '2', '4', '4', '6', '7', '5', '4', '7', '8', '7', '7', '2', '0', '8', '2', '6', '2', '2', '1', '1', '7', '1', '6', '7', '6', '7', '1', '2', '6', '9', '7', '7', '4', '8', '7', '8', '4', '5', '6', '9', '5', '5', '2', '7', '3', '3', '2', '4', '1', '2', '1', '9', '8', '6', '3', '1', '3', '2', '1', '0', '2', '8', '7', '4', '2', '4', '2', '1', '4', '6', '5', '5', '0', '4', '5', '7', '2', '0', '0', '8', '5', '0', '4', '7', '3', '2', '4', '1', '8', '5', '8', '8', '9', '6', '3', '9']</td>\n",
       "      <td>0.843434</td>\n",
       "      <td>0.843434</td>\n",
       "      <td>0.883801</td>\n",
       "    </tr>\n",
       "    <tr>\n",
       "      <td>150</td>\n",
       "      <td>0.770700</td>\n",
       "      <td>0.719087</td>\n",
       "      <td>0.085859</td>\n",
       "      <td>['1', '6', '6', '6', '4', '7', '5', '8', '1', '1', '3', '0', '6', '1', '8', '6', '4', '0', '9', '0', '4', '3', '8', '0', '3', '1', '1', '2', '4', '1', '7', '2', '4', '3', '6', '1', '1', '7', '3', '7', '1', '3', '4', '4', '2', '4', '6', '3', '3', '8', '7', '6', '3', '3', '5', '1', '5', '2', '0', '6', '2', '3', '0', '3', '6', '6', '7', '2', '7', '6', '2', '6', '2', '0', '9', '4', '2', '1', '1', '8', '2', '1', '1', '3', '7', '1', '3', '2', '8', '5', '1', '4', '3', '2', '1', '8', '2', '9', '0', '1', '0', '4', '2', '4', '4', '6', '2', '5', '4', '7', '8', '7', '7', '2', '2', '8', '2', '6', '2', '2', '1', '1', '7', '1', '6', '1', '6', '7', '1', '2', '6', '9', '7', '1', '4', '8', '1', '8', '0', '5', '6', '1', '5', '5', '2', '7', '3', '3', '2', '4', '1', '2', '1', '9', '8', '6', '3', '1', '3', '2', '1', '0', '2', '8', '7', '4', '2', '4', '2', '1', '4', '6', '5', '5', '0', '4', '5', '2', '2', '0', '0', '8', '5', '0', '4', '1', '3', '2', '4', '1', '8', '5', '8', '8', '9', '6', '3', '8']</td>\n",
       "      <td>['1', '6', '6', '6', '4', '7', '5', '8', '1', '7', '3', '0', '6', '1', '8', '6', '4', '0', '9', '0', '4', '3', '8', '0', '3', '1', '1', '2', '4', '1', '7', '2', '4', '3', '6', '7', '1', '7', '7', '7', '4', '3', '4', '4', '2', '4', '6', '3', '3', '8', '3', '6', '3', '3', '5', '1', '3', '2', '0', '6', '2', '3', '0', '3', '6', '6', '7', '2', '7', '6', '2', '6', '2', '0', '9', '4', '2', '1', '1', '8', '2', '1', '1', '3', '7', '1', '3', '2', '8', '5', '1', '4', '3', '2', '1', '8', '0', '9', '0', '1', '0', '4', '2', '4', '4', '6', '7', '5', '4', '7', '8', '7', '7', '2', '0', '8', '2', '6', '2', '2', '1', '1', '7', '1', '6', '7', '6', '7', '1', '2', '6', '9', '7', '7', '4', '8', '7', '8', '4', '5', '6', '9', '5', '5', '2', '7', '3', '3', '2', '4', '1', '2', '1', '9', '8', '6', '3', '1', '3', '2', '1', '0', '2', '8', '7', '4', '2', '4', '2', '1', '4', '6', '5', '5', '0', '4', '5', '7', '2', '0', '0', '8', '5', '0', '4', '7', '3', '2', '4', '1', '8', '5', '8', '8', '9', '6', '3', '9']</td>\n",
       "      <td>0.914141</td>\n",
       "      <td>0.914141</td>\n",
       "      <td>0.923822</td>\n",
       "    </tr>\n",
       "    <tr>\n",
       "      <td>200</td>\n",
       "      <td>0.582500</td>\n",
       "      <td>0.664581</td>\n",
       "      <td>0.040404</td>\n",
       "      <td>['7', '6', '6', '6', '4', '7', '5', '8', '1', '7', '3', '0', '6', '1', '8', '6', '4', '0', '9', '0', '4', '3', '8', '0', '3', '1', '1', '2', '4', '1', '7', '2', '4', '3', '6', '7', '1', '7', '7', '7', '4', '3', '4', '4', '2', '7', '6', '3', '3', '8', '3', '6', '3', '3', '5', '1', '3', '2', '0', '6', '2', '3', '0', '3', '6', '6', '7', '2', '9', '6', '2', '6', '2', '0', '9', '4', '2', '1', '1', '8', '2', '1', '1', '3', '7', '1', '3', '2', '8', '5', '1', '9', '3', '2', '1', '8', '0', '9', '0', '1', '0', '4', '2', '4', '4', '6', '9', '5', '4', '7', '8', '7', '7', '2', '0', '8', '2', '5', '2', '2', '1', '1', '7', '1', '6', '7', '6', '7', '1', '2', '6', '9', '7', '1', '4', '8', '7', '8', '0', '5', '6', '9', '5', '5', '2', '7', '3', '3', '2', '4', '1', '2', '1', '9', '8', '6', '3', '1', '3', '2', '1', '0', '2', '8', '7', '4', '2', '4', '2', '1', '4', '6', '5', '5', '0', '4', '5', '7', '2', '0', '0', '8', '5', '0', '4', '7', '3', '2', '4', '1', '8', '5', '8', '8', '9', '6', '3', '9']</td>\n",
       "      <td>['1', '6', '6', '6', '4', '7', '5', '8', '1', '7', '3', '0', '6', '1', '8', '6', '4', '0', '9', '0', '4', '3', '8', '0', '3', '1', '1', '2', '4', '1', '7', '2', '4', '3', '6', '7', '1', '7', '7', '7', '4', '3', '4', '4', '2', '4', '6', '3', '3', '8', '3', '6', '3', '3', '5', '1', '3', '2', '0', '6', '2', '3', '0', '3', '6', '6', '7', '2', '7', '6', '2', '6', '2', '0', '9', '4', '2', '1', '1', '8', '2', '1', '1', '3', '7', '1', '3', '2', '8', '5', '1', '4', '3', '2', '1', '8', '0', '9', '0', '1', '0', '4', '2', '4', '4', '6', '7', '5', '4', '7', '8', '7', '7', '2', '0', '8', '2', '6', '2', '2', '1', '1', '7', '1', '6', '7', '6', '7', '1', '2', '6', '9', '7', '7', '4', '8', '7', '8', '4', '5', '6', '9', '5', '5', '2', '7', '3', '3', '2', '4', '1', '2', '1', '9', '8', '6', '3', '1', '3', '2', '1', '0', '2', '8', '7', '4', '2', '4', '2', '1', '4', '6', '5', '5', '0', '4', '5', '7', '2', '0', '0', '8', '5', '0', '4', '7', '3', '2', '4', '1', '8', '5', '8', '8', '9', '6', '3', '9']</td>\n",
       "      <td>0.959596</td>\n",
       "      <td>0.959596</td>\n",
       "      <td>0.963975</td>\n",
       "    </tr>\n",
       "    <tr>\n",
       "      <td>250</td>\n",
       "      <td>0.581400</td>\n",
       "      <td>0.586861</td>\n",
       "      <td>0.030303</td>\n",
       "      <td>['4', '6', '6', '6', '4', '7', '5', '8', '1', '7', '3', '0', '6', '1', '8', '6', '4', '0', '9', '8', '4', '3', '8', '0', '3', '1', '1', '2', '4', '1', '7', '2', '4', '3', '6', '7', '1', '7', '7', '7', '4', '3', '4', '4', '2', '4', '6', '3', '3', '8', '7', '6', '3', '3', '5', '1', '3', '2', '0', '6', '2', '3', '0', '3', '6', '6', '7', '2', '7', '6', '2', '6', '2', '0', '9', '4', '2', '1', '1', '8', '2', '1', '1', '3', '7', '1', '3', '2', '8', '5', '1', '9', '3', '2', '1', '8', '2', '9', '0', '1', '0', '4', '2', '4', '4', '6', '7', '5', '4', '7', '8', '7', '7', '2', '0', '8', '2', '6', '2', '2', '1', '1', '7', '1', '6', '7', '6', '7', '1', '2', '6', '9', '7', '7', '4', '8', '7', '8', '0', '5', '6', '9', '5', '5', '2', '7', '3', '3', '2', '4', '1', '2', '1', '9', '8', '6', '3', '1', '3', '2', '1', '0', '2', '8', '7', '4', '2', '4', '2', '1', '4', '6', '5', '5', '0', '4', '5', '7', '2', '0', '0', '8', '5', '0', '4', '7', '3', '2', '4', '1', '8', '5', '8', '8', '9', '6', '3', '9']</td>\n",
       "      <td>['1', '6', '6', '6', '4', '7', '5', '8', '1', '7', '3', '0', '6', '1', '8', '6', '4', '0', '9', '0', '4', '3', '8', '0', '3', '1', '1', '2', '4', '1', '7', '2', '4', '3', '6', '7', '1', '7', '7', '7', '4', '3', '4', '4', '2', '4', '6', '3', '3', '8', '3', '6', '3', '3', '5', '1', '3', '2', '0', '6', '2', '3', '0', '3', '6', '6', '7', '2', '7', '6', '2', '6', '2', '0', '9', '4', '2', '1', '1', '8', '2', '1', '1', '3', '7', '1', '3', '2', '8', '5', '1', '4', '3', '2', '1', '8', '0', '9', '0', '1', '0', '4', '2', '4', '4', '6', '7', '5', '4', '7', '8', '7', '7', '2', '0', '8', '2', '6', '2', '2', '1', '1', '7', '1', '6', '7', '6', '7', '1', '2', '6', '9', '7', '7', '4', '8', '7', '8', '4', '5', '6', '9', '5', '5', '2', '7', '3', '3', '2', '4', '1', '2', '1', '9', '8', '6', '3', '1', '3', '2', '1', '0', '2', '8', '7', '4', '2', '4', '2', '1', '4', '6', '5', '5', '0', '4', '5', '7', '2', '0', '0', '8', '5', '0', '4', '7', '3', '2', '4', '1', '8', '5', '8', '8', '9', '6', '3', '9']</td>\n",
       "      <td>0.969697</td>\n",
       "      <td>0.969697</td>\n",
       "      <td>0.970365</td>\n",
       "    </tr>\n",
       "    <tr>\n",
       "      <td>300</td>\n",
       "      <td>0.689100</td>\n",
       "      <td>0.624292</td>\n",
       "      <td>0.030303</td>\n",
       "      <td>['1', '6', '6', '6', '4', '7', '5', '8', '1', '7', '3', '0', '6', '1', '8', '6', '4', '0', '9', '8', '4', '3', '8', '0', '3', '1', '1', '2', '4', '1', '7', '2', '4', '3', '6', '7', '1', '7', '3', '7', '4', '3', '4', '4', '2', '4', '6', '3', '3', '8', '3', '6', '3', '3', '5', '1', '3', '2', '0', '6', '2', '3', '0', '3', '6', '6', '7', '2', '7', '6', '2', '6', '9', '0', '9', '4', '2', '1', '1', '8', '2', '1', '1', '3', '7', '1', '3', '2', '8', '5', '1', '4', '3', '2', '1', '8', '0', '9', '0', '1', '0', '4', '2', '4', '4', '6', '3', '5', '4', '7', '8', '7', '7', '2', '0', '8', '2', '6', '2', '2', '1', '1', '7', '1', '6', '7', '6', '7', '1', '2', '6', '9', '7', '7', '4', '8', '7', '8', '0', '5', '6', '9', '5', '5', '2', '7', '3', '3', '2', '4', '1', '2', '1', '9', '8', '6', '3', '1', '3', '2', '1', '0', '2', '8', '7', '5', '2', '4', '2', '1', '4', '6', '5', '5', '0', '4', '5', '7', '2', '0', '0', '8', '5', '0', '4', '7', '3', '2', '4', '1', '8', '5', '8', '8', '9', '6', '3', '9']</td>\n",
       "      <td>['1', '6', '6', '6', '4', '7', '5', '8', '1', '7', '3', '0', '6', '1', '8', '6', '4', '0', '9', '0', '4', '3', '8', '0', '3', '1', '1', '2', '4', '1', '7', '2', '4', '3', '6', '7', '1', '7', '7', '7', '4', '3', '4', '4', '2', '4', '6', '3', '3', '8', '3', '6', '3', '3', '5', '1', '3', '2', '0', '6', '2', '3', '0', '3', '6', '6', '7', '2', '7', '6', '2', '6', '2', '0', '9', '4', '2', '1', '1', '8', '2', '1', '1', '3', '7', '1', '3', '2', '8', '5', '1', '4', '3', '2', '1', '8', '0', '9', '0', '1', '0', '4', '2', '4', '4', '6', '7', '5', '4', '7', '8', '7', '7', '2', '0', '8', '2', '6', '2', '2', '1', '1', '7', '1', '6', '7', '6', '7', '1', '2', '6', '9', '7', '7', '4', '8', '7', '8', '4', '5', '6', '9', '5', '5', '2', '7', '3', '3', '2', '4', '1', '2', '1', '9', '8', '6', '3', '1', '3', '2', '1', '0', '2', '8', '7', '4', '2', '4', '2', '1', '4', '6', '5', '5', '0', '4', '5', '7', '2', '0', '0', '8', '5', '0', '4', '7', '3', '2', '4', '1', '8', '5', '8', '8', '9', '6', '3', '9']</td>\n",
       "      <td>0.969697</td>\n",
       "      <td>0.969697</td>\n",
       "      <td>0.971769</td>\n",
       "    </tr>\n",
       "    <tr>\n",
       "      <td>350</td>\n",
       "      <td>0.747000</td>\n",
       "      <td>0.587177</td>\n",
       "      <td>0.040404</td>\n",
       "      <td>['1', '6', '6', '6', '4', '7', '5', '8', '1', '7', '3', '0', '6', '1', '8', '6', '4', '0', '9', '8', '4', '3', '8', '0', '3', '1', '1', '2', '4', '1', '7', '2', '4', '3', '6', '7', '1', '7', '7', '7', '4', '3', '4', '4', '2', '4', '6', '3', '3', '8', '7', '6', '3', '3', '5', '1', '5', '2', '0', '6', '2', '3', '0', '3', '6', '6', '7', '2', '7', '6', '2', '6', '9', '0', '9', '4', '2', '1', '1', '8', '2', '1', '1', '3', '7', '1', '3', '2', '8', '5', '1', '4', '3', '2', '1', '8', '0', '9', '0', '1', '0', '4', '2', '4', '4', '6', '7', '5', '4', '7', '8', '7', '7', '2', '0', '8', '2', '6', '2', '2', '1', '1', '7', '1', '6', '1', '6', '7', '1', '2', '6', '9', '7', '6', '4', '8', '7', '8', '0', '5', '6', '9', '5', '5', '2', '7', '3', '3', '2', '4', '1', '2', '1', '9', '8', '6', '3', '1', '3', '2', '1', '0', '2', '8', '7', '4', '2', '4', '2', '1', '4', '6', '5', '5', '0', '4', '5', '2', '2', '0', '0', '8', '5', '0', '4', '7', '3', '2', '4', '1', '8', '5', '8', '8', '9', '6', '3', '9']</td>\n",
       "      <td>['1', '6', '6', '6', '4', '7', '5', '8', '1', '7', '3', '0', '6', '1', '8', '6', '4', '0', '9', '0', '4', '3', '8', '0', '3', '1', '1', '2', '4', '1', '7', '2', '4', '3', '6', '7', '1', '7', '7', '7', '4', '3', '4', '4', '2', '4', '6', '3', '3', '8', '3', '6', '3', '3', '5', '1', '3', '2', '0', '6', '2', '3', '0', '3', '6', '6', '7', '2', '7', '6', '2', '6', '2', '0', '9', '4', '2', '1', '1', '8', '2', '1', '1', '3', '7', '1', '3', '2', '8', '5', '1', '4', '3', '2', '1', '8', '0', '9', '0', '1', '0', '4', '2', '4', '4', '6', '7', '5', '4', '7', '8', '7', '7', '2', '0', '8', '2', '6', '2', '2', '1', '1', '7', '1', '6', '7', '6', '7', '1', '2', '6', '9', '7', '7', '4', '8', '7', '8', '4', '5', '6', '9', '5', '5', '2', '7', '3', '3', '2', '4', '1', '2', '1', '9', '8', '6', '3', '1', '3', '2', '1', '0', '2', '8', '7', '4', '2', '4', '2', '1', '4', '6', '5', '5', '0', '4', '5', '7', '2', '0', '0', '8', '5', '0', '4', '7', '3', '2', '4', '1', '8', '5', '8', '8', '9', '6', '3', '9']</td>\n",
       "      <td>0.959596</td>\n",
       "      <td>0.959596</td>\n",
       "      <td>0.960774</td>\n",
       "    </tr>\n",
       "    <tr>\n",
       "      <td>400</td>\n",
       "      <td>0.588800</td>\n",
       "      <td>0.637405</td>\n",
       "      <td>0.025253</td>\n",
       "      <td>['1', '6', '6', '6', '4', '7', '5', '8', '1', '7', '3', '0', '6', '1', '8', '6', '4', '0', '9', '8', '4', '3', '8', '0', '3', '1', '1', '2', '4', '1', '7', '2', '4', '3', '6', '7', '1', '7', '7', '7', '4', '3', '4', '4', '2', '4', '6', '3', '3', '8', '7', '6', '3', '3', '5', '1', '3', '2', '0', '6', '2', '3', '0', '3', '6', '6', '7', '2', '7', '6', '2', '6', '9', '0', '9', '4', '2', '1', '1', '8', '2', '1', '1', '3', '7', '1', '3', '2', '8', '5', '1', '4', '3', '2', '1', '8', '0', '9', '0', '1', '0', '4', '2', '4', '4', '6', '7', '5', '4', '7', '8', '7', '7', '2', '0', '8', '2', '6', '2', '2', '1', '1', '7', '1', '6', '7', '6', '7', '1', '2', '6', '9', '7', '7', '4', '8', '7', '8', '0', '5', '6', '9', '5', '5', '2', '7', '3', '3', '2', '4', '1', '2', '1', '9', '8', '6', '3', '1', '3', '2', '1', '0', '2', '8', '7', '4', '2', '4', '2', '1', '4', '6', '5', '5', '0', '4', '5', '2', '2', '0', '0', '8', '5', '0', '4', '7', '3', '2', '4', '1', '8', '5', '8', '8', '9', '6', '3', '9']</td>\n",
       "      <td>['1', '6', '6', '6', '4', '7', '5', '8', '1', '7', '3', '0', '6', '1', '8', '6', '4', '0', '9', '0', '4', '3', '8', '0', '3', '1', '1', '2', '4', '1', '7', '2', '4', '3', '6', '7', '1', '7', '7', '7', '4', '3', '4', '4', '2', '4', '6', '3', '3', '8', '3', '6', '3', '3', '5', '1', '3', '2', '0', '6', '2', '3', '0', '3', '6', '6', '7', '2', '7', '6', '2', '6', '2', '0', '9', '4', '2', '1', '1', '8', '2', '1', '1', '3', '7', '1', '3', '2', '8', '5', '1', '4', '3', '2', '1', '8', '0', '9', '0', '1', '0', '4', '2', '4', '4', '6', '7', '5', '4', '7', '8', '7', '7', '2', '0', '8', '2', '6', '2', '2', '1', '1', '7', '1', '6', '7', '6', '7', '1', '2', '6', '9', '7', '7', '4', '8', '7', '8', '4', '5', '6', '9', '5', '5', '2', '7', '3', '3', '2', '4', '1', '2', '1', '9', '8', '6', '3', '1', '3', '2', '1', '0', '2', '8', '7', '4', '2', '4', '2', '1', '4', '6', '5', '5', '0', '4', '5', '7', '2', '0', '0', '8', '5', '0', '4', '7', '3', '2', '4', '1', '8', '5', '8', '8', '9', '6', '3', '9']</td>\n",
       "      <td>0.974747</td>\n",
       "      <td>0.974747</td>\n",
       "      <td>0.975589</td>\n",
       "    </tr>\n",
       "    <tr>\n",
       "      <td>450</td>\n",
       "      <td>0.498900</td>\n",
       "      <td>0.560378</td>\n",
       "      <td>0.025253</td>\n",
       "      <td>['1', '6', '6', '6', '4', '7', '5', '8', '1', '7', '3', '0', '6', '1', '8', '6', '4', '0', '9', '0', '4', '3', '8', '0', '3', '1', '1', '2', '4', '1', '7', '2', '4', '3', '6', '7', '1', '7', '7', '7', '4', '3', '4', '4', '2', '4', '6', '3', '3', '8', '7', '6', '3', '3', '5', '1', '3', '2', '0', '6', '2', '3', '0', '3', '6', '6', '7', '2', '7', '6', '2', '6', '9', '0', '9', '4', '2', '1', '1', '8', '2', '1', '1', '3', '7', '1', '3', '2', '8', '5', '1', '4', '3', '2', '1', '8', '0', '9', '0', '1', '0', '4', '2', '4', '4', '6', '7', '5', '4', '7', '8', '7', '7', '2', '0', '8', '2', '6', '2', '2', '1', '1', '7', '1', '6', '7', '6', '7', '1', '2', '6', '9', '7', '7', '4', '8', '7', '8', '0', '5', '6', '4', '5', '5', '2', '7', '3', '3', '2', '4', '1', '2', '1', '9', '8', '6', '3', '1', '3', '2', '1', '0', '2', '8', '7', '4', '2', '4', '2', '1', '4', '6', '5', '5', '0', '4', '5', '2', '2', '0', '0', '8', '5', '0', '4', '7', '3', '2', '4', '1', '8', '5', '8', '8', '9', '6', '3', '9']</td>\n",
       "      <td>['1', '6', '6', '6', '4', '7', '5', '8', '1', '7', '3', '0', '6', '1', '8', '6', '4', '0', '9', '0', '4', '3', '8', '0', '3', '1', '1', '2', '4', '1', '7', '2', '4', '3', '6', '7', '1', '7', '7', '7', '4', '3', '4', '4', '2', '4', '6', '3', '3', '8', '3', '6', '3', '3', '5', '1', '3', '2', '0', '6', '2', '3', '0', '3', '6', '6', '7', '2', '7', '6', '2', '6', '2', '0', '9', '4', '2', '1', '1', '8', '2', '1', '1', '3', '7', '1', '3', '2', '8', '5', '1', '4', '3', '2', '1', '8', '0', '9', '0', '1', '0', '4', '2', '4', '4', '6', '7', '5', '4', '7', '8', '7', '7', '2', '0', '8', '2', '6', '2', '2', '1', '1', '7', '1', '6', '7', '6', '7', '1', '2', '6', '9', '7', '7', '4', '8', '7', '8', '4', '5', '6', '9', '5', '5', '2', '7', '3', '3', '2', '4', '1', '2', '1', '9', '8', '6', '3', '1', '3', '2', '1', '0', '2', '8', '7', '4', '2', '4', '2', '1', '4', '6', '5', '5', '0', '4', '5', '7', '2', '0', '0', '8', '5', '0', '4', '7', '3', '2', '4', '1', '8', '5', '8', '8', '9', '6', '3', '9']</td>\n",
       "      <td>0.974747</td>\n",
       "      <td>0.974747</td>\n",
       "      <td>0.975045</td>\n",
       "    </tr>\n",
       "    <tr>\n",
       "      <td>500</td>\n",
       "      <td>0.508500</td>\n",
       "      <td>0.583704</td>\n",
       "      <td>0.010101</td>\n",
       "      <td>['1', '6', '6', '6', '4', '7', '5', '8', '1', '7', '3', '0', '6', '1', '8', '6', '4', '0', '9', '0', '4', '3', '8', '0', '3', '1', '1', '2', '4', '1', '7', '2', '4', '3', '6', '7', '1', '7', '7', '7', '4', '3', '4', '4', '2', '4', '6', '3', '3', '8', '7', '6', '3', '3', '5', '1', '3', '2', '0', '6', '2', '3', '0', '3', '6', '6', '7', '2', '7', '6', '2', '6', '2', '0', '9', '4', '2', '1', '1', '8', '2', '1', '1', '3', '7', '1', '3', '2', '8', '5', '1', '4', '3', '2', '1', '8', '0', '9', '0', '1', '0', '4', '2', '4', '4', '6', '7', '5', '4', '7', '8', '7', '7', '2', '0', '8', '2', '6', '2', '2', '1', '1', '7', '1', '6', '7', '6', '7', '1', '2', '6', '9', '7', '7', '4', '8', '7', '8', '0', '5', '6', '9', '5', '5', '2', '7', '3', '3', '2', '4', '1', '2', '1', '9', '8', '6', '3', '1', '3', '2', '1', '0', '2', '8', '7', '4', '2', '4', '2', '1', '4', '6', '5', '5', '0', '4', '5', '7', '2', '0', '0', '8', '5', '0', '4', '7', '3', '2', '4', '1', '8', '5', '8', '8', '9', '6', '3', '9']</td>\n",
       "      <td>['1', '6', '6', '6', '4', '7', '5', '8', '1', '7', '3', '0', '6', '1', '8', '6', '4', '0', '9', '0', '4', '3', '8', '0', '3', '1', '1', '2', '4', '1', '7', '2', '4', '3', '6', '7', '1', '7', '7', '7', '4', '3', '4', '4', '2', '4', '6', '3', '3', '8', '3', '6', '3', '3', '5', '1', '3', '2', '0', '6', '2', '3', '0', '3', '6', '6', '7', '2', '7', '6', '2', '6', '2', '0', '9', '4', '2', '1', '1', '8', '2', '1', '1', '3', '7', '1', '3', '2', '8', '5', '1', '4', '3', '2', '1', '8', '0', '9', '0', '1', '0', '4', '2', '4', '4', '6', '7', '5', '4', '7', '8', '7', '7', '2', '0', '8', '2', '6', '2', '2', '1', '1', '7', '1', '6', '7', '6', '7', '1', '2', '6', '9', '7', '7', '4', '8', '7', '8', '4', '5', '6', '9', '5', '5', '2', '7', '3', '3', '2', '4', '1', '2', '1', '9', '8', '6', '3', '1', '3', '2', '1', '0', '2', '8', '7', '4', '2', '4', '2', '1', '4', '6', '5', '5', '0', '4', '5', '7', '2', '0', '0', '8', '5', '0', '4', '7', '3', '2', '4', '1', '8', '5', '8', '8', '9', '6', '3', '9']</td>\n",
       "      <td>0.989899</td>\n",
       "      <td>0.989899</td>\n",
       "      <td>0.990398</td>\n",
       "    </tr>\n",
       "    <tr>\n",
       "      <td>550</td>\n",
       "      <td>0.336100</td>\n",
       "      <td>0.544393</td>\n",
       "      <td>0.015152</td>\n",
       "      <td>['1', '6', '6', '6', '4', '7', '5', '8', '1', '7', '3', '0', '6', '1', '8', '6', '4', '0', '9', '0', '4', '3', '8', '0', '3', '1', '1', '2', '4', '1', '7', '2', '4', '3', '6', '7', '1', '7', '7', '7', '4', '3', '4', '4', '2', '4', '6', '3', '3', '8', '7', '6', '3', '3', '5', '1', '3', '2', '0', '6', '2', '3', '0', '3', '6', '6', '7', '2', '7', '6', '2', '6', '9', '0', '9', '4', '2', '1', '1', '8', '2', '1', '1', '3', '7', '1', '3', '2', '8', '5', '1', '4', '3', '2', '1', '8', '0', '9', '0', '1', '0', '4', '2', '4', '4', '6', '7', '5', '4', '7', '8', '7', '7', '2', '0', '8', '2', '6', '2', '2', '1', '1', '7', '1', '6', '7', '6', '7', '1', '2', '6', '9', '7', '7', '4', '8', '7', '8', '0', '5', '6', '9', '5', '5', '2', '7', '3', '3', '2', '4', '1', '2', '1', '9', '8', '6', '3', '1', '3', '2', '1', '0', '2', '8', '7', '4', '2', '4', '2', '1', '4', '6', '5', '5', '0', '4', '5', '7', '2', '0', '0', '8', '5', '0', '4', '7', '3', '2', '4', '1', '8', '5', '8', '8', '9', '6', '3', '9']</td>\n",
       "      <td>['1', '6', '6', '6', '4', '7', '5', '8', '1', '7', '3', '0', '6', '1', '8', '6', '4', '0', '9', '0', '4', '3', '8', '0', '3', '1', '1', '2', '4', '1', '7', '2', '4', '3', '6', '7', '1', '7', '7', '7', '4', '3', '4', '4', '2', '4', '6', '3', '3', '8', '3', '6', '3', '3', '5', '1', '3', '2', '0', '6', '2', '3', '0', '3', '6', '6', '7', '2', '7', '6', '2', '6', '2', '0', '9', '4', '2', '1', '1', '8', '2', '1', '1', '3', '7', '1', '3', '2', '8', '5', '1', '4', '3', '2', '1', '8', '0', '9', '0', '1', '0', '4', '2', '4', '4', '6', '7', '5', '4', '7', '8', '7', '7', '2', '0', '8', '2', '6', '2', '2', '1', '1', '7', '1', '6', '7', '6', '7', '1', '2', '6', '9', '7', '7', '4', '8', '7', '8', '4', '5', '6', '9', '5', '5', '2', '7', '3', '3', '2', '4', '1', '2', '1', '9', '8', '6', '3', '1', '3', '2', '1', '0', '2', '8', '7', '4', '2', '4', '2', '1', '4', '6', '5', '5', '0', '4', '5', '7', '2', '0', '0', '8', '5', '0', '4', '7', '3', '2', '4', '1', '8', '5', '8', '8', '9', '6', '3', '9']</td>\n",
       "      <td>0.984848</td>\n",
       "      <td>0.984848</td>\n",
       "      <td>0.985909</td>\n",
       "    </tr>\n",
       "    <tr>\n",
       "      <td>600</td>\n",
       "      <td>0.462300</td>\n",
       "      <td>0.572179</td>\n",
       "      <td>0.010101</td>\n",
       "      <td>['1', '6', '6', '6', '4', '7', '5', '8', '1', '7', '3', '0', '6', '1', '8', '6', '4', '0', '9', '0', '4', '3', '8', '0', '3', '1', '1', '2', '4', '1', '7', '2', '4', '3', '6', '7', '1', '7', '7', '7', '4', '3', '4', '4', '2', '4', '6', '3', '3', '8', '7', '6', '3', '3', '5', '1', '3', '2', '0', '6', '2', '3', '0', '3', '6', '6', '7', '2', '7', '6', '2', '6', '2', '0', '9', '4', '2', '1', '1', '8', '2', '1', '1', '3', '7', '1', '3', '2', '8', '5', '1', '4', '3', '2', '1', '8', '0', '9', '0', '1', '0', '4', '2', '4', '4', '6', '7', '5', '4', '7', '8', '7', '7', '2', '0', '8', '2', '6', '2', '2', '1', '1', '7', '1', '6', '7', '6', '7', '1', '2', '6', '9', '7', '7', '4', '8', '7', '8', '0', '5', '6', '9', '5', '5', '2', '7', '3', '3', '2', '4', '1', '2', '1', '9', '8', '6', '3', '1', '3', '2', '1', '0', '2', '8', '7', '4', '2', '4', '2', '1', '4', '6', '5', '5', '0', '4', '5', '7', '2', '0', '0', '8', '5', '0', '4', '7', '3', '2', '4', '1', '8', '5', '8', '8', '9', '6', '3', '9']</td>\n",
       "      <td>['1', '6', '6', '6', '4', '7', '5', '8', '1', '7', '3', '0', '6', '1', '8', '6', '4', '0', '9', '0', '4', '3', '8', '0', '3', '1', '1', '2', '4', '1', '7', '2', '4', '3', '6', '7', '1', '7', '7', '7', '4', '3', '4', '4', '2', '4', '6', '3', '3', '8', '3', '6', '3', '3', '5', '1', '3', '2', '0', '6', '2', '3', '0', '3', '6', '6', '7', '2', '7', '6', '2', '6', '2', '0', '9', '4', '2', '1', '1', '8', '2', '1', '1', '3', '7', '1', '3', '2', '8', '5', '1', '4', '3', '2', '1', '8', '0', '9', '0', '1', '0', '4', '2', '4', '4', '6', '7', '5', '4', '7', '8', '7', '7', '2', '0', '8', '2', '6', '2', '2', '1', '1', '7', '1', '6', '7', '6', '7', '1', '2', '6', '9', '7', '7', '4', '8', '7', '8', '4', '5', '6', '9', '5', '5', '2', '7', '3', '3', '2', '4', '1', '2', '1', '9', '8', '6', '3', '1', '3', '2', '1', '0', '2', '8', '7', '4', '2', '4', '2', '1', '4', '6', '5', '5', '0', '4', '5', '7', '2', '0', '0', '8', '5', '0', '4', '7', '3', '2', '4', '1', '8', '5', '8', '8', '9', '6', '3', '9']</td>\n",
       "      <td>0.989899</td>\n",
       "      <td>0.989899</td>\n",
       "      <td>0.990398</td>\n",
       "    </tr>\n",
       "    <tr>\n",
       "      <td>650</td>\n",
       "      <td>0.599200</td>\n",
       "      <td>0.555346</td>\n",
       "      <td>0.040404</td>\n",
       "      <td>['4', '6', '6', '6', '4', '7', '5', '8', '1', '7', '3', '0', '6', '1', '8', '6', '4', '0', '9', '0', '4', '3', '8', '0', '3', '1', '1', '2', '4', '9', '7', '2', '4', '3', '6', '7', '1', '7', '3', '7', '4', '3', '4', '4', '2', '4', '6', '3', '3', '8', '3', '6', '3', '3', '5', '1', '3', '2', '0', '6', '2', '3', '0', '3', '6', '6', '7', '2', '9', '6', '2', '6', '9', '0', '9', '4', '2', '1', '1', '8', '2', '1', '1', '3', '7', '1', '3', '2', '8', '5', '1', '4', '3', '2', '1', '8', '0', '9', '0', '1', '0', '4', '2', '4', '4', '6', '3', '5', '4', '7', '8', '7', '2', '2', '0', '8', '2', '6', '2', '2', '1', '1', '7', '1', '6', '7', '6', '7', '1', '2', '6', '9', '7', '7', '4', '8', '7', '8', '0', '5', '6', '9', '5', '5', '2', '7', '3', '3', '2', '4', '1', '2', '1', '9', '8', '6', '3', '1', '3', '2', '1', '0', '2', '8', '7', '4', '2', '4', '2', '1', '4', '6', '5', '5', '0', '4', '5', '7', '2', '0', '0', '8', '5', '0', '4', '7', '3', '2', '4', '1', '8', '5', '8', '8', '9', '6', '3', '9']</td>\n",
       "      <td>['1', '6', '6', '6', '4', '7', '5', '8', '1', '7', '3', '0', '6', '1', '8', '6', '4', '0', '9', '0', '4', '3', '8', '0', '3', '1', '1', '2', '4', '1', '7', '2', '4', '3', '6', '7', '1', '7', '7', '7', '4', '3', '4', '4', '2', '4', '6', '3', '3', '8', '3', '6', '3', '3', '5', '1', '3', '2', '0', '6', '2', '3', '0', '3', '6', '6', '7', '2', '7', '6', '2', '6', '2', '0', '9', '4', '2', '1', '1', '8', '2', '1', '1', '3', '7', '1', '3', '2', '8', '5', '1', '4', '3', '2', '1', '8', '0', '9', '0', '1', '0', '4', '2', '4', '4', '6', '7', '5', '4', '7', '8', '7', '7', '2', '0', '8', '2', '6', '2', '2', '1', '1', '7', '1', '6', '7', '6', '7', '1', '2', '6', '9', '7', '7', '4', '8', '7', '8', '4', '5', '6', '9', '5', '5', '2', '7', '3', '3', '2', '4', '1', '2', '1', '9', '8', '6', '3', '1', '3', '2', '1', '0', '2', '8', '7', '4', '2', '4', '2', '1', '4', '6', '5', '5', '0', '4', '5', '7', '2', '0', '0', '8', '5', '0', '4', '7', '3', '2', '4', '1', '8', '5', '8', '8', '9', '6', '3', '9']</td>\n",
       "      <td>0.959596</td>\n",
       "      <td>0.959596</td>\n",
       "      <td>0.964867</td>\n",
       "    </tr>\n",
       "    <tr>\n",
       "      <td>700</td>\n",
       "      <td>0.366500</td>\n",
       "      <td>0.582287</td>\n",
       "      <td>0.015152</td>\n",
       "      <td>['1', '6', '6', '6', '4', '7', '5', '8', '1', '7', '3', '0', '6', '1', '8', '6', '4', '0', '9', '0', '4', '3', '8', '0', '3', '1', '1', '2', '4', '1', '7', '2', '4', '3', '6', '7', '1', '7', '7', '7', '4', '3', '4', '4', '2', '4', '6', '3', '3', '8', '7', '6', '3', '3', '5', '1', '3', '2', '0', '6', '2', '3', '0', '3', '6', '6', '7', '2', '7', '6', '2', '6', '9', '0', '9', '4', '2', '1', '1', '8', '2', '1', '1', '3', '7', '1', '3', '2', '8', '5', '1', '4', '3', '2', '1', '8', '0', '9', '0', '1', '0', '4', '2', '4', '4', '6', '7', '5', '4', '7', '8', '7', '7', '2', '0', '8', '2', '6', '2', '2', '1', '1', '7', '1', '6', '7', '6', '7', '1', '2', '6', '9', '7', '7', '4', '8', '7', '8', '0', '5', '6', '9', '5', '5', '2', '7', '3', '3', '2', '4', '1', '2', '1', '9', '8', '6', '3', '1', '3', '2', '1', '0', '2', '8', '7', '4', '2', '4', '2', '1', '4', '6', '5', '5', '0', '4', '5', '7', '2', '0', '0', '8', '5', '0', '4', '7', '3', '2', '4', '1', '8', '5', '8', '8', '9', '6', '3', '9']</td>\n",
       "      <td>['1', '6', '6', '6', '4', '7', '5', '8', '1', '7', '3', '0', '6', '1', '8', '6', '4', '0', '9', '0', '4', '3', '8', '0', '3', '1', '1', '2', '4', '1', '7', '2', '4', '3', '6', '7', '1', '7', '7', '7', '4', '3', '4', '4', '2', '4', '6', '3', '3', '8', '3', '6', '3', '3', '5', '1', '3', '2', '0', '6', '2', '3', '0', '3', '6', '6', '7', '2', '7', '6', '2', '6', '2', '0', '9', '4', '2', '1', '1', '8', '2', '1', '1', '3', '7', '1', '3', '2', '8', '5', '1', '4', '3', '2', '1', '8', '0', '9', '0', '1', '0', '4', '2', '4', '4', '6', '7', '5', '4', '7', '8', '7', '7', '2', '0', '8', '2', '6', '2', '2', '1', '1', '7', '1', '6', '7', '6', '7', '1', '2', '6', '9', '7', '7', '4', '8', '7', '8', '4', '5', '6', '9', '5', '5', '2', '7', '3', '3', '2', '4', '1', '2', '1', '9', '8', '6', '3', '1', '3', '2', '1', '0', '2', '8', '7', '4', '2', '4', '2', '1', '4', '6', '5', '5', '0', '4', '5', '7', '2', '0', '0', '8', '5', '0', '4', '7', '3', '2', '4', '1', '8', '5', '8', '8', '9', '6', '3', '9']</td>\n",
       "      <td>0.984848</td>\n",
       "      <td>0.984848</td>\n",
       "      <td>0.985909</td>\n",
       "    </tr>\n",
       "    <tr>\n",
       "      <td>750</td>\n",
       "      <td>0.415600</td>\n",
       "      <td>0.641052</td>\n",
       "      <td>0.020202</td>\n",
       "      <td>['1', '6', '6', '6', '4', '7', '5', '8', '1', '7', '3', '0', '6', '1', '8', '6', '4', '0', '9', '0', '4', '3', '8', '0', '3', '1', '1', '2', '4', '1', '7', '2', '4', '3', '6', '7', '1', '7', '7', '7', '1', '3', '4', '4', '2', '4', '6', '3', '3', '2', '7', '6', '3', '3', '5', '1', '3', '2', '0', '6', '2', '3', '0', '3', '6', '6', '7', '2', '7', '6', '2', '6', '2', '0', '9', '4', '2', '1', '1', '8', '2', '1', '1', '3', '7', '1', '3', '2', '8', '5', '1', '4', '3', '2', '1', '8', '0', '9', '0', '1', '0', '4', '2', '4', '4', '6', '7', '5', '4', '7', '8', '7', '7', '2', '0', '8', '2', '6', '2', '2', '1', '1', '7', '1', '6', '7', '6', '7', '1', '2', '6', '9', '7', '7', '4', '8', '7', '8', '0', '5', '6', '9', '5', '5', '2', '7', '3', '3', '2', '4', '1', '2', '1', '9', '8', '6', '3', '1', '3', '2', '1', '0', '2', '8', '7', '4', '2', '4', '2', '1', '4', '6', '5', '5', '0', '4', '5', '7', '2', '0', '0', '8', '5', '0', '4', '7', '3', '2', '4', '1', '8', '5', '8', '8', '9', '6', '3', '9']</td>\n",
       "      <td>['1', '6', '6', '6', '4', '7', '5', '8', '1', '7', '3', '0', '6', '1', '8', '6', '4', '0', '9', '0', '4', '3', '8', '0', '3', '1', '1', '2', '4', '1', '7', '2', '4', '3', '6', '7', '1', '7', '7', '7', '4', '3', '4', '4', '2', '4', '6', '3', '3', '8', '3', '6', '3', '3', '5', '1', '3', '2', '0', '6', '2', '3', '0', '3', '6', '6', '7', '2', '7', '6', '2', '6', '2', '0', '9', '4', '2', '1', '1', '8', '2', '1', '1', '3', '7', '1', '3', '2', '8', '5', '1', '4', '3', '2', '1', '8', '0', '9', '0', '1', '0', '4', '2', '4', '4', '6', '7', '5', '4', '7', '8', '7', '7', '2', '0', '8', '2', '6', '2', '2', '1', '1', '7', '1', '6', '7', '6', '7', '1', '2', '6', '9', '7', '7', '4', '8', '7', '8', '4', '5', '6', '9', '5', '5', '2', '7', '3', '3', '2', '4', '1', '2', '1', '9', '8', '6', '3', '1', '3', '2', '1', '0', '2', '8', '7', '4', '2', '4', '2', '1', '4', '6', '5', '5', '0', '4', '5', '7', '2', '0', '0', '8', '5', '0', '4', '7', '3', '2', '4', '1', '8', '5', '8', '8', '9', '6', '3', '9']</td>\n",
       "      <td>0.979798</td>\n",
       "      <td>0.979798</td>\n",
       "      <td>0.980665</td>\n",
       "    </tr>\n",
       "    <tr>\n",
       "      <td>800</td>\n",
       "      <td>0.430100</td>\n",
       "      <td>0.640246</td>\n",
       "      <td>0.030303</td>\n",
       "      <td>['1', '6', '6', '6', '4', '7', '5', '8', '1', '1', '3', '0', '6', '1', '8', '6', '4', '0', '9', '0', '4', '3', '8', '0', '3', '1', '1', '2', '4', '1', '7', '2', '4', '3', '6', '7', '1', '7', '7', '7', '4', '3', '4', '4', '2', '4', '6', '3', '3', '8', '7', '6', '3', '3', '5', '1', '3', '2', '0', '6', '2', '3', '0', '3', '6', '6', '7', '2', '7', '6', '2', '6', '9', '0', '9', '4', '2', '1', '1', '8', '2', '1', '1', '3', '7', '1', '3', '2', '8', '5', '1', '4', '3', '2', '1', '8', '0', '9', '0', '1', '0', '4', '2', '4', '4', '6', '7', '5', '4', '7', '8', '7', '7', '2', '0', '8', '2', '6', '2', '2', '1', '1', '7', '1', '6', '7', '6', '7', '1', '2', '6', '9', '7', '1', '4', '8', '7', '8', '0', '5', '6', '9', '5', '5', '2', '7', '3', '3', '2', '4', '1', '2', '1', '9', '8', '6', '3', '1', '3', '2', '1', '0', '2', '8', '7', '4', '2', '4', '2', '1', '4', '6', '5', '5', '0', '4', '5', '7', '2', '0', '0', '8', '5', '0', '4', '1', '3', '2', '4', '1', '8', '5', '8', '8', '9', '6', '3', '9']</td>\n",
       "      <td>['1', '6', '6', '6', '4', '7', '5', '8', '1', '7', '3', '0', '6', '1', '8', '6', '4', '0', '9', '0', '4', '3', '8', '0', '3', '1', '1', '2', '4', '1', '7', '2', '4', '3', '6', '7', '1', '7', '7', '7', '4', '3', '4', '4', '2', '4', '6', '3', '3', '8', '3', '6', '3', '3', '5', '1', '3', '2', '0', '6', '2', '3', '0', '3', '6', '6', '7', '2', '7', '6', '2', '6', '2', '0', '9', '4', '2', '1', '1', '8', '2', '1', '1', '3', '7', '1', '3', '2', '8', '5', '1', '4', '3', '2', '1', '8', '0', '9', '0', '1', '0', '4', '2', '4', '4', '6', '7', '5', '4', '7', '8', '7', '7', '2', '0', '8', '2', '6', '2', '2', '1', '1', '7', '1', '6', '7', '6', '7', '1', '2', '6', '9', '7', '7', '4', '8', '7', '8', '4', '5', '6', '9', '5', '5', '2', '7', '3', '3', '2', '4', '1', '2', '1', '9', '8', '6', '3', '1', '3', '2', '1', '0', '2', '8', '7', '4', '2', '4', '2', '1', '4', '6', '5', '5', '0', '4', '5', '7', '2', '0', '0', '8', '5', '0', '4', '7', '3', '2', '4', '1', '8', '5', '8', '8', '9', '6', '3', '9']</td>\n",
       "      <td>0.969697</td>\n",
       "      <td>0.969697</td>\n",
       "      <td>0.971663</td>\n",
       "    </tr>\n",
       "    <tr>\n",
       "      <td>850</td>\n",
       "      <td>0.467200</td>\n",
       "      <td>0.512411</td>\n",
       "      <td>0.010101</td>\n",
       "      <td>['1', '6', '6', '6', '4', '7', '5', '8', '1', '7', '3', '0', '6', '1', '8', '6', '4', '0', '9', '0', '4', '3', '8', '0', '3', '1', '1', '2', '4', '1', '7', '2', '4', '3', '6', '7', '1', '7', '7', '7', '4', '3', '4', '4', '2', '4', '6', '3', '3', '8', '7', '6', '3', '3', '5', '1', '3', '2', '0', '6', '2', '3', '0', '3', '6', '6', '7', '2', '7', '6', '2', '6', '2', '0', '9', '4', '2', '1', '1', '8', '2', '1', '1', '3', '7', '1', '3', '2', '8', '5', '1', '4', '3', '2', '1', '8', '0', '9', '0', '1', '0', '4', '2', '4', '4', '6', '7', '5', '4', '7', '8', '7', '7', '2', '0', '8', '2', '6', '2', '2', '1', '1', '7', '1', '6', '7', '6', '7', '1', '2', '6', '9', '7', '7', '4', '8', '7', '8', '0', '5', '6', '9', '5', '5', '2', '7', '3', '3', '2', '4', '1', '2', '1', '9', '8', '6', '3', '1', '3', '2', '1', '0', '2', '8', '7', '4', '2', '4', '2', '1', '4', '6', '5', '5', '0', '4', '5', '7', '2', '0', '0', '8', '5', '0', '4', '7', '3', '2', '4', '1', '8', '5', '8', '8', '9', '6', '3', '9']</td>\n",
       "      <td>['1', '6', '6', '6', '4', '7', '5', '8', '1', '7', '3', '0', '6', '1', '8', '6', '4', '0', '9', '0', '4', '3', '8', '0', '3', '1', '1', '2', '4', '1', '7', '2', '4', '3', '6', '7', '1', '7', '7', '7', '4', '3', '4', '4', '2', '4', '6', '3', '3', '8', '3', '6', '3', '3', '5', '1', '3', '2', '0', '6', '2', '3', '0', '3', '6', '6', '7', '2', '7', '6', '2', '6', '2', '0', '9', '4', '2', '1', '1', '8', '2', '1', '1', '3', '7', '1', '3', '2', '8', '5', '1', '4', '3', '2', '1', '8', '0', '9', '0', '1', '0', '4', '2', '4', '4', '6', '7', '5', '4', '7', '8', '7', '7', '2', '0', '8', '2', '6', '2', '2', '1', '1', '7', '1', '6', '7', '6', '7', '1', '2', '6', '9', '7', '7', '4', '8', '7', '8', '4', '5', '6', '9', '5', '5', '2', '7', '3', '3', '2', '4', '1', '2', '1', '9', '8', '6', '3', '1', '3', '2', '1', '0', '2', '8', '7', '4', '2', '4', '2', '1', '4', '6', '5', '5', '0', '4', '5', '7', '2', '0', '0', '8', '5', '0', '4', '7', '3', '2', '4', '1', '8', '5', '8', '8', '9', '6', '3', '9']</td>\n",
       "      <td>0.989899</td>\n",
       "      <td>0.989899</td>\n",
       "      <td>0.990398</td>\n",
       "    </tr>\n",
       "    <tr>\n",
       "      <td>900</td>\n",
       "      <td>0.201200</td>\n",
       "      <td>0.569878</td>\n",
       "      <td>0.020202</td>\n",
       "      <td>['1', '6', '6', '6', '4', '7', '5', '8', '1', '7', '3', '0', '6', '1', '8', '6', '4', '0', '9', '0', '4', '3', '8', '0', '3', '1', '1', '2', '4', '1', '7', '2', '4', '3', '6', '7', '1', '7', '7', '7', '4', '3', '4', '4', '2', '4', '6', '3', '3', '8', '7', '6', '3', '3', '5', '1', '3', '2', '0', '6', '2', '3', '0', '3', '6', '6', '7', '2', '7', '6', '2', '6', '9', '0', '9', '4', '2', '1', '1', '8', '2', '1', '1', '3', '7', '1', '3', '2', '8', '5', '1', '4', '3', '2', '1', '8', '0', '9', '0', '1', '0', '4', '2', '4', '4', '6', '7', '5', '4', '7', '8', '7', '7', '2', '0', '8', '2', '6', '2', '2', '1', '1', '7', '1', '6', '7', '6', '7', '1', '2', '6', '9', '7', '7', '4', '8', '7', '8', '0', '5', '6', '9', '5', '5', '2', '7', '3', '3', '2', '4', '1', '2', '1', '9', '8', '6', '3', '1', '3', '2', '1', '0', '2', '8', '7', '4', '2', '4', '2', '1', '4', '6', '5', '5', '0', '4', '5', '2', '2', '0', '0', '8', '5', '0', '4', '7', '3', '2', '4', '1', '8', '5', '8', '8', '9', '6', '3', '9']</td>\n",
       "      <td>['1', '6', '6', '6', '4', '7', '5', '8', '1', '7', '3', '0', '6', '1', '8', '6', '4', '0', '9', '0', '4', '3', '8', '0', '3', '1', '1', '2', '4', '1', '7', '2', '4', '3', '6', '7', '1', '7', '7', '7', '4', '3', '4', '4', '2', '4', '6', '3', '3', '8', '3', '6', '3', '3', '5', '1', '3', '2', '0', '6', '2', '3', '0', '3', '6', '6', '7', '2', '7', '6', '2', '6', '2', '0', '9', '4', '2', '1', '1', '8', '2', '1', '1', '3', '7', '1', '3', '2', '8', '5', '1', '4', '3', '2', '1', '8', '0', '9', '0', '1', '0', '4', '2', '4', '4', '6', '7', '5', '4', '7', '8', '7', '7', '2', '0', '8', '2', '6', '2', '2', '1', '1', '7', '1', '6', '7', '6', '7', '1', '2', '6', '9', '7', '7', '4', '8', '7', '8', '4', '5', '6', '9', '5', '5', '2', '7', '3', '3', '2', '4', '1', '2', '1', '9', '8', '6', '3', '1', '3', '2', '1', '0', '2', '8', '7', '4', '2', '4', '2', '1', '4', '6', '5', '5', '0', '4', '5', '7', '2', '0', '0', '8', '5', '0', '4', '7', '3', '2', '4', '1', '8', '5', '8', '8', '9', '6', '3', '9']</td>\n",
       "      <td>0.979798</td>\n",
       "      <td>0.979798</td>\n",
       "      <td>0.980656</td>\n",
       "    </tr>\n",
       "    <tr>\n",
       "      <td>950</td>\n",
       "      <td>0.291100</td>\n",
       "      <td>0.660167</td>\n",
       "      <td>0.025253</td>\n",
       "      <td>['1', '6', '6', '6', '4', '7', '5', '8', '1', '7', '3', '0', '6', '1', '8', '6', '4', '0', '9', '0', '4', '3', '8', '0', '3', '1', '1', '2', '4', '1', '7', '2', '4', '3', '6', '7', '1', '7', '3', '7', '4', '3', '4', '4', '2', '4', '6', '3', '3', '8', '3', '6', '3', '3', '5', '1', '3', '2', '0', '6', '2', '3', '0', '3', '6', '6', '7', '2', '7', '6', '2', '6', '9', '0', '9', '4', '2', '1', '1', '8', '2', '1', '1', '3', '7', '1', '3', '2', '8', '5', '1', '4', '3', '2', '1', '8', '0', '9', '0', '1', '0', '4', '2', '4', '4', '6', '3', '5', '4', '7', '8', '3', '7', '2', '0', '8', '2', '6', '2', '2', '1', '1', '7', '1', '6', '7', '6', '7', '1', '2', '6', '9', '7', '7', '4', '8', '7', '8', '0', '5', '6', '9', '5', '5', '2', '7', '3', '3', '2', '4', '1', '2', '1', '9', '8', '6', '3', '1', '3', '2', '1', '0', '2', '8', '7', '4', '2', '4', '2', '1', '4', '6', '5', '5', '0', '4', '5', '7', '2', '0', '0', '8', '5', '0', '4', '7', '3', '2', '4', '1', '8', '5', '8', '8', '9', '6', '3', '9']</td>\n",
       "      <td>['1', '6', '6', '6', '4', '7', '5', '8', '1', '7', '3', '0', '6', '1', '8', '6', '4', '0', '9', '0', '4', '3', '8', '0', '3', '1', '1', '2', '4', '1', '7', '2', '4', '3', '6', '7', '1', '7', '7', '7', '4', '3', '4', '4', '2', '4', '6', '3', '3', '8', '3', '6', '3', '3', '5', '1', '3', '2', '0', '6', '2', '3', '0', '3', '6', '6', '7', '2', '7', '6', '2', '6', '2', '0', '9', '4', '2', '1', '1', '8', '2', '1', '1', '3', '7', '1', '3', '2', '8', '5', '1', '4', '3', '2', '1', '8', '0', '9', '0', '1', '0', '4', '2', '4', '4', '6', '7', '5', '4', '7', '8', '7', '7', '2', '0', '8', '2', '6', '2', '2', '1', '1', '7', '1', '6', '7', '6', '7', '1', '2', '6', '9', '7', '7', '4', '8', '7', '8', '4', '5', '6', '9', '5', '5', '2', '7', '3', '3', '2', '4', '1', '2', '1', '9', '8', '6', '3', '1', '3', '2', '1', '0', '2', '8', '7', '4', '2', '4', '2', '1', '4', '6', '5', '5', '0', '4', '5', '7', '2', '0', '0', '8', '5', '0', '4', '7', '3', '2', '4', '1', '8', '5', '8', '8', '9', '6', '3', '9']</td>\n",
       "      <td>0.974747</td>\n",
       "      <td>0.974747</td>\n",
       "      <td>0.977424</td>\n",
       "    </tr>\n",
       "    <tr>\n",
       "      <td>1000</td>\n",
       "      <td>0.391300</td>\n",
       "      <td>0.527263</td>\n",
       "      <td>0.015152</td>\n",
       "      <td>['1', '6', '6', '6', '4', '7', '5', '8', '1', '7', '3', '0', '6', '1', '8', '6', '4', '0', '9', '0', '4', '3', '8', '0', '3', '1', '1', '2', '4', '1', '7', '2', '4', '3', '6', '7', '1', '7', '3', '7', '4', '3', '4', '4', '2', '4', '6', '3', '3', '8', '3', '6', '3', '3', '5', '1', '3', '2', '0', '6', '2', '3', '0', '3', '6', '6', '7', '2', '7', '6', '2', '6', '9', '0', '9', '4', '2', '1', '1', '8', '2', '1', '1', '3', '7', '1', '3', '2', '8', '5', '1', '4', '3', '2', '1', '8', '0', '9', '0', '1', '0', '4', '2', '4', '4', '6', '7', '5', '4', '7', '8', '7', '7', '2', '0', '8', '2', '6', '2', '2', '1', '1', '7', '1', '6', '7', '6', '7', '1', '2', '6', '9', '7', '7', '4', '8', '7', '8', '0', '5', '6', '9', '5', '5', '2', '7', '3', '3', '2', '4', '1', '2', '1', '9', '8', '6', '3', '1', '3', '2', '1', '0', '2', '8', '7', '4', '2', '4', '2', '1', '4', '6', '5', '5', '0', '4', '5', '7', '2', '0', '0', '8', '5', '0', '4', '7', '3', '2', '4', '1', '8', '5', '8', '8', '9', '6', '3', '9']</td>\n",
       "      <td>['1', '6', '6', '6', '4', '7', '5', '8', '1', '7', '3', '0', '6', '1', '8', '6', '4', '0', '9', '0', '4', '3', '8', '0', '3', '1', '1', '2', '4', '1', '7', '2', '4', '3', '6', '7', '1', '7', '7', '7', '4', '3', '4', '4', '2', '4', '6', '3', '3', '8', '3', '6', '3', '3', '5', '1', '3', '2', '0', '6', '2', '3', '0', '3', '6', '6', '7', '2', '7', '6', '2', '6', '2', '0', '9', '4', '2', '1', '1', '8', '2', '1', '1', '3', '7', '1', '3', '2', '8', '5', '1', '4', '3', '2', '1', '8', '0', '9', '0', '1', '0', '4', '2', '4', '4', '6', '7', '5', '4', '7', '8', '7', '7', '2', '0', '8', '2', '6', '2', '2', '1', '1', '7', '1', '6', '7', '6', '7', '1', '2', '6', '9', '7', '7', '4', '8', '7', '8', '4', '5', '6', '9', '5', '5', '2', '7', '3', '3', '2', '4', '1', '2', '1', '9', '8', '6', '3', '1', '3', '2', '1', '0', '2', '8', '7', '4', '2', '4', '2', '1', '4', '6', '5', '5', '0', '4', '5', '7', '2', '0', '0', '8', '5', '0', '4', '7', '3', '2', '4', '1', '8', '5', '8', '8', '9', '6', '3', '9']</td>\n",
       "      <td>0.984848</td>\n",
       "      <td>0.984848</td>\n",
       "      <td>0.985926</td>\n",
       "    </tr>\n",
       "    <tr>\n",
       "      <td>1050</td>\n",
       "      <td>0.279300</td>\n",
       "      <td>0.495783</td>\n",
       "      <td>0.005051</td>\n",
       "      <td>['1', '6', '6', '6', '4', '7', '5', '8', '1', '7', '3', '0', '6', '1', '8', '6', '4', '0', '9', '0', '4', '3', '8', '0', '3', '1', '1', '2', '4', '1', '7', '2', '4', '3', '6', '7', '1', '7', '7', '7', '4', '3', '4', '4', '2', '4', '6', '3', '3', '8', '3', '6', '3', '3', '5', '1', '3', '2', '0', '6', '2', '3', '0', '3', '6', '6', '7', '2', '7', '6', '2', '6', '2', '0', '9', '4', '2', '1', '1', '8', '2', '1', '1', '3', '7', '1', '3', '2', '8', '5', '1', '4', '3', '2', '1', '8', '0', '9', '0', '1', '0', '4', '2', '4', '4', '6', '7', '5', '4', '7', '8', '7', '7', '2', '0', '8', '2', '6', '2', '2', '1', '1', '7', '1', '6', '7', '6', '7', '1', '2', '6', '9', '7', '7', '4', '8', '7', '8', '0', '5', '6', '9', '5', '5', '2', '7', '3', '3', '2', '4', '1', '2', '1', '9', '8', '6', '3', '1', '3', '2', '1', '0', '2', '8', '7', '4', '2', '4', '2', '1', '4', '6', '5', '5', '0', '4', '5', '7', '2', '0', '0', '8', '5', '0', '4', '7', '3', '2', '4', '1', '8', '5', '8', '8', '9', '6', '3', '9']</td>\n",
       "      <td>['1', '6', '6', '6', '4', '7', '5', '8', '1', '7', '3', '0', '6', '1', '8', '6', '4', '0', '9', '0', '4', '3', '8', '0', '3', '1', '1', '2', '4', '1', '7', '2', '4', '3', '6', '7', '1', '7', '7', '7', '4', '3', '4', '4', '2', '4', '6', '3', '3', '8', '3', '6', '3', '3', '5', '1', '3', '2', '0', '6', '2', '3', '0', '3', '6', '6', '7', '2', '7', '6', '2', '6', '2', '0', '9', '4', '2', '1', '1', '8', '2', '1', '1', '3', '7', '1', '3', '2', '8', '5', '1', '4', '3', '2', '1', '8', '0', '9', '0', '1', '0', '4', '2', '4', '4', '6', '7', '5', '4', '7', '8', '7', '7', '2', '0', '8', '2', '6', '2', '2', '1', '1', '7', '1', '6', '7', '6', '7', '1', '2', '6', '9', '7', '7', '4', '8', '7', '8', '4', '5', '6', '9', '5', '5', '2', '7', '3', '3', '2', '4', '1', '2', '1', '9', '8', '6', '3', '1', '3', '2', '1', '0', '2', '8', '7', '4', '2', '4', '2', '1', '4', '6', '5', '5', '0', '4', '5', '7', '2', '0', '0', '8', '5', '0', '4', '7', '3', '2', '4', '1', '8', '5', '8', '8', '9', '6', '3', '9']</td>\n",
       "      <td>0.994949</td>\n",
       "      <td>0.994949</td>\n",
       "      <td>0.995247</td>\n",
       "    </tr>\n",
       "    <tr>\n",
       "      <td>1100</td>\n",
       "      <td>0.318800</td>\n",
       "      <td>0.603260</td>\n",
       "      <td>0.005051</td>\n",
       "      <td>['1', '6', '6', '6', '4', '7', '5', '8', '1', '7', '3', '0', '6', '1', '8', '6', '4', '0', '9', '0', '4', '3', '8', '0', '3', '1', '1', '2', '4', '1', '7', '2', '4', '3', '6', '7', '1', '7', '7', '7', '4', '3', '4', '4', '2', '4', '6', '3', '3', '8', '3', '6', '3', '3', '5', '1', '3', '2', '0', '6', '2', '3', '0', '3', '6', '6', '7', '2', '7', '6', '2', '6', '2', '0', '9', '4', '2', '1', '1', '8', '2', '1', '1', '3', '7', '1', '3', '2', '8', '5', '1', '4', '3', '2', '1', '8', '0', '9', '0', '1', '0', '4', '2', '4', '4', '6', '7', '5', '4', '7', '8', '7', '7', '2', '0', '8', '2', '6', '2', '2', '1', '1', '7', '1', '6', '7', '6', '7', '1', '2', '6', '9', '7', '7', '4', '8', '7', '8', '0', '5', '6', '9', '5', '5', '2', '7', '3', '3', '2', '4', '1', '2', '1', '9', '8', '6', '3', '1', '3', '2', '1', '0', '2', '8', '7', '4', '2', '4', '2', '1', '4', '6', '5', '5', '0', '4', '5', '7', '2', '0', '0', '8', '5', '0', '4', '7', '3', '2', '4', '1', '8', '5', '8', '8', '9', '6', '3', '9']</td>\n",
       "      <td>['1', '6', '6', '6', '4', '7', '5', '8', '1', '7', '3', '0', '6', '1', '8', '6', '4', '0', '9', '0', '4', '3', '8', '0', '3', '1', '1', '2', '4', '1', '7', '2', '4', '3', '6', '7', '1', '7', '7', '7', '4', '3', '4', '4', '2', '4', '6', '3', '3', '8', '3', '6', '3', '3', '5', '1', '3', '2', '0', '6', '2', '3', '0', '3', '6', '6', '7', '2', '7', '6', '2', '6', '2', '0', '9', '4', '2', '1', '1', '8', '2', '1', '1', '3', '7', '1', '3', '2', '8', '5', '1', '4', '3', '2', '1', '8', '0', '9', '0', '1', '0', '4', '2', '4', '4', '6', '7', '5', '4', '7', '8', '7', '7', '2', '0', '8', '2', '6', '2', '2', '1', '1', '7', '1', '6', '7', '6', '7', '1', '2', '6', '9', '7', '7', '4', '8', '7', '8', '4', '5', '6', '9', '5', '5', '2', '7', '3', '3', '2', '4', '1', '2', '1', '9', '8', '6', '3', '1', '3', '2', '1', '0', '2', '8', '7', '4', '2', '4', '2', '1', '4', '6', '5', '5', '0', '4', '5', '7', '2', '0', '0', '8', '5', '0', '4', '7', '3', '2', '4', '1', '8', '5', '8', '8', '9', '6', '3', '9']</td>\n",
       "      <td>0.994949</td>\n",
       "      <td>0.994949</td>\n",
       "      <td>0.995247</td>\n",
       "    </tr>\n",
       "    <tr>\n",
       "      <td>1150</td>\n",
       "      <td>0.158400</td>\n",
       "      <td>0.563972</td>\n",
       "      <td>0.020202</td>\n",
       "      <td>['1', '6', '6', '6', '4', '7', '5', '8', '1', '1', '3', '0', '6', '1', '8', '6', '4', '0', '9', '0', '4', '3', '8', '0', '3', '1', '1', '2', '4', '1', '7', '2', '4', '3', '6', '7', '1', '7', '7', '7', '4', '3', '4', '4', '2', '4', '6', '3', '3', '8', '3', '6', '3', '3', '5', '1', '3', '2', '0', '6', '2', '3', '0', '3', '6', '6', '7', '2', '7', '6', '2', '6', '2', '0', '9', '4', '2', '1', '1', '8', '2', '1', '1', '3', '7', '1', '3', '2', '8', '5', '1', '4', '3', '2', '1', '8', '0', '9', '0', '1', '0', '4', '2', '4', '4', '6', '7', '5', '4', '7', '8', '7', '7', '2', '0', '8', '2', '6', '2', '2', '1', '1', '7', '1', '6', '7', '6', '7', '1', '2', '6', '9', '7', '1', '4', '8', '7', '8', '0', '5', '6', '9', '5', '5', '2', '7', '3', '3', '2', '4', '1', '2', '1', '9', '8', '6', '3', '1', '3', '2', '1', '0', '2', '8', '7', '4', '2', '4', '2', '1', '4', '6', '5', '5', '0', '4', '5', '7', '2', '0', '0', '8', '5', '0', '4', '1', '3', '2', '4', '1', '8', '5', '8', '8', '9', '6', '3', '9']</td>\n",
       "      <td>['1', '6', '6', '6', '4', '7', '5', '8', '1', '7', '3', '0', '6', '1', '8', '6', '4', '0', '9', '0', '4', '3', '8', '0', '3', '1', '1', '2', '4', '1', '7', '2', '4', '3', '6', '7', '1', '7', '7', '7', '4', '3', '4', '4', '2', '4', '6', '3', '3', '8', '3', '6', '3', '3', '5', '1', '3', '2', '0', '6', '2', '3', '0', '3', '6', '6', '7', '2', '7', '6', '2', '6', '2', '0', '9', '4', '2', '1', '1', '8', '2', '1', '1', '3', '7', '1', '3', '2', '8', '5', '1', '4', '3', '2', '1', '8', '0', '9', '0', '1', '0', '4', '2', '4', '4', '6', '7', '5', '4', '7', '8', '7', '7', '2', '0', '8', '2', '6', '2', '2', '1', '1', '7', '1', '6', '7', '6', '7', '1', '2', '6', '9', '7', '7', '4', '8', '7', '8', '4', '5', '6', '9', '5', '5', '2', '7', '3', '3', '2', '4', '1', '2', '1', '9', '8', '6', '3', '1', '3', '2', '1', '0', '2', '8', '7', '4', '2', '4', '2', '1', '4', '6', '5', '5', '0', '4', '5', '7', '2', '0', '0', '8', '5', '0', '4', '7', '3', '2', '4', '1', '8', '5', '8', '8', '9', '6', '3', '9']</td>\n",
       "      <td>0.979798</td>\n",
       "      <td>0.979798</td>\n",
       "      <td>0.981662</td>\n",
       "    </tr>\n",
       "    <tr>\n",
       "      <td>1200</td>\n",
       "      <td>0.434800</td>\n",
       "      <td>0.498540</td>\n",
       "      <td>0.010101</td>\n",
       "      <td>['1', '6', '6', '6', '4', '7', '5', '8', '1', '7', '3', '0', '6', '1', '8', '6', '4', '0', '9', '0', '4', '3', '8', '0', '3', '1', '1', '2', '4', '1', '7', '2', '4', '3', '6', '7', '1', '7', '7', '7', '4', '3', '4', '4', '2', '4', '6', '3', '3', '8', '3', '6', '3', '3', '5', '1', '3', '2', '0', '6', '2', '3', '0', '3', '6', '6', '7', '2', '7', '6', '2', '6', '9', '0', '9', '4', '2', '1', '1', '8', '2', '1', '1', '3', '7', '1', '3', '2', '8', '5', '1', '4', '3', '2', '1', '8', '0', '9', '0', '1', '0', '4', '2', '4', '4', '6', '7', '5', '4', '7', '8', '7', '7', '2', '0', '8', '2', '6', '2', '2', '1', '1', '7', '1', '6', '7', '6', '7', '1', '2', '6', '9', '7', '7', '4', '8', '7', '8', '0', '5', '6', '9', '5', '5', '2', '7', '3', '3', '2', '4', '1', '2', '1', '9', '8', '6', '3', '1', '3', '2', '1', '0', '2', '8', '7', '4', '2', '4', '2', '1', '4', '6', '5', '5', '0', '4', '5', '7', '2', '0', '0', '8', '5', '0', '4', '7', '3', '2', '4', '1', '8', '5', '8', '8', '9', '6', '3', '9']</td>\n",
       "      <td>['1', '6', '6', '6', '4', '7', '5', '8', '1', '7', '3', '0', '6', '1', '8', '6', '4', '0', '9', '0', '4', '3', '8', '0', '3', '1', '1', '2', '4', '1', '7', '2', '4', '3', '6', '7', '1', '7', '7', '7', '4', '3', '4', '4', '2', '4', '6', '3', '3', '8', '3', '6', '3', '3', '5', '1', '3', '2', '0', '6', '2', '3', '0', '3', '6', '6', '7', '2', '7', '6', '2', '6', '2', '0', '9', '4', '2', '1', '1', '8', '2', '1', '1', '3', '7', '1', '3', '2', '8', '5', '1', '4', '3', '2', '1', '8', '0', '9', '0', '1', '0', '4', '2', '4', '4', '6', '7', '5', '4', '7', '8', '7', '7', '2', '0', '8', '2', '6', '2', '2', '1', '1', '7', '1', '6', '7', '6', '7', '1', '2', '6', '9', '7', '7', '4', '8', '7', '8', '4', '5', '6', '9', '5', '5', '2', '7', '3', '3', '2', '4', '1', '2', '1', '9', '8', '6', '3', '1', '3', '2', '1', '0', '2', '8', '7', '4', '2', '4', '2', '1', '4', '6', '5', '5', '0', '4', '5', '7', '2', '0', '0', '8', '5', '0', '4', '7', '3', '2', '4', '1', '8', '5', '8', '8', '9', '6', '3', '9']</td>\n",
       "      <td>0.989899</td>\n",
       "      <td>0.989899</td>\n",
       "      <td>0.990757</td>\n",
       "    </tr>\n",
       "    <tr>\n",
       "      <td>1250</td>\n",
       "      <td>0.281000</td>\n",
       "      <td>0.532187</td>\n",
       "      <td>0.010101</td>\n",
       "      <td>['1', '6', '6', '6', '4', '7', '5', '8', '1', '7', '3', '0', '6', '1', '8', '6', '4', '0', '9', '0', '4', '3', '8', '0', '3', '1', '1', '2', '4', '1', '7', '2', '4', '3', '6', '7', '1', '7', '7', '7', '4', '3', '4', '4', '2', '4', '6', '3', '3', '8', '3', '6', '3', '3', '5', '1', '3', '2', '0', '6', '2', '3', '0', '3', '6', '6', '7', '2', '7', '6', '2', '6', '9', '0', '9', '4', '2', '1', '1', '8', '2', '1', '1', '3', '7', '1', '3', '2', '8', '5', '1', '4', '3', '2', '1', '8', '0', '9', '0', '1', '0', '4', '2', '4', '4', '6', '7', '5', '4', '7', '8', '7', '7', '2', '0', '8', '2', '6', '2', '2', '1', '1', '7', '1', '6', '7', '6', '7', '1', '2', '6', '9', '7', '7', '4', '8', '7', '8', '0', '5', '6', '9', '5', '5', '2', '7', '3', '3', '2', '4', '1', '2', '1', '9', '8', '6', '3', '1', '3', '2', '1', '0', '2', '8', '7', '4', '2', '4', '2', '1', '4', '6', '5', '5', '0', '4', '5', '7', '2', '0', '0', '8', '5', '0', '4', '7', '3', '2', '4', '1', '8', '5', '8', '8', '9', '6', '3', '9']</td>\n",
       "      <td>['1', '6', '6', '6', '4', '7', '5', '8', '1', '7', '3', '0', '6', '1', '8', '6', '4', '0', '9', '0', '4', '3', '8', '0', '3', '1', '1', '2', '4', '1', '7', '2', '4', '3', '6', '7', '1', '7', '7', '7', '4', '3', '4', '4', '2', '4', '6', '3', '3', '8', '3', '6', '3', '3', '5', '1', '3', '2', '0', '6', '2', '3', '0', '3', '6', '6', '7', '2', '7', '6', '2', '6', '2', '0', '9', '4', '2', '1', '1', '8', '2', '1', '1', '3', '7', '1', '3', '2', '8', '5', '1', '4', '3', '2', '1', '8', '0', '9', '0', '1', '0', '4', '2', '4', '4', '6', '7', '5', '4', '7', '8', '7', '7', '2', '0', '8', '2', '6', '2', '2', '1', '1', '7', '1', '6', '7', '6', '7', '1', '2', '6', '9', '7', '7', '4', '8', '7', '8', '4', '5', '6', '9', '5', '5', '2', '7', '3', '3', '2', '4', '1', '2', '1', '9', '8', '6', '3', '1', '3', '2', '1', '0', '2', '8', '7', '4', '2', '4', '2', '1', '4', '6', '5', '5', '0', '4', '5', '7', '2', '0', '0', '8', '5', '0', '4', '7', '3', '2', '4', '1', '8', '5', '8', '8', '9', '6', '3', '9']</td>\n",
       "      <td>0.989899</td>\n",
       "      <td>0.989899</td>\n",
       "      <td>0.990757</td>\n",
       "    </tr>\n",
       "    <tr>\n",
       "      <td>1300</td>\n",
       "      <td>0.337600</td>\n",
       "      <td>0.728648</td>\n",
       "      <td>0.015152</td>\n",
       "      <td>['1', '6', '6', '6', '4', '7', '5', '8', '1', '7', '3', '0', '6', '1', '8', '6', '4', '0', '9', '0', '4', '3', '8', '0', '3', '1', '1', '2', '4', '1', '7', '2', '4', '3', '6', '7', '1', '7', '7', '7', '4', '3', '4', '4', '2', '4', '6', '3', '3', '8', '7', '6', '3', '3', '5', '1', '3', '2', '0', '6', '2', '3', '0', '3', '6', '6', '7', '2', '7', '6', '2', '6', '9', '0', '9', '4', '2', '1', '1', '8', '2', '1', '1', '3', '7', '1', '3', '2', '8', '5', '1', '4', '3', '2', '1', '8', '0', '9', '0', '1', '0', '4', '2', '4', '4', '6', '7', '5', '4', '7', '8', '7', '7', '2', '0', '8', '2', '6', '2', '2', '1', '1', '7', '1', '6', '7', '6', '7', '1', '2', '6', '9', '7', '7', '4', '8', '7', '8', '0', '5', '6', '9', '5', '5', '2', '7', '3', '3', '2', '4', '1', '2', '1', '9', '8', '6', '3', '1', '3', '2', '1', '0', '2', '8', '7', '4', '2', '4', '2', '1', '4', '6', '5', '5', '0', '4', '5', '7', '2', '0', '0', '8', '5', '0', '4', '7', '3', '2', '4', '1', '8', '5', '8', '8', '9', '6', '3', '9']</td>\n",
       "      <td>['1', '6', '6', '6', '4', '7', '5', '8', '1', '7', '3', '0', '6', '1', '8', '6', '4', '0', '9', '0', '4', '3', '8', '0', '3', '1', '1', '2', '4', '1', '7', '2', '4', '3', '6', '7', '1', '7', '7', '7', '4', '3', '4', '4', '2', '4', '6', '3', '3', '8', '3', '6', '3', '3', '5', '1', '3', '2', '0', '6', '2', '3', '0', '3', '6', '6', '7', '2', '7', '6', '2', '6', '2', '0', '9', '4', '2', '1', '1', '8', '2', '1', '1', '3', '7', '1', '3', '2', '8', '5', '1', '4', '3', '2', '1', '8', '0', '9', '0', '1', '0', '4', '2', '4', '4', '6', '7', '5', '4', '7', '8', '7', '7', '2', '0', '8', '2', '6', '2', '2', '1', '1', '7', '1', '6', '7', '6', '7', '1', '2', '6', '9', '7', '7', '4', '8', '7', '8', '4', '5', '6', '9', '5', '5', '2', '7', '3', '3', '2', '4', '1', '2', '1', '9', '8', '6', '3', '1', '3', '2', '1', '0', '2', '8', '7', '4', '2', '4', '2', '1', '4', '6', '5', '5', '0', '4', '5', '7', '2', '0', '0', '8', '5', '0', '4', '7', '3', '2', '4', '1', '8', '5', '8', '8', '9', '6', '3', '9']</td>\n",
       "      <td>0.984848</td>\n",
       "      <td>0.984848</td>\n",
       "      <td>0.985909</td>\n",
       "    </tr>\n",
       "  </tbody>\n",
       "</table><p>"
      ],
      "text/plain": [
       "<IPython.core.display.HTML object>"
      ]
     },
     "metadata": {},
     "output_type": "display_data"
    },
    {
     "name": "stderr",
     "output_type": "stream",
     "text": [
      "***** Running Evaluation *****\n",
      "  Num examples = 198\n",
      "  Batch size = 4\n",
      "C:\\Users\\A\\anaconda3\\envs\\tf-gpu\\lib\\site-packages\\sklearn\\metrics\\_classification.py:1318: UndefinedMetricWarning: Precision is ill-defined and being set to 0.0 in labels with no predicted samples. Use `zero_division` parameter to control this behavior.\n",
      "  _warn_prf(average, modifier, msg_start, len(result))\n",
      "Trainer is attempting to log a value of \"['4', '6', '6', '6', '4', '4', '5', '8', '1', '4', '3', '0', '6', '1', '8', '6', '4', '0', '2', '0', '4', '3', '8', '0', '2', '4', '1', '2', '4', '1', '4', '2', '4', '3', '6', '7', '1', '2', '2', '7', '4', '3', '4', '4', '2', '4', '6', '3', '3', '8', '2', '4', '3', '5', '5', '1', '3', '2', '0', '6', '2', '3', '0', '3', '6', '6', '7', '2', '2', '6', '2', '6', '2', '0', '5', '4', '2', '1', '4', '8', '2', '4', '1', '3', '2', '1', '3', '2', '8', '5', '1', '4', '3', '2', '1', '8', '2', '5', '0', '4', '0', '4', '2', '4', '4', '6', '2', '5', '4', '2', '8', '2', '2', '2', '0', '8', '2', '6', '2', '2', '1', '1', '2', '1', '6', '4', '6', '7', '4', '2', '6', '5', '2', '4', '4', '8', '4', '8', '0', '5', '6', '2', '5', '5', '2', '2', '3', '3', '2', '4', '1', '2', '1', '5', '8', '6', '3', '1', '3', '2', '1', '0', '2', '8', '2', '5', '2', '4', '2', '1', '4', '6', '5', '5', '0', '4', '5', '2', '2', '0', '0', '8', '5', '0', '4', '4', '3', '2', '4', '1', '8', '5', '8', '8', '5', '6', '5', '8']\" of type <class 'list'> for key \"eval/pred\" as a scalar. This invocation of Tensorboard's writer.add_scalar() is incorrect so we dropped this attribute.\n",
      "Trainer is attempting to log a value of \"['1', '6', '6', '6', '4', '7', '5', '8', '1', '7', '3', '0', '6', '1', '8', '6', '4', '0', '9', '0', '4', '3', '8', '0', '3', '1', '1', '2', '4', '1', '7', '2', '4', '3', '6', '7', '1', '7', '7', '7', '4', '3', '4', '4', '2', '4', '6', '3', '3', '8', '3', '6', '3', '3', '5', '1', '3', '2', '0', '6', '2', '3', '0', '3', '6', '6', '7', '2', '7', '6', '2', '6', '2', '0', '9', '4', '2', '1', '1', '8', '2', '1', '1', '3', '7', '1', '3', '2', '8', '5', '1', '4', '3', '2', '1', '8', '0', '9', '0', '1', '0', '4', '2', '4', '4', '6', '7', '5', '4', '7', '8', '7', '7', '2', '0', '8', '2', '6', '2', '2', '1', '1', '7', '1', '6', '7', '6', '7', '1', '2', '6', '9', '7', '7', '4', '8', '7', '8', '4', '5', '6', '9', '5', '5', '2', '7', '3', '3', '2', '4', '1', '2', '1', '9', '8', '6', '3', '1', '3', '2', '1', '0', '2', '8', '7', '4', '2', '4', '2', '1', '4', '6', '5', '5', '0', '4', '5', '7', '2', '0', '0', '8', '5', '0', '4', '7', '3', '2', '4', '1', '8', '5', '8', '8', '9', '6', '3', '9']\" of type <class 'list'> for key \"eval/labels\" as a scalar. This invocation of Tensorboard's writer.add_scalar() is incorrect so we dropped this attribute.\n",
      "***** Running Evaluation *****\n",
      "  Num examples = 198\n",
      "  Batch size = 4\n",
      "Trainer is attempting to log a value of \"['7', '6', '6', '6', '6', '7', '5', '8', '1', '7', '3', '0', '6', '1', '8', '6', '6', '0', '7', '0', '1', '3', '8', '0', '8', '1', '1', '2', '1', '1', '7', '2', '6', '3', '6', '7', '1', '7', '7', '7', '1', '8', '6', '1', '2', '7', '6', '3', '3', '8', '7', '6', '3', '3', '5', '1', '3', '2', '0', '6', '2', '3', '0', '3', '6', '6', '7', '2', '7', '6', '2', '6', '2', '0', '9', '4', '2', '1', '1', '8', '2', '1', '1', '3', '7', '1', '3', '2', '8', '5', '1', '6', '3', '2', '1', '8', '0', '8', '0', '1', '0', '1', '2', '1', '1', '6', '7', '5', '4', '7', '8', '7', '7', '2', '0', '8', '2', '6', '2', '2', '1', '1', '7', '1', '6', '7', '6', '7', '1', '2', '6', '9', '7', '6', '6', '8', '7', '8', '0', '5', '6', '8', '5', '6', '2', '7', '3', '3', '2', '6', '1', '2', '1', '9', '8', '6', '3', '1', '3', '2', '1', '0', '2', '8', '7', '6', '2', '6', '2', '1', '6', '6', '5', '5', '0', '1', '5', '7', '2', '0', '0', '8', '5', '0', '4', '7', '3', '2', '1', '1', '8', '5', '8', '8', '9', '6', '3', '8']\" of type <class 'list'> for key \"eval/pred\" as a scalar. This invocation of Tensorboard's writer.add_scalar() is incorrect so we dropped this attribute.\n",
      "Trainer is attempting to log a value of \"['1', '6', '6', '6', '4', '7', '5', '8', '1', '7', '3', '0', '6', '1', '8', '6', '4', '0', '9', '0', '4', '3', '8', '0', '3', '1', '1', '2', '4', '1', '7', '2', '4', '3', '6', '7', '1', '7', '7', '7', '4', '3', '4', '4', '2', '4', '6', '3', '3', '8', '3', '6', '3', '3', '5', '1', '3', '2', '0', '6', '2', '3', '0', '3', '6', '6', '7', '2', '7', '6', '2', '6', '2', '0', '9', '4', '2', '1', '1', '8', '2', '1', '1', '3', '7', '1', '3', '2', '8', '5', '1', '4', '3', '2', '1', '8', '0', '9', '0', '1', '0', '4', '2', '4', '4', '6', '7', '5', '4', '7', '8', '7', '7', '2', '0', '8', '2', '6', '2', '2', '1', '1', '7', '1', '6', '7', '6', '7', '1', '2', '6', '9', '7', '7', '4', '8', '7', '8', '4', '5', '6', '9', '5', '5', '2', '7', '3', '3', '2', '4', '1', '2', '1', '9', '8', '6', '3', '1', '3', '2', '1', '0', '2', '8', '7', '4', '2', '4', '2', '1', '4', '6', '5', '5', '0', '4', '5', '7', '2', '0', '0', '8', '5', '0', '4', '7', '3', '2', '4', '1', '8', '5', '8', '8', '9', '6', '3', '9']\" of type <class 'list'> for key \"eval/labels\" as a scalar. This invocation of Tensorboard's writer.add_scalar() is incorrect so we dropped this attribute.\n",
      "***** Running Evaluation *****\n",
      "  Num examples = 198\n",
      "  Batch size = 4\n",
      "Trainer is attempting to log a value of \"['1', '6', '6', '6', '4', '7', '5', '8', '1', '1', '3', '0', '6', '1', '8', '6', '4', '0', '9', '0', '4', '3', '8', '0', '3', '1', '1', '2', '4', '1', '7', '2', '4', '3', '6', '1', '1', '7', '3', '7', '1', '3', '4', '4', '2', '4', '6', '3', '3', '8', '7', '6', '3', '3', '5', '1', '5', '2', '0', '6', '2', '3', '0', '3', '6', '6', '7', '2', '7', '6', '2', '6', '2', '0', '9', '4', '2', '1', '1', '8', '2', '1', '1', '3', '7', '1', '3', '2', '8', '5', '1', '4', '3', '2', '1', '8', '2', '9', '0', '1', '0', '4', '2', '4', '4', '6', '2', '5', '4', '7', '8', '7', '7', '2', '2', '8', '2', '6', '2', '2', '1', '1', '7', '1', '6', '1', '6', '7', '1', '2', '6', '9', '7', '1', '4', '8', '1', '8', '0', '5', '6', '1', '5', '5', '2', '7', '3', '3', '2', '4', '1', '2', '1', '9', '8', '6', '3', '1', '3', '2', '1', '0', '2', '8', '7', '4', '2', '4', '2', '1', '4', '6', '5', '5', '0', '4', '5', '2', '2', '0', '0', '8', '5', '0', '4', '1', '3', '2', '4', '1', '8', '5', '8', '8', '9', '6', '3', '8']\" of type <class 'list'> for key \"eval/pred\" as a scalar. This invocation of Tensorboard's writer.add_scalar() is incorrect so we dropped this attribute.\n",
      "Trainer is attempting to log a value of \"['1', '6', '6', '6', '4', '7', '5', '8', '1', '7', '3', '0', '6', '1', '8', '6', '4', '0', '9', '0', '4', '3', '8', '0', '3', '1', '1', '2', '4', '1', '7', '2', '4', '3', '6', '7', '1', '7', '7', '7', '4', '3', '4', '4', '2', '4', '6', '3', '3', '8', '3', '6', '3', '3', '5', '1', '3', '2', '0', '6', '2', '3', '0', '3', '6', '6', '7', '2', '7', '6', '2', '6', '2', '0', '9', '4', '2', '1', '1', '8', '2', '1', '1', '3', '7', '1', '3', '2', '8', '5', '1', '4', '3', '2', '1', '8', '0', '9', '0', '1', '0', '4', '2', '4', '4', '6', '7', '5', '4', '7', '8', '7', '7', '2', '0', '8', '2', '6', '2', '2', '1', '1', '7', '1', '6', '7', '6', '7', '1', '2', '6', '9', '7', '7', '4', '8', '7', '8', '4', '5', '6', '9', '5', '5', '2', '7', '3', '3', '2', '4', '1', '2', '1', '9', '8', '6', '3', '1', '3', '2', '1', '0', '2', '8', '7', '4', '2', '4', '2', '1', '4', '6', '5', '5', '0', '4', '5', '7', '2', '0', '0', '8', '5', '0', '4', '7', '3', '2', '4', '1', '8', '5', '8', '8', '9', '6', '3', '9']\" of type <class 'list'> for key \"eval/labels\" as a scalar. This invocation of Tensorboard's writer.add_scalar() is incorrect so we dropped this attribute.\n",
      "***** Running Evaluation *****\n",
      "  Num examples = 198\n",
      "  Batch size = 4\n",
      "Trainer is attempting to log a value of \"['7', '6', '6', '6', '4', '7', '5', '8', '1', '7', '3', '0', '6', '1', '8', '6', '4', '0', '9', '0', '4', '3', '8', '0', '3', '1', '1', '2', '4', '1', '7', '2', '4', '3', '6', '7', '1', '7', '7', '7', '4', '3', '4', '4', '2', '7', '6', '3', '3', '8', '3', '6', '3', '3', '5', '1', '3', '2', '0', '6', '2', '3', '0', '3', '6', '6', '7', '2', '9', '6', '2', '6', '2', '0', '9', '4', '2', '1', '1', '8', '2', '1', '1', '3', '7', '1', '3', '2', '8', '5', '1', '9', '3', '2', '1', '8', '0', '9', '0', '1', '0', '4', '2', '4', '4', '6', '9', '5', '4', '7', '8', '7', '7', '2', '0', '8', '2', '5', '2', '2', '1', '1', '7', '1', '6', '7', '6', '7', '1', '2', '6', '9', '7', '1', '4', '8', '7', '8', '0', '5', '6', '9', '5', '5', '2', '7', '3', '3', '2', '4', '1', '2', '1', '9', '8', '6', '3', '1', '3', '2', '1', '0', '2', '8', '7', '4', '2', '4', '2', '1', '4', '6', '5', '5', '0', '4', '5', '7', '2', '0', '0', '8', '5', '0', '4', '7', '3', '2', '4', '1', '8', '5', '8', '8', '9', '6', '3', '9']\" of type <class 'list'> for key \"eval/pred\" as a scalar. This invocation of Tensorboard's writer.add_scalar() is incorrect so we dropped this attribute.\n"
     ]
    },
    {
     "name": "stderr",
     "output_type": "stream",
     "text": [
      "Trainer is attempting to log a value of \"['1', '6', '6', '6', '4', '7', '5', '8', '1', '7', '3', '0', '6', '1', '8', '6', '4', '0', '9', '0', '4', '3', '8', '0', '3', '1', '1', '2', '4', '1', '7', '2', '4', '3', '6', '7', '1', '7', '7', '7', '4', '3', '4', '4', '2', '4', '6', '3', '3', '8', '3', '6', '3', '3', '5', '1', '3', '2', '0', '6', '2', '3', '0', '3', '6', '6', '7', '2', '7', '6', '2', '6', '2', '0', '9', '4', '2', '1', '1', '8', '2', '1', '1', '3', '7', '1', '3', '2', '8', '5', '1', '4', '3', '2', '1', '8', '0', '9', '0', '1', '0', '4', '2', '4', '4', '6', '7', '5', '4', '7', '8', '7', '7', '2', '0', '8', '2', '6', '2', '2', '1', '1', '7', '1', '6', '7', '6', '7', '1', '2', '6', '9', '7', '7', '4', '8', '7', '8', '4', '5', '6', '9', '5', '5', '2', '7', '3', '3', '2', '4', '1', '2', '1', '9', '8', '6', '3', '1', '3', '2', '1', '0', '2', '8', '7', '4', '2', '4', '2', '1', '4', '6', '5', '5', '0', '4', '5', '7', '2', '0', '0', '8', '5', '0', '4', '7', '3', '2', '4', '1', '8', '5', '8', '8', '9', '6', '3', '9']\" of type <class 'list'> for key \"eval/labels\" as a scalar. This invocation of Tensorboard's writer.add_scalar() is incorrect so we dropped this attribute.\n",
      "***** Running Evaluation *****\n",
      "  Num examples = 198\n",
      "  Batch size = 4\n",
      "Trainer is attempting to log a value of \"['4', '6', '6', '6', '4', '7', '5', '8', '1', '7', '3', '0', '6', '1', '8', '6', '4', '0', '9', '8', '4', '3', '8', '0', '3', '1', '1', '2', '4', '1', '7', '2', '4', '3', '6', '7', '1', '7', '7', '7', '4', '3', '4', '4', '2', '4', '6', '3', '3', '8', '7', '6', '3', '3', '5', '1', '3', '2', '0', '6', '2', '3', '0', '3', '6', '6', '7', '2', '7', '6', '2', '6', '2', '0', '9', '4', '2', '1', '1', '8', '2', '1', '1', '3', '7', '1', '3', '2', '8', '5', '1', '9', '3', '2', '1', '8', '2', '9', '0', '1', '0', '4', '2', '4', '4', '6', '7', '5', '4', '7', '8', '7', '7', '2', '0', '8', '2', '6', '2', '2', '1', '1', '7', '1', '6', '7', '6', '7', '1', '2', '6', '9', '7', '7', '4', '8', '7', '8', '0', '5', '6', '9', '5', '5', '2', '7', '3', '3', '2', '4', '1', '2', '1', '9', '8', '6', '3', '1', '3', '2', '1', '0', '2', '8', '7', '4', '2', '4', '2', '1', '4', '6', '5', '5', '0', '4', '5', '7', '2', '0', '0', '8', '5', '0', '4', '7', '3', '2', '4', '1', '8', '5', '8', '8', '9', '6', '3', '9']\" of type <class 'list'> for key \"eval/pred\" as a scalar. This invocation of Tensorboard's writer.add_scalar() is incorrect so we dropped this attribute.\n",
      "Trainer is attempting to log a value of \"['1', '6', '6', '6', '4', '7', '5', '8', '1', '7', '3', '0', '6', '1', '8', '6', '4', '0', '9', '0', '4', '3', '8', '0', '3', '1', '1', '2', '4', '1', '7', '2', '4', '3', '6', '7', '1', '7', '7', '7', '4', '3', '4', '4', '2', '4', '6', '3', '3', '8', '3', '6', '3', '3', '5', '1', '3', '2', '0', '6', '2', '3', '0', '3', '6', '6', '7', '2', '7', '6', '2', '6', '2', '0', '9', '4', '2', '1', '1', '8', '2', '1', '1', '3', '7', '1', '3', '2', '8', '5', '1', '4', '3', '2', '1', '8', '0', '9', '0', '1', '0', '4', '2', '4', '4', '6', '7', '5', '4', '7', '8', '7', '7', '2', '0', '8', '2', '6', '2', '2', '1', '1', '7', '1', '6', '7', '6', '7', '1', '2', '6', '9', '7', '7', '4', '8', '7', '8', '4', '5', '6', '9', '5', '5', '2', '7', '3', '3', '2', '4', '1', '2', '1', '9', '8', '6', '3', '1', '3', '2', '1', '0', '2', '8', '7', '4', '2', '4', '2', '1', '4', '6', '5', '5', '0', '4', '5', '7', '2', '0', '0', '8', '5', '0', '4', '7', '3', '2', '4', '1', '8', '5', '8', '8', '9', '6', '3', '9']\" of type <class 'list'> for key \"eval/labels\" as a scalar. This invocation of Tensorboard's writer.add_scalar() is incorrect so we dropped this attribute.\n",
      "***** Running Evaluation *****\n",
      "  Num examples = 198\n",
      "  Batch size = 4\n",
      "Trainer is attempting to log a value of \"['1', '6', '6', '6', '4', '7', '5', '8', '1', '7', '3', '0', '6', '1', '8', '6', '4', '0', '9', '8', '4', '3', '8', '0', '3', '1', '1', '2', '4', '1', '7', '2', '4', '3', '6', '7', '1', '7', '3', '7', '4', '3', '4', '4', '2', '4', '6', '3', '3', '8', '3', '6', '3', '3', '5', '1', '3', '2', '0', '6', '2', '3', '0', '3', '6', '6', '7', '2', '7', '6', '2', '6', '9', '0', '9', '4', '2', '1', '1', '8', '2', '1', '1', '3', '7', '1', '3', '2', '8', '5', '1', '4', '3', '2', '1', '8', '0', '9', '0', '1', '0', '4', '2', '4', '4', '6', '3', '5', '4', '7', '8', '7', '7', '2', '0', '8', '2', '6', '2', '2', '1', '1', '7', '1', '6', '7', '6', '7', '1', '2', '6', '9', '7', '7', '4', '8', '7', '8', '0', '5', '6', '9', '5', '5', '2', '7', '3', '3', '2', '4', '1', '2', '1', '9', '8', '6', '3', '1', '3', '2', '1', '0', '2', '8', '7', '5', '2', '4', '2', '1', '4', '6', '5', '5', '0', '4', '5', '7', '2', '0', '0', '8', '5', '0', '4', '7', '3', '2', '4', '1', '8', '5', '8', '8', '9', '6', '3', '9']\" of type <class 'list'> for key \"eval/pred\" as a scalar. This invocation of Tensorboard's writer.add_scalar() is incorrect so we dropped this attribute.\n",
      "Trainer is attempting to log a value of \"['1', '6', '6', '6', '4', '7', '5', '8', '1', '7', '3', '0', '6', '1', '8', '6', '4', '0', '9', '0', '4', '3', '8', '0', '3', '1', '1', '2', '4', '1', '7', '2', '4', '3', '6', '7', '1', '7', '7', '7', '4', '3', '4', '4', '2', '4', '6', '3', '3', '8', '3', '6', '3', '3', '5', '1', '3', '2', '0', '6', '2', '3', '0', '3', '6', '6', '7', '2', '7', '6', '2', '6', '2', '0', '9', '4', '2', '1', '1', '8', '2', '1', '1', '3', '7', '1', '3', '2', '8', '5', '1', '4', '3', '2', '1', '8', '0', '9', '0', '1', '0', '4', '2', '4', '4', '6', '7', '5', '4', '7', '8', '7', '7', '2', '0', '8', '2', '6', '2', '2', '1', '1', '7', '1', '6', '7', '6', '7', '1', '2', '6', '9', '7', '7', '4', '8', '7', '8', '4', '5', '6', '9', '5', '5', '2', '7', '3', '3', '2', '4', '1', '2', '1', '9', '8', '6', '3', '1', '3', '2', '1', '0', '2', '8', '7', '4', '2', '4', '2', '1', '4', '6', '5', '5', '0', '4', '5', '7', '2', '0', '0', '8', '5', '0', '4', '7', '3', '2', '4', '1', '8', '5', '8', '8', '9', '6', '3', '9']\" of type <class 'list'> for key \"eval/labels\" as a scalar. This invocation of Tensorboard's writer.add_scalar() is incorrect so we dropped this attribute.\n",
      "***** Running Evaluation *****\n",
      "  Num examples = 198\n",
      "  Batch size = 4\n",
      "Trainer is attempting to log a value of \"['1', '6', '6', '6', '4', '7', '5', '8', '1', '7', '3', '0', '6', '1', '8', '6', '4', '0', '9', '8', '4', '3', '8', '0', '3', '1', '1', '2', '4', '1', '7', '2', '4', '3', '6', '7', '1', '7', '7', '7', '4', '3', '4', '4', '2', '4', '6', '3', '3', '8', '7', '6', '3', '3', '5', '1', '5', '2', '0', '6', '2', '3', '0', '3', '6', '6', '7', '2', '7', '6', '2', '6', '9', '0', '9', '4', '2', '1', '1', '8', '2', '1', '1', '3', '7', '1', '3', '2', '8', '5', '1', '4', '3', '2', '1', '8', '0', '9', '0', '1', '0', '4', '2', '4', '4', '6', '7', '5', '4', '7', '8', '7', '7', '2', '0', '8', '2', '6', '2', '2', '1', '1', '7', '1', '6', '1', '6', '7', '1', '2', '6', '9', '7', '6', '4', '8', '7', '8', '0', '5', '6', '9', '5', '5', '2', '7', '3', '3', '2', '4', '1', '2', '1', '9', '8', '6', '3', '1', '3', '2', '1', '0', '2', '8', '7', '4', '2', '4', '2', '1', '4', '6', '5', '5', '0', '4', '5', '2', '2', '0', '0', '8', '5', '0', '4', '7', '3', '2', '4', '1', '8', '5', '8', '8', '9', '6', '3', '9']\" of type <class 'list'> for key \"eval/pred\" as a scalar. This invocation of Tensorboard's writer.add_scalar() is incorrect so we dropped this attribute.\n",
      "Trainer is attempting to log a value of \"['1', '6', '6', '6', '4', '7', '5', '8', '1', '7', '3', '0', '6', '1', '8', '6', '4', '0', '9', '0', '4', '3', '8', '0', '3', '1', '1', '2', '4', '1', '7', '2', '4', '3', '6', '7', '1', '7', '7', '7', '4', '3', '4', '4', '2', '4', '6', '3', '3', '8', '3', '6', '3', '3', '5', '1', '3', '2', '0', '6', '2', '3', '0', '3', '6', '6', '7', '2', '7', '6', '2', '6', '2', '0', '9', '4', '2', '1', '1', '8', '2', '1', '1', '3', '7', '1', '3', '2', '8', '5', '1', '4', '3', '2', '1', '8', '0', '9', '0', '1', '0', '4', '2', '4', '4', '6', '7', '5', '4', '7', '8', '7', '7', '2', '0', '8', '2', '6', '2', '2', '1', '1', '7', '1', '6', '7', '6', '7', '1', '2', '6', '9', '7', '7', '4', '8', '7', '8', '4', '5', '6', '9', '5', '5', '2', '7', '3', '3', '2', '4', '1', '2', '1', '9', '8', '6', '3', '1', '3', '2', '1', '0', '2', '8', '7', '4', '2', '4', '2', '1', '4', '6', '5', '5', '0', '4', '5', '7', '2', '0', '0', '8', '5', '0', '4', '7', '3', '2', '4', '1', '8', '5', '8', '8', '9', '6', '3', '9']\" of type <class 'list'> for key \"eval/labels\" as a scalar. This invocation of Tensorboard's writer.add_scalar() is incorrect so we dropped this attribute.\n"
     ]
    },
    {
     "name": "stderr",
     "output_type": "stream",
     "text": [
      "***** Running Evaluation *****\n",
      "  Num examples = 198\n",
      "  Batch size = 4\n",
      "Trainer is attempting to log a value of \"['1', '6', '6', '6', '4', '7', '5', '8', '1', '7', '3', '0', '6', '1', '8', '6', '4', '0', '9', '8', '4', '3', '8', '0', '3', '1', '1', '2', '4', '1', '7', '2', '4', '3', '6', '7', '1', '7', '7', '7', '4', '3', '4', '4', '2', '4', '6', '3', '3', '8', '7', '6', '3', '3', '5', '1', '3', '2', '0', '6', '2', '3', '0', '3', '6', '6', '7', '2', '7', '6', '2', '6', '9', '0', '9', '4', '2', '1', '1', '8', '2', '1', '1', '3', '7', '1', '3', '2', '8', '5', '1', '4', '3', '2', '1', '8', '0', '9', '0', '1', '0', '4', '2', '4', '4', '6', '7', '5', '4', '7', '8', '7', '7', '2', '0', '8', '2', '6', '2', '2', '1', '1', '7', '1', '6', '7', '6', '7', '1', '2', '6', '9', '7', '7', '4', '8', '7', '8', '0', '5', '6', '9', '5', '5', '2', '7', '3', '3', '2', '4', '1', '2', '1', '9', '8', '6', '3', '1', '3', '2', '1', '0', '2', '8', '7', '4', '2', '4', '2', '1', '4', '6', '5', '5', '0', '4', '5', '2', '2', '0', '0', '8', '5', '0', '4', '7', '3', '2', '4', '1', '8', '5', '8', '8', '9', '6', '3', '9']\" of type <class 'list'> for key \"eval/pred\" as a scalar. This invocation of Tensorboard's writer.add_scalar() is incorrect so we dropped this attribute.\n",
      "Trainer is attempting to log a value of \"['1', '6', '6', '6', '4', '7', '5', '8', '1', '7', '3', '0', '6', '1', '8', '6', '4', '0', '9', '0', '4', '3', '8', '0', '3', '1', '1', '2', '4', '1', '7', '2', '4', '3', '6', '7', '1', '7', '7', '7', '4', '3', '4', '4', '2', '4', '6', '3', '3', '8', '3', '6', '3', '3', '5', '1', '3', '2', '0', '6', '2', '3', '0', '3', '6', '6', '7', '2', '7', '6', '2', '6', '2', '0', '9', '4', '2', '1', '1', '8', '2', '1', '1', '3', '7', '1', '3', '2', '8', '5', '1', '4', '3', '2', '1', '8', '0', '9', '0', '1', '0', '4', '2', '4', '4', '6', '7', '5', '4', '7', '8', '7', '7', '2', '0', '8', '2', '6', '2', '2', '1', '1', '7', '1', '6', '7', '6', '7', '1', '2', '6', '9', '7', '7', '4', '8', '7', '8', '4', '5', '6', '9', '5', '5', '2', '7', '3', '3', '2', '4', '1', '2', '1', '9', '8', '6', '3', '1', '3', '2', '1', '0', '2', '8', '7', '4', '2', '4', '2', '1', '4', '6', '5', '5', '0', '4', '5', '7', '2', '0', '0', '8', '5', '0', '4', '7', '3', '2', '4', '1', '8', '5', '8', '8', '9', '6', '3', '9']\" of type <class 'list'> for key \"eval/labels\" as a scalar. This invocation of Tensorboard's writer.add_scalar() is incorrect so we dropped this attribute.\n",
      "***** Running Evaluation *****\n",
      "  Num examples = 198\n",
      "  Batch size = 4\n",
      "Trainer is attempting to log a value of \"['1', '6', '6', '6', '4', '7', '5', '8', '1', '7', '3', '0', '6', '1', '8', '6', '4', '0', '9', '0', '4', '3', '8', '0', '3', '1', '1', '2', '4', '1', '7', '2', '4', '3', '6', '7', '1', '7', '7', '7', '4', '3', '4', '4', '2', '4', '6', '3', '3', '8', '7', '6', '3', '3', '5', '1', '3', '2', '0', '6', '2', '3', '0', '3', '6', '6', '7', '2', '7', '6', '2', '6', '9', '0', '9', '4', '2', '1', '1', '8', '2', '1', '1', '3', '7', '1', '3', '2', '8', '5', '1', '4', '3', '2', '1', '8', '0', '9', '0', '1', '0', '4', '2', '4', '4', '6', '7', '5', '4', '7', '8', '7', '7', '2', '0', '8', '2', '6', '2', '2', '1', '1', '7', '1', '6', '7', '6', '7', '1', '2', '6', '9', '7', '7', '4', '8', '7', '8', '0', '5', '6', '4', '5', '5', '2', '7', '3', '3', '2', '4', '1', '2', '1', '9', '8', '6', '3', '1', '3', '2', '1', '0', '2', '8', '7', '4', '2', '4', '2', '1', '4', '6', '5', '5', '0', '4', '5', '2', '2', '0', '0', '8', '5', '0', '4', '7', '3', '2', '4', '1', '8', '5', '8', '8', '9', '6', '3', '9']\" of type <class 'list'> for key \"eval/pred\" as a scalar. This invocation of Tensorboard's writer.add_scalar() is incorrect so we dropped this attribute.\n",
      "Trainer is attempting to log a value of \"['1', '6', '6', '6', '4', '7', '5', '8', '1', '7', '3', '0', '6', '1', '8', '6', '4', '0', '9', '0', '4', '3', '8', '0', '3', '1', '1', '2', '4', '1', '7', '2', '4', '3', '6', '7', '1', '7', '7', '7', '4', '3', '4', '4', '2', '4', '6', '3', '3', '8', '3', '6', '3', '3', '5', '1', '3', '2', '0', '6', '2', '3', '0', '3', '6', '6', '7', '2', '7', '6', '2', '6', '2', '0', '9', '4', '2', '1', '1', '8', '2', '1', '1', '3', '7', '1', '3', '2', '8', '5', '1', '4', '3', '2', '1', '8', '0', '9', '0', '1', '0', '4', '2', '4', '4', '6', '7', '5', '4', '7', '8', '7', '7', '2', '0', '8', '2', '6', '2', '2', '1', '1', '7', '1', '6', '7', '6', '7', '1', '2', '6', '9', '7', '7', '4', '8', '7', '8', '4', '5', '6', '9', '5', '5', '2', '7', '3', '3', '2', '4', '1', '2', '1', '9', '8', '6', '3', '1', '3', '2', '1', '0', '2', '8', '7', '4', '2', '4', '2', '1', '4', '6', '5', '5', '0', '4', '5', '7', '2', '0', '0', '8', '5', '0', '4', '7', '3', '2', '4', '1', '8', '5', '8', '8', '9', '6', '3', '9']\" of type <class 'list'> for key \"eval/labels\" as a scalar. This invocation of Tensorboard's writer.add_scalar() is incorrect so we dropped this attribute.\n",
      "***** Running Evaluation *****\n",
      "  Num examples = 198\n",
      "  Batch size = 4\n",
      "Trainer is attempting to log a value of \"['1', '6', '6', '6', '4', '7', '5', '8', '1', '7', '3', '0', '6', '1', '8', '6', '4', '0', '9', '0', '4', '3', '8', '0', '3', '1', '1', '2', '4', '1', '7', '2', '4', '3', '6', '7', '1', '7', '7', '7', '4', '3', '4', '4', '2', '4', '6', '3', '3', '8', '7', '6', '3', '3', '5', '1', '3', '2', '0', '6', '2', '3', '0', '3', '6', '6', '7', '2', '7', '6', '2', '6', '2', '0', '9', '4', '2', '1', '1', '8', '2', '1', '1', '3', '7', '1', '3', '2', '8', '5', '1', '4', '3', '2', '1', '8', '0', '9', '0', '1', '0', '4', '2', '4', '4', '6', '7', '5', '4', '7', '8', '7', '7', '2', '0', '8', '2', '6', '2', '2', '1', '1', '7', '1', '6', '7', '6', '7', '1', '2', '6', '9', '7', '7', '4', '8', '7', '8', '0', '5', '6', '9', '5', '5', '2', '7', '3', '3', '2', '4', '1', '2', '1', '9', '8', '6', '3', '1', '3', '2', '1', '0', '2', '8', '7', '4', '2', '4', '2', '1', '4', '6', '5', '5', '0', '4', '5', '7', '2', '0', '0', '8', '5', '0', '4', '7', '3', '2', '4', '1', '8', '5', '8', '8', '9', '6', '3', '9']\" of type <class 'list'> for key \"eval/pred\" as a scalar. This invocation of Tensorboard's writer.add_scalar() is incorrect so we dropped this attribute.\n",
      "Trainer is attempting to log a value of \"['1', '6', '6', '6', '4', '7', '5', '8', '1', '7', '3', '0', '6', '1', '8', '6', '4', '0', '9', '0', '4', '3', '8', '0', '3', '1', '1', '2', '4', '1', '7', '2', '4', '3', '6', '7', '1', '7', '7', '7', '4', '3', '4', '4', '2', '4', '6', '3', '3', '8', '3', '6', '3', '3', '5', '1', '3', '2', '0', '6', '2', '3', '0', '3', '6', '6', '7', '2', '7', '6', '2', '6', '2', '0', '9', '4', '2', '1', '1', '8', '2', '1', '1', '3', '7', '1', '3', '2', '8', '5', '1', '4', '3', '2', '1', '8', '0', '9', '0', '1', '0', '4', '2', '4', '4', '6', '7', '5', '4', '7', '8', '7', '7', '2', '0', '8', '2', '6', '2', '2', '1', '1', '7', '1', '6', '7', '6', '7', '1', '2', '6', '9', '7', '7', '4', '8', '7', '8', '4', '5', '6', '9', '5', '5', '2', '7', '3', '3', '2', '4', '1', '2', '1', '9', '8', '6', '3', '1', '3', '2', '1', '0', '2', '8', '7', '4', '2', '4', '2', '1', '4', '6', '5', '5', '0', '4', '5', '7', '2', '0', '0', '8', '5', '0', '4', '7', '3', '2', '4', '1', '8', '5', '8', '8', '9', '6', '3', '9']\" of type <class 'list'> for key \"eval/labels\" as a scalar. This invocation of Tensorboard's writer.add_scalar() is incorrect so we dropped this attribute.\n",
      "***** Running Evaluation *****\n",
      "  Num examples = 198\n",
      "  Batch size = 4\n",
      "Trainer is attempting to log a value of \"['1', '6', '6', '6', '4', '7', '5', '8', '1', '7', '3', '0', '6', '1', '8', '6', '4', '0', '9', '0', '4', '3', '8', '0', '3', '1', '1', '2', '4', '1', '7', '2', '4', '3', '6', '7', '1', '7', '7', '7', '4', '3', '4', '4', '2', '4', '6', '3', '3', '8', '7', '6', '3', '3', '5', '1', '3', '2', '0', '6', '2', '3', '0', '3', '6', '6', '7', '2', '7', '6', '2', '6', '9', '0', '9', '4', '2', '1', '1', '8', '2', '1', '1', '3', '7', '1', '3', '2', '8', '5', '1', '4', '3', '2', '1', '8', '0', '9', '0', '1', '0', '4', '2', '4', '4', '6', '7', '5', '4', '7', '8', '7', '7', '2', '0', '8', '2', '6', '2', '2', '1', '1', '7', '1', '6', '7', '6', '7', '1', '2', '6', '9', '7', '7', '4', '8', '7', '8', '0', '5', '6', '9', '5', '5', '2', '7', '3', '3', '2', '4', '1', '2', '1', '9', '8', '6', '3', '1', '3', '2', '1', '0', '2', '8', '7', '4', '2', '4', '2', '1', '4', '6', '5', '5', '0', '4', '5', '7', '2', '0', '0', '8', '5', '0', '4', '7', '3', '2', '4', '1', '8', '5', '8', '8', '9', '6', '3', '9']\" of type <class 'list'> for key \"eval/pred\" as a scalar. This invocation of Tensorboard's writer.add_scalar() is incorrect so we dropped this attribute.\n"
     ]
    },
    {
     "name": "stderr",
     "output_type": "stream",
     "text": [
      "Trainer is attempting to log a value of \"['1', '6', '6', '6', '4', '7', '5', '8', '1', '7', '3', '0', '6', '1', '8', '6', '4', '0', '9', '0', '4', '3', '8', '0', '3', '1', '1', '2', '4', '1', '7', '2', '4', '3', '6', '7', '1', '7', '7', '7', '4', '3', '4', '4', '2', '4', '6', '3', '3', '8', '3', '6', '3', '3', '5', '1', '3', '2', '0', '6', '2', '3', '0', '3', '6', '6', '7', '2', '7', '6', '2', '6', '2', '0', '9', '4', '2', '1', '1', '8', '2', '1', '1', '3', '7', '1', '3', '2', '8', '5', '1', '4', '3', '2', '1', '8', '0', '9', '0', '1', '0', '4', '2', '4', '4', '6', '7', '5', '4', '7', '8', '7', '7', '2', '0', '8', '2', '6', '2', '2', '1', '1', '7', '1', '6', '7', '6', '7', '1', '2', '6', '9', '7', '7', '4', '8', '7', '8', '4', '5', '6', '9', '5', '5', '2', '7', '3', '3', '2', '4', '1', '2', '1', '9', '8', '6', '3', '1', '3', '2', '1', '0', '2', '8', '7', '4', '2', '4', '2', '1', '4', '6', '5', '5', '0', '4', '5', '7', '2', '0', '0', '8', '5', '0', '4', '7', '3', '2', '4', '1', '8', '5', '8', '8', '9', '6', '3', '9']\" of type <class 'list'> for key \"eval/labels\" as a scalar. This invocation of Tensorboard's writer.add_scalar() is incorrect so we dropped this attribute.\n",
      "***** Running Evaluation *****\n",
      "  Num examples = 198\n",
      "  Batch size = 4\n",
      "Trainer is attempting to log a value of \"['1', '6', '6', '6', '4', '7', '5', '8', '1', '7', '3', '0', '6', '1', '8', '6', '4', '0', '9', '0', '4', '3', '8', '0', '3', '1', '1', '2', '4', '1', '7', '2', '4', '3', '6', '7', '1', '7', '7', '7', '4', '3', '4', '4', '2', '4', '6', '3', '3', '8', '7', '6', '3', '3', '5', '1', '3', '2', '0', '6', '2', '3', '0', '3', '6', '6', '7', '2', '7', '6', '2', '6', '2', '0', '9', '4', '2', '1', '1', '8', '2', '1', '1', '3', '7', '1', '3', '2', '8', '5', '1', '4', '3', '2', '1', '8', '0', '9', '0', '1', '0', '4', '2', '4', '4', '6', '7', '5', '4', '7', '8', '7', '7', '2', '0', '8', '2', '6', '2', '2', '1', '1', '7', '1', '6', '7', '6', '7', '1', '2', '6', '9', '7', '7', '4', '8', '7', '8', '0', '5', '6', '9', '5', '5', '2', '7', '3', '3', '2', '4', '1', '2', '1', '9', '8', '6', '3', '1', '3', '2', '1', '0', '2', '8', '7', '4', '2', '4', '2', '1', '4', '6', '5', '5', '0', '4', '5', '7', '2', '0', '0', '8', '5', '0', '4', '7', '3', '2', '4', '1', '8', '5', '8', '8', '9', '6', '3', '9']\" of type <class 'list'> for key \"eval/pred\" as a scalar. This invocation of Tensorboard's writer.add_scalar() is incorrect so we dropped this attribute.\n",
      "Trainer is attempting to log a value of \"['1', '6', '6', '6', '4', '7', '5', '8', '1', '7', '3', '0', '6', '1', '8', '6', '4', '0', '9', '0', '4', '3', '8', '0', '3', '1', '1', '2', '4', '1', '7', '2', '4', '3', '6', '7', '1', '7', '7', '7', '4', '3', '4', '4', '2', '4', '6', '3', '3', '8', '3', '6', '3', '3', '5', '1', '3', '2', '0', '6', '2', '3', '0', '3', '6', '6', '7', '2', '7', '6', '2', '6', '2', '0', '9', '4', '2', '1', '1', '8', '2', '1', '1', '3', '7', '1', '3', '2', '8', '5', '1', '4', '3', '2', '1', '8', '0', '9', '0', '1', '0', '4', '2', '4', '4', '6', '7', '5', '4', '7', '8', '7', '7', '2', '0', '8', '2', '6', '2', '2', '1', '1', '7', '1', '6', '7', '6', '7', '1', '2', '6', '9', '7', '7', '4', '8', '7', '8', '4', '5', '6', '9', '5', '5', '2', '7', '3', '3', '2', '4', '1', '2', '1', '9', '8', '6', '3', '1', '3', '2', '1', '0', '2', '8', '7', '4', '2', '4', '2', '1', '4', '6', '5', '5', '0', '4', '5', '7', '2', '0', '0', '8', '5', '0', '4', '7', '3', '2', '4', '1', '8', '5', '8', '8', '9', '6', '3', '9']\" of type <class 'list'> for key \"eval/labels\" as a scalar. This invocation of Tensorboard's writer.add_scalar() is incorrect so we dropped this attribute.\n",
      "***** Running Evaluation *****\n",
      "  Num examples = 198\n",
      "  Batch size = 4\n",
      "Trainer is attempting to log a value of \"['4', '6', '6', '6', '4', '7', '5', '8', '1', '7', '3', '0', '6', '1', '8', '6', '4', '0', '9', '0', '4', '3', '8', '0', '3', '1', '1', '2', '4', '9', '7', '2', '4', '3', '6', '7', '1', '7', '3', '7', '4', '3', '4', '4', '2', '4', '6', '3', '3', '8', '3', '6', '3', '3', '5', '1', '3', '2', '0', '6', '2', '3', '0', '3', '6', '6', '7', '2', '9', '6', '2', '6', '9', '0', '9', '4', '2', '1', '1', '8', '2', '1', '1', '3', '7', '1', '3', '2', '8', '5', '1', '4', '3', '2', '1', '8', '0', '9', '0', '1', '0', '4', '2', '4', '4', '6', '3', '5', '4', '7', '8', '7', '2', '2', '0', '8', '2', '6', '2', '2', '1', '1', '7', '1', '6', '7', '6', '7', '1', '2', '6', '9', '7', '7', '4', '8', '7', '8', '0', '5', '6', '9', '5', '5', '2', '7', '3', '3', '2', '4', '1', '2', '1', '9', '8', '6', '3', '1', '3', '2', '1', '0', '2', '8', '7', '4', '2', '4', '2', '1', '4', '6', '5', '5', '0', '4', '5', '7', '2', '0', '0', '8', '5', '0', '4', '7', '3', '2', '4', '1', '8', '5', '8', '8', '9', '6', '3', '9']\" of type <class 'list'> for key \"eval/pred\" as a scalar. This invocation of Tensorboard's writer.add_scalar() is incorrect so we dropped this attribute.\n",
      "Trainer is attempting to log a value of \"['1', '6', '6', '6', '4', '7', '5', '8', '1', '7', '3', '0', '6', '1', '8', '6', '4', '0', '9', '0', '4', '3', '8', '0', '3', '1', '1', '2', '4', '1', '7', '2', '4', '3', '6', '7', '1', '7', '7', '7', '4', '3', '4', '4', '2', '4', '6', '3', '3', '8', '3', '6', '3', '3', '5', '1', '3', '2', '0', '6', '2', '3', '0', '3', '6', '6', '7', '2', '7', '6', '2', '6', '2', '0', '9', '4', '2', '1', '1', '8', '2', '1', '1', '3', '7', '1', '3', '2', '8', '5', '1', '4', '3', '2', '1', '8', '0', '9', '0', '1', '0', '4', '2', '4', '4', '6', '7', '5', '4', '7', '8', '7', '7', '2', '0', '8', '2', '6', '2', '2', '1', '1', '7', '1', '6', '7', '6', '7', '1', '2', '6', '9', '7', '7', '4', '8', '7', '8', '4', '5', '6', '9', '5', '5', '2', '7', '3', '3', '2', '4', '1', '2', '1', '9', '8', '6', '3', '1', '3', '2', '1', '0', '2', '8', '7', '4', '2', '4', '2', '1', '4', '6', '5', '5', '0', '4', '5', '7', '2', '0', '0', '8', '5', '0', '4', '7', '3', '2', '4', '1', '8', '5', '8', '8', '9', '6', '3', '9']\" of type <class 'list'> for key \"eval/labels\" as a scalar. This invocation of Tensorboard's writer.add_scalar() is incorrect so we dropped this attribute.\n",
      "***** Running Evaluation *****\n",
      "  Num examples = 198\n",
      "  Batch size = 4\n",
      "Trainer is attempting to log a value of \"['1', '6', '6', '6', '4', '7', '5', '8', '1', '7', '3', '0', '6', '1', '8', '6', '4', '0', '9', '0', '4', '3', '8', '0', '3', '1', '1', '2', '4', '1', '7', '2', '4', '3', '6', '7', '1', '7', '7', '7', '4', '3', '4', '4', '2', '4', '6', '3', '3', '8', '7', '6', '3', '3', '5', '1', '3', '2', '0', '6', '2', '3', '0', '3', '6', '6', '7', '2', '7', '6', '2', '6', '9', '0', '9', '4', '2', '1', '1', '8', '2', '1', '1', '3', '7', '1', '3', '2', '8', '5', '1', '4', '3', '2', '1', '8', '0', '9', '0', '1', '0', '4', '2', '4', '4', '6', '7', '5', '4', '7', '8', '7', '7', '2', '0', '8', '2', '6', '2', '2', '1', '1', '7', '1', '6', '7', '6', '7', '1', '2', '6', '9', '7', '7', '4', '8', '7', '8', '0', '5', '6', '9', '5', '5', '2', '7', '3', '3', '2', '4', '1', '2', '1', '9', '8', '6', '3', '1', '3', '2', '1', '0', '2', '8', '7', '4', '2', '4', '2', '1', '4', '6', '5', '5', '0', '4', '5', '7', '2', '0', '0', '8', '5', '0', '4', '7', '3', '2', '4', '1', '8', '5', '8', '8', '9', '6', '3', '9']\" of type <class 'list'> for key \"eval/pred\" as a scalar. This invocation of Tensorboard's writer.add_scalar() is incorrect so we dropped this attribute.\n",
      "Trainer is attempting to log a value of \"['1', '6', '6', '6', '4', '7', '5', '8', '1', '7', '3', '0', '6', '1', '8', '6', '4', '0', '9', '0', '4', '3', '8', '0', '3', '1', '1', '2', '4', '1', '7', '2', '4', '3', '6', '7', '1', '7', '7', '7', '4', '3', '4', '4', '2', '4', '6', '3', '3', '8', '3', '6', '3', '3', '5', '1', '3', '2', '0', '6', '2', '3', '0', '3', '6', '6', '7', '2', '7', '6', '2', '6', '2', '0', '9', '4', '2', '1', '1', '8', '2', '1', '1', '3', '7', '1', '3', '2', '8', '5', '1', '4', '3', '2', '1', '8', '0', '9', '0', '1', '0', '4', '2', '4', '4', '6', '7', '5', '4', '7', '8', '7', '7', '2', '0', '8', '2', '6', '2', '2', '1', '1', '7', '1', '6', '7', '6', '7', '1', '2', '6', '9', '7', '7', '4', '8', '7', '8', '4', '5', '6', '9', '5', '5', '2', '7', '3', '3', '2', '4', '1', '2', '1', '9', '8', '6', '3', '1', '3', '2', '1', '0', '2', '8', '7', '4', '2', '4', '2', '1', '4', '6', '5', '5', '0', '4', '5', '7', '2', '0', '0', '8', '5', '0', '4', '7', '3', '2', '4', '1', '8', '5', '8', '8', '9', '6', '3', '9']\" of type <class 'list'> for key \"eval/labels\" as a scalar. This invocation of Tensorboard's writer.add_scalar() is incorrect so we dropped this attribute.\n"
     ]
    },
    {
     "name": "stderr",
     "output_type": "stream",
     "text": [
      "***** Running Evaluation *****\n",
      "  Num examples = 198\n",
      "  Batch size = 4\n",
      "Trainer is attempting to log a value of \"['1', '6', '6', '6', '4', '7', '5', '8', '1', '7', '3', '0', '6', '1', '8', '6', '4', '0', '9', '0', '4', '3', '8', '0', '3', '1', '1', '2', '4', '1', '7', '2', '4', '3', '6', '7', '1', '7', '7', '7', '1', '3', '4', '4', '2', '4', '6', '3', '3', '2', '7', '6', '3', '3', '5', '1', '3', '2', '0', '6', '2', '3', '0', '3', '6', '6', '7', '2', '7', '6', '2', '6', '2', '0', '9', '4', '2', '1', '1', '8', '2', '1', '1', '3', '7', '1', '3', '2', '8', '5', '1', '4', '3', '2', '1', '8', '0', '9', '0', '1', '0', '4', '2', '4', '4', '6', '7', '5', '4', '7', '8', '7', '7', '2', '0', '8', '2', '6', '2', '2', '1', '1', '7', '1', '6', '7', '6', '7', '1', '2', '6', '9', '7', '7', '4', '8', '7', '8', '0', '5', '6', '9', '5', '5', '2', '7', '3', '3', '2', '4', '1', '2', '1', '9', '8', '6', '3', '1', '3', '2', '1', '0', '2', '8', '7', '4', '2', '4', '2', '1', '4', '6', '5', '5', '0', '4', '5', '7', '2', '0', '0', '8', '5', '0', '4', '7', '3', '2', '4', '1', '8', '5', '8', '8', '9', '6', '3', '9']\" of type <class 'list'> for key \"eval/pred\" as a scalar. This invocation of Tensorboard's writer.add_scalar() is incorrect so we dropped this attribute.\n",
      "Trainer is attempting to log a value of \"['1', '6', '6', '6', '4', '7', '5', '8', '1', '7', '3', '0', '6', '1', '8', '6', '4', '0', '9', '0', '4', '3', '8', '0', '3', '1', '1', '2', '4', '1', '7', '2', '4', '3', '6', '7', '1', '7', '7', '7', '4', '3', '4', '4', '2', '4', '6', '3', '3', '8', '3', '6', '3', '3', '5', '1', '3', '2', '0', '6', '2', '3', '0', '3', '6', '6', '7', '2', '7', '6', '2', '6', '2', '0', '9', '4', '2', '1', '1', '8', '2', '1', '1', '3', '7', '1', '3', '2', '8', '5', '1', '4', '3', '2', '1', '8', '0', '9', '0', '1', '0', '4', '2', '4', '4', '6', '7', '5', '4', '7', '8', '7', '7', '2', '0', '8', '2', '6', '2', '2', '1', '1', '7', '1', '6', '7', '6', '7', '1', '2', '6', '9', '7', '7', '4', '8', '7', '8', '4', '5', '6', '9', '5', '5', '2', '7', '3', '3', '2', '4', '1', '2', '1', '9', '8', '6', '3', '1', '3', '2', '1', '0', '2', '8', '7', '4', '2', '4', '2', '1', '4', '6', '5', '5', '0', '4', '5', '7', '2', '0', '0', '8', '5', '0', '4', '7', '3', '2', '4', '1', '8', '5', '8', '8', '9', '6', '3', '9']\" of type <class 'list'> for key \"eval/labels\" as a scalar. This invocation of Tensorboard's writer.add_scalar() is incorrect so we dropped this attribute.\n",
      "***** Running Evaluation *****\n",
      "  Num examples = 198\n",
      "  Batch size = 4\n",
      "Trainer is attempting to log a value of \"['1', '6', '6', '6', '4', '7', '5', '8', '1', '1', '3', '0', '6', '1', '8', '6', '4', '0', '9', '0', '4', '3', '8', '0', '3', '1', '1', '2', '4', '1', '7', '2', '4', '3', '6', '7', '1', '7', '7', '7', '4', '3', '4', '4', '2', '4', '6', '3', '3', '8', '7', '6', '3', '3', '5', '1', '3', '2', '0', '6', '2', '3', '0', '3', '6', '6', '7', '2', '7', '6', '2', '6', '9', '0', '9', '4', '2', '1', '1', '8', '2', '1', '1', '3', '7', '1', '3', '2', '8', '5', '1', '4', '3', '2', '1', '8', '0', '9', '0', '1', '0', '4', '2', '4', '4', '6', '7', '5', '4', '7', '8', '7', '7', '2', '0', '8', '2', '6', '2', '2', '1', '1', '7', '1', '6', '7', '6', '7', '1', '2', '6', '9', '7', '1', '4', '8', '7', '8', '0', '5', '6', '9', '5', '5', '2', '7', '3', '3', '2', '4', '1', '2', '1', '9', '8', '6', '3', '1', '3', '2', '1', '0', '2', '8', '7', '4', '2', '4', '2', '1', '4', '6', '5', '5', '0', '4', '5', '7', '2', '0', '0', '8', '5', '0', '4', '1', '3', '2', '4', '1', '8', '5', '8', '8', '9', '6', '3', '9']\" of type <class 'list'> for key \"eval/pred\" as a scalar. This invocation of Tensorboard's writer.add_scalar() is incorrect so we dropped this attribute.\n",
      "Trainer is attempting to log a value of \"['1', '6', '6', '6', '4', '7', '5', '8', '1', '7', '3', '0', '6', '1', '8', '6', '4', '0', '9', '0', '4', '3', '8', '0', '3', '1', '1', '2', '4', '1', '7', '2', '4', '3', '6', '7', '1', '7', '7', '7', '4', '3', '4', '4', '2', '4', '6', '3', '3', '8', '3', '6', '3', '3', '5', '1', '3', '2', '0', '6', '2', '3', '0', '3', '6', '6', '7', '2', '7', '6', '2', '6', '2', '0', '9', '4', '2', '1', '1', '8', '2', '1', '1', '3', '7', '1', '3', '2', '8', '5', '1', '4', '3', '2', '1', '8', '0', '9', '0', '1', '0', '4', '2', '4', '4', '6', '7', '5', '4', '7', '8', '7', '7', '2', '0', '8', '2', '6', '2', '2', '1', '1', '7', '1', '6', '7', '6', '7', '1', '2', '6', '9', '7', '7', '4', '8', '7', '8', '4', '5', '6', '9', '5', '5', '2', '7', '3', '3', '2', '4', '1', '2', '1', '9', '8', '6', '3', '1', '3', '2', '1', '0', '2', '8', '7', '4', '2', '4', '2', '1', '4', '6', '5', '5', '0', '4', '5', '7', '2', '0', '0', '8', '5', '0', '4', '7', '3', '2', '4', '1', '8', '5', '8', '8', '9', '6', '3', '9']\" of type <class 'list'> for key \"eval/labels\" as a scalar. This invocation of Tensorboard's writer.add_scalar() is incorrect so we dropped this attribute.\n",
      "***** Running Evaluation *****\n",
      "  Num examples = 198\n",
      "  Batch size = 4\n",
      "Trainer is attempting to log a value of \"['1', '6', '6', '6', '4', '7', '5', '8', '1', '7', '3', '0', '6', '1', '8', '6', '4', '0', '9', '0', '4', '3', '8', '0', '3', '1', '1', '2', '4', '1', '7', '2', '4', '3', '6', '7', '1', '7', '7', '7', '4', '3', '4', '4', '2', '4', '6', '3', '3', '8', '7', '6', '3', '3', '5', '1', '3', '2', '0', '6', '2', '3', '0', '3', '6', '6', '7', '2', '7', '6', '2', '6', '2', '0', '9', '4', '2', '1', '1', '8', '2', '1', '1', '3', '7', '1', '3', '2', '8', '5', '1', '4', '3', '2', '1', '8', '0', '9', '0', '1', '0', '4', '2', '4', '4', '6', '7', '5', '4', '7', '8', '7', '7', '2', '0', '8', '2', '6', '2', '2', '1', '1', '7', '1', '6', '7', '6', '7', '1', '2', '6', '9', '7', '7', '4', '8', '7', '8', '0', '5', '6', '9', '5', '5', '2', '7', '3', '3', '2', '4', '1', '2', '1', '9', '8', '6', '3', '1', '3', '2', '1', '0', '2', '8', '7', '4', '2', '4', '2', '1', '4', '6', '5', '5', '0', '4', '5', '7', '2', '0', '0', '8', '5', '0', '4', '7', '3', '2', '4', '1', '8', '5', '8', '8', '9', '6', '3', '9']\" of type <class 'list'> for key \"eval/pred\" as a scalar. This invocation of Tensorboard's writer.add_scalar() is incorrect so we dropped this attribute.\n",
      "Trainer is attempting to log a value of \"['1', '6', '6', '6', '4', '7', '5', '8', '1', '7', '3', '0', '6', '1', '8', '6', '4', '0', '9', '0', '4', '3', '8', '0', '3', '1', '1', '2', '4', '1', '7', '2', '4', '3', '6', '7', '1', '7', '7', '7', '4', '3', '4', '4', '2', '4', '6', '3', '3', '8', '3', '6', '3', '3', '5', '1', '3', '2', '0', '6', '2', '3', '0', '3', '6', '6', '7', '2', '7', '6', '2', '6', '2', '0', '9', '4', '2', '1', '1', '8', '2', '1', '1', '3', '7', '1', '3', '2', '8', '5', '1', '4', '3', '2', '1', '8', '0', '9', '0', '1', '0', '4', '2', '4', '4', '6', '7', '5', '4', '7', '8', '7', '7', '2', '0', '8', '2', '6', '2', '2', '1', '1', '7', '1', '6', '7', '6', '7', '1', '2', '6', '9', '7', '7', '4', '8', '7', '8', '4', '5', '6', '9', '5', '5', '2', '7', '3', '3', '2', '4', '1', '2', '1', '9', '8', '6', '3', '1', '3', '2', '1', '0', '2', '8', '7', '4', '2', '4', '2', '1', '4', '6', '5', '5', '0', '4', '5', '7', '2', '0', '0', '8', '5', '0', '4', '7', '3', '2', '4', '1', '8', '5', '8', '8', '9', '6', '3', '9']\" of type <class 'list'> for key \"eval/labels\" as a scalar. This invocation of Tensorboard's writer.add_scalar() is incorrect so we dropped this attribute.\n",
      "***** Running Evaluation *****\n",
      "  Num examples = 198\n",
      "  Batch size = 4\n",
      "Trainer is attempting to log a value of \"['1', '6', '6', '6', '4', '7', '5', '8', '1', '7', '3', '0', '6', '1', '8', '6', '4', '0', '9', '0', '4', '3', '8', '0', '3', '1', '1', '2', '4', '1', '7', '2', '4', '3', '6', '7', '1', '7', '7', '7', '4', '3', '4', '4', '2', '4', '6', '3', '3', '8', '7', '6', '3', '3', '5', '1', '3', '2', '0', '6', '2', '3', '0', '3', '6', '6', '7', '2', '7', '6', '2', '6', '9', '0', '9', '4', '2', '1', '1', '8', '2', '1', '1', '3', '7', '1', '3', '2', '8', '5', '1', '4', '3', '2', '1', '8', '0', '9', '0', '1', '0', '4', '2', '4', '4', '6', '7', '5', '4', '7', '8', '7', '7', '2', '0', '8', '2', '6', '2', '2', '1', '1', '7', '1', '6', '7', '6', '7', '1', '2', '6', '9', '7', '7', '4', '8', '7', '8', '0', '5', '6', '9', '5', '5', '2', '7', '3', '3', '2', '4', '1', '2', '1', '9', '8', '6', '3', '1', '3', '2', '1', '0', '2', '8', '7', '4', '2', '4', '2', '1', '4', '6', '5', '5', '0', '4', '5', '2', '2', '0', '0', '8', '5', '0', '4', '7', '3', '2', '4', '1', '8', '5', '8', '8', '9', '6', '3', '9']\" of type <class 'list'> for key \"eval/pred\" as a scalar. This invocation of Tensorboard's writer.add_scalar() is incorrect so we dropped this attribute.\n"
     ]
    },
    {
     "name": "stderr",
     "output_type": "stream",
     "text": [
      "Trainer is attempting to log a value of \"['1', '6', '6', '6', '4', '7', '5', '8', '1', '7', '3', '0', '6', '1', '8', '6', '4', '0', '9', '0', '4', '3', '8', '0', '3', '1', '1', '2', '4', '1', '7', '2', '4', '3', '6', '7', '1', '7', '7', '7', '4', '3', '4', '4', '2', '4', '6', '3', '3', '8', '3', '6', '3', '3', '5', '1', '3', '2', '0', '6', '2', '3', '0', '3', '6', '6', '7', '2', '7', '6', '2', '6', '2', '0', '9', '4', '2', '1', '1', '8', '2', '1', '1', '3', '7', '1', '3', '2', '8', '5', '1', '4', '3', '2', '1', '8', '0', '9', '0', '1', '0', '4', '2', '4', '4', '6', '7', '5', '4', '7', '8', '7', '7', '2', '0', '8', '2', '6', '2', '2', '1', '1', '7', '1', '6', '7', '6', '7', '1', '2', '6', '9', '7', '7', '4', '8', '7', '8', '4', '5', '6', '9', '5', '5', '2', '7', '3', '3', '2', '4', '1', '2', '1', '9', '8', '6', '3', '1', '3', '2', '1', '0', '2', '8', '7', '4', '2', '4', '2', '1', '4', '6', '5', '5', '0', '4', '5', '7', '2', '0', '0', '8', '5', '0', '4', '7', '3', '2', '4', '1', '8', '5', '8', '8', '9', '6', '3', '9']\" of type <class 'list'> for key \"eval/labels\" as a scalar. This invocation of Tensorboard's writer.add_scalar() is incorrect so we dropped this attribute.\n",
      "***** Running Evaluation *****\n",
      "  Num examples = 198\n",
      "  Batch size = 4\n",
      "Trainer is attempting to log a value of \"['1', '6', '6', '6', '4', '7', '5', '8', '1', '7', '3', '0', '6', '1', '8', '6', '4', '0', '9', '0', '4', '3', '8', '0', '3', '1', '1', '2', '4', '1', '7', '2', '4', '3', '6', '7', '1', '7', '3', '7', '4', '3', '4', '4', '2', '4', '6', '3', '3', '8', '3', '6', '3', '3', '5', '1', '3', '2', '0', '6', '2', '3', '0', '3', '6', '6', '7', '2', '7', '6', '2', '6', '9', '0', '9', '4', '2', '1', '1', '8', '2', '1', '1', '3', '7', '1', '3', '2', '8', '5', '1', '4', '3', '2', '1', '8', '0', '9', '0', '1', '0', '4', '2', '4', '4', '6', '3', '5', '4', '7', '8', '3', '7', '2', '0', '8', '2', '6', '2', '2', '1', '1', '7', '1', '6', '7', '6', '7', '1', '2', '6', '9', '7', '7', '4', '8', '7', '8', '0', '5', '6', '9', '5', '5', '2', '7', '3', '3', '2', '4', '1', '2', '1', '9', '8', '6', '3', '1', '3', '2', '1', '0', '2', '8', '7', '4', '2', '4', '2', '1', '4', '6', '5', '5', '0', '4', '5', '7', '2', '0', '0', '8', '5', '0', '4', '7', '3', '2', '4', '1', '8', '5', '8', '8', '9', '6', '3', '9']\" of type <class 'list'> for key \"eval/pred\" as a scalar. This invocation of Tensorboard's writer.add_scalar() is incorrect so we dropped this attribute.\n",
      "Trainer is attempting to log a value of \"['1', '6', '6', '6', '4', '7', '5', '8', '1', '7', '3', '0', '6', '1', '8', '6', '4', '0', '9', '0', '4', '3', '8', '0', '3', '1', '1', '2', '4', '1', '7', '2', '4', '3', '6', '7', '1', '7', '7', '7', '4', '3', '4', '4', '2', '4', '6', '3', '3', '8', '3', '6', '3', '3', '5', '1', '3', '2', '0', '6', '2', '3', '0', '3', '6', '6', '7', '2', '7', '6', '2', '6', '2', '0', '9', '4', '2', '1', '1', '8', '2', '1', '1', '3', '7', '1', '3', '2', '8', '5', '1', '4', '3', '2', '1', '8', '0', '9', '0', '1', '0', '4', '2', '4', '4', '6', '7', '5', '4', '7', '8', '7', '7', '2', '0', '8', '2', '6', '2', '2', '1', '1', '7', '1', '6', '7', '6', '7', '1', '2', '6', '9', '7', '7', '4', '8', '7', '8', '4', '5', '6', '9', '5', '5', '2', '7', '3', '3', '2', '4', '1', '2', '1', '9', '8', '6', '3', '1', '3', '2', '1', '0', '2', '8', '7', '4', '2', '4', '2', '1', '4', '6', '5', '5', '0', '4', '5', '7', '2', '0', '0', '8', '5', '0', '4', '7', '3', '2', '4', '1', '8', '5', '8', '8', '9', '6', '3', '9']\" of type <class 'list'> for key \"eval/labels\" as a scalar. This invocation of Tensorboard's writer.add_scalar() is incorrect so we dropped this attribute.\n",
      "***** Running Evaluation *****\n",
      "  Num examples = 198\n",
      "  Batch size = 4\n",
      "Trainer is attempting to log a value of \"['1', '6', '6', '6', '4', '7', '5', '8', '1', '7', '3', '0', '6', '1', '8', '6', '4', '0', '9', '0', '4', '3', '8', '0', '3', '1', '1', '2', '4', '1', '7', '2', '4', '3', '6', '7', '1', '7', '3', '7', '4', '3', '4', '4', '2', '4', '6', '3', '3', '8', '3', '6', '3', '3', '5', '1', '3', '2', '0', '6', '2', '3', '0', '3', '6', '6', '7', '2', '7', '6', '2', '6', '9', '0', '9', '4', '2', '1', '1', '8', '2', '1', '1', '3', '7', '1', '3', '2', '8', '5', '1', '4', '3', '2', '1', '8', '0', '9', '0', '1', '0', '4', '2', '4', '4', '6', '7', '5', '4', '7', '8', '7', '7', '2', '0', '8', '2', '6', '2', '2', '1', '1', '7', '1', '6', '7', '6', '7', '1', '2', '6', '9', '7', '7', '4', '8', '7', '8', '0', '5', '6', '9', '5', '5', '2', '7', '3', '3', '2', '4', '1', '2', '1', '9', '8', '6', '3', '1', '3', '2', '1', '0', '2', '8', '7', '4', '2', '4', '2', '1', '4', '6', '5', '5', '0', '4', '5', '7', '2', '0', '0', '8', '5', '0', '4', '7', '3', '2', '4', '1', '8', '5', '8', '8', '9', '6', '3', '9']\" of type <class 'list'> for key \"eval/pred\" as a scalar. This invocation of Tensorboard's writer.add_scalar() is incorrect so we dropped this attribute.\n",
      "Trainer is attempting to log a value of \"['1', '6', '6', '6', '4', '7', '5', '8', '1', '7', '3', '0', '6', '1', '8', '6', '4', '0', '9', '0', '4', '3', '8', '0', '3', '1', '1', '2', '4', '1', '7', '2', '4', '3', '6', '7', '1', '7', '7', '7', '4', '3', '4', '4', '2', '4', '6', '3', '3', '8', '3', '6', '3', '3', '5', '1', '3', '2', '0', '6', '2', '3', '0', '3', '6', '6', '7', '2', '7', '6', '2', '6', '2', '0', '9', '4', '2', '1', '1', '8', '2', '1', '1', '3', '7', '1', '3', '2', '8', '5', '1', '4', '3', '2', '1', '8', '0', '9', '0', '1', '0', '4', '2', '4', '4', '6', '7', '5', '4', '7', '8', '7', '7', '2', '0', '8', '2', '6', '2', '2', '1', '1', '7', '1', '6', '7', '6', '7', '1', '2', '6', '9', '7', '7', '4', '8', '7', '8', '4', '5', '6', '9', '5', '5', '2', '7', '3', '3', '2', '4', '1', '2', '1', '9', '8', '6', '3', '1', '3', '2', '1', '0', '2', '8', '7', '4', '2', '4', '2', '1', '4', '6', '5', '5', '0', '4', '5', '7', '2', '0', '0', '8', '5', '0', '4', '7', '3', '2', '4', '1', '8', '5', '8', '8', '9', '6', '3', '9']\" of type <class 'list'> for key \"eval/labels\" as a scalar. This invocation of Tensorboard's writer.add_scalar() is incorrect so we dropped this attribute.\n",
      "***** Running Evaluation *****\n",
      "  Num examples = 198\n",
      "  Batch size = 4\n",
      "Trainer is attempting to log a value of \"['1', '6', '6', '6', '4', '7', '5', '8', '1', '7', '3', '0', '6', '1', '8', '6', '4', '0', '9', '0', '4', '3', '8', '0', '3', '1', '1', '2', '4', '1', '7', '2', '4', '3', '6', '7', '1', '7', '7', '7', '4', '3', '4', '4', '2', '4', '6', '3', '3', '8', '3', '6', '3', '3', '5', '1', '3', '2', '0', '6', '2', '3', '0', '3', '6', '6', '7', '2', '7', '6', '2', '6', '2', '0', '9', '4', '2', '1', '1', '8', '2', '1', '1', '3', '7', '1', '3', '2', '8', '5', '1', '4', '3', '2', '1', '8', '0', '9', '0', '1', '0', '4', '2', '4', '4', '6', '7', '5', '4', '7', '8', '7', '7', '2', '0', '8', '2', '6', '2', '2', '1', '1', '7', '1', '6', '7', '6', '7', '1', '2', '6', '9', '7', '7', '4', '8', '7', '8', '0', '5', '6', '9', '5', '5', '2', '7', '3', '3', '2', '4', '1', '2', '1', '9', '8', '6', '3', '1', '3', '2', '1', '0', '2', '8', '7', '4', '2', '4', '2', '1', '4', '6', '5', '5', '0', '4', '5', '7', '2', '0', '0', '8', '5', '0', '4', '7', '3', '2', '4', '1', '8', '5', '8', '8', '9', '6', '3', '9']\" of type <class 'list'> for key \"eval/pred\" as a scalar. This invocation of Tensorboard's writer.add_scalar() is incorrect so we dropped this attribute.\n",
      "Trainer is attempting to log a value of \"['1', '6', '6', '6', '4', '7', '5', '8', '1', '7', '3', '0', '6', '1', '8', '6', '4', '0', '9', '0', '4', '3', '8', '0', '3', '1', '1', '2', '4', '1', '7', '2', '4', '3', '6', '7', '1', '7', '7', '7', '4', '3', '4', '4', '2', '4', '6', '3', '3', '8', '3', '6', '3', '3', '5', '1', '3', '2', '0', '6', '2', '3', '0', '3', '6', '6', '7', '2', '7', '6', '2', '6', '2', '0', '9', '4', '2', '1', '1', '8', '2', '1', '1', '3', '7', '1', '3', '2', '8', '5', '1', '4', '3', '2', '1', '8', '0', '9', '0', '1', '0', '4', '2', '4', '4', '6', '7', '5', '4', '7', '8', '7', '7', '2', '0', '8', '2', '6', '2', '2', '1', '1', '7', '1', '6', '7', '6', '7', '1', '2', '6', '9', '7', '7', '4', '8', '7', '8', '4', '5', '6', '9', '5', '5', '2', '7', '3', '3', '2', '4', '1', '2', '1', '9', '8', '6', '3', '1', '3', '2', '1', '0', '2', '8', '7', '4', '2', '4', '2', '1', '4', '6', '5', '5', '0', '4', '5', '7', '2', '0', '0', '8', '5', '0', '4', '7', '3', '2', '4', '1', '8', '5', '8', '8', '9', '6', '3', '9']\" of type <class 'list'> for key \"eval/labels\" as a scalar. This invocation of Tensorboard's writer.add_scalar() is incorrect so we dropped this attribute.\n"
     ]
    },
    {
     "name": "stderr",
     "output_type": "stream",
     "text": [
      "***** Running Evaluation *****\n",
      "  Num examples = 198\n",
      "  Batch size = 4\n",
      "Trainer is attempting to log a value of \"['1', '6', '6', '6', '4', '7', '5', '8', '1', '7', '3', '0', '6', '1', '8', '6', '4', '0', '9', '0', '4', '3', '8', '0', '3', '1', '1', '2', '4', '1', '7', '2', '4', '3', '6', '7', '1', '7', '7', '7', '4', '3', '4', '4', '2', '4', '6', '3', '3', '8', '3', '6', '3', '3', '5', '1', '3', '2', '0', '6', '2', '3', '0', '3', '6', '6', '7', '2', '7', '6', '2', '6', '2', '0', '9', '4', '2', '1', '1', '8', '2', '1', '1', '3', '7', '1', '3', '2', '8', '5', '1', '4', '3', '2', '1', '8', '0', '9', '0', '1', '0', '4', '2', '4', '4', '6', '7', '5', '4', '7', '8', '7', '7', '2', '0', '8', '2', '6', '2', '2', '1', '1', '7', '1', '6', '7', '6', '7', '1', '2', '6', '9', '7', '7', '4', '8', '7', '8', '0', '5', '6', '9', '5', '5', '2', '7', '3', '3', '2', '4', '1', '2', '1', '9', '8', '6', '3', '1', '3', '2', '1', '0', '2', '8', '7', '4', '2', '4', '2', '1', '4', '6', '5', '5', '0', '4', '5', '7', '2', '0', '0', '8', '5', '0', '4', '7', '3', '2', '4', '1', '8', '5', '8', '8', '9', '6', '3', '9']\" of type <class 'list'> for key \"eval/pred\" as a scalar. This invocation of Tensorboard's writer.add_scalar() is incorrect so we dropped this attribute.\n",
      "Trainer is attempting to log a value of \"['1', '6', '6', '6', '4', '7', '5', '8', '1', '7', '3', '0', '6', '1', '8', '6', '4', '0', '9', '0', '4', '3', '8', '0', '3', '1', '1', '2', '4', '1', '7', '2', '4', '3', '6', '7', '1', '7', '7', '7', '4', '3', '4', '4', '2', '4', '6', '3', '3', '8', '3', '6', '3', '3', '5', '1', '3', '2', '0', '6', '2', '3', '0', '3', '6', '6', '7', '2', '7', '6', '2', '6', '2', '0', '9', '4', '2', '1', '1', '8', '2', '1', '1', '3', '7', '1', '3', '2', '8', '5', '1', '4', '3', '2', '1', '8', '0', '9', '0', '1', '0', '4', '2', '4', '4', '6', '7', '5', '4', '7', '8', '7', '7', '2', '0', '8', '2', '6', '2', '2', '1', '1', '7', '1', '6', '7', '6', '7', '1', '2', '6', '9', '7', '7', '4', '8', '7', '8', '4', '5', '6', '9', '5', '5', '2', '7', '3', '3', '2', '4', '1', '2', '1', '9', '8', '6', '3', '1', '3', '2', '1', '0', '2', '8', '7', '4', '2', '4', '2', '1', '4', '6', '5', '5', '0', '4', '5', '7', '2', '0', '0', '8', '5', '0', '4', '7', '3', '2', '4', '1', '8', '5', '8', '8', '9', '6', '3', '9']\" of type <class 'list'> for key \"eval/labels\" as a scalar. This invocation of Tensorboard's writer.add_scalar() is incorrect so we dropped this attribute.\n",
      "***** Running Evaluation *****\n",
      "  Num examples = 198\n",
      "  Batch size = 4\n",
      "Trainer is attempting to log a value of \"['1', '6', '6', '6', '4', '7', '5', '8', '1', '1', '3', '0', '6', '1', '8', '6', '4', '0', '9', '0', '4', '3', '8', '0', '3', '1', '1', '2', '4', '1', '7', '2', '4', '3', '6', '7', '1', '7', '7', '7', '4', '3', '4', '4', '2', '4', '6', '3', '3', '8', '3', '6', '3', '3', '5', '1', '3', '2', '0', '6', '2', '3', '0', '3', '6', '6', '7', '2', '7', '6', '2', '6', '2', '0', '9', '4', '2', '1', '1', '8', '2', '1', '1', '3', '7', '1', '3', '2', '8', '5', '1', '4', '3', '2', '1', '8', '0', '9', '0', '1', '0', '4', '2', '4', '4', '6', '7', '5', '4', '7', '8', '7', '7', '2', '0', '8', '2', '6', '2', '2', '1', '1', '7', '1', '6', '7', '6', '7', '1', '2', '6', '9', '7', '1', '4', '8', '7', '8', '0', '5', '6', '9', '5', '5', '2', '7', '3', '3', '2', '4', '1', '2', '1', '9', '8', '6', '3', '1', '3', '2', '1', '0', '2', '8', '7', '4', '2', '4', '2', '1', '4', '6', '5', '5', '0', '4', '5', '7', '2', '0', '0', '8', '5', '0', '4', '1', '3', '2', '4', '1', '8', '5', '8', '8', '9', '6', '3', '9']\" of type <class 'list'> for key \"eval/pred\" as a scalar. This invocation of Tensorboard's writer.add_scalar() is incorrect so we dropped this attribute.\n",
      "Trainer is attempting to log a value of \"['1', '6', '6', '6', '4', '7', '5', '8', '1', '7', '3', '0', '6', '1', '8', '6', '4', '0', '9', '0', '4', '3', '8', '0', '3', '1', '1', '2', '4', '1', '7', '2', '4', '3', '6', '7', '1', '7', '7', '7', '4', '3', '4', '4', '2', '4', '6', '3', '3', '8', '3', '6', '3', '3', '5', '1', '3', '2', '0', '6', '2', '3', '0', '3', '6', '6', '7', '2', '7', '6', '2', '6', '2', '0', '9', '4', '2', '1', '1', '8', '2', '1', '1', '3', '7', '1', '3', '2', '8', '5', '1', '4', '3', '2', '1', '8', '0', '9', '0', '1', '0', '4', '2', '4', '4', '6', '7', '5', '4', '7', '8', '7', '7', '2', '0', '8', '2', '6', '2', '2', '1', '1', '7', '1', '6', '7', '6', '7', '1', '2', '6', '9', '7', '7', '4', '8', '7', '8', '4', '5', '6', '9', '5', '5', '2', '7', '3', '3', '2', '4', '1', '2', '1', '9', '8', '6', '3', '1', '3', '2', '1', '0', '2', '8', '7', '4', '2', '4', '2', '1', '4', '6', '5', '5', '0', '4', '5', '7', '2', '0', '0', '8', '5', '0', '4', '7', '3', '2', '4', '1', '8', '5', '8', '8', '9', '6', '3', '9']\" of type <class 'list'> for key \"eval/labels\" as a scalar. This invocation of Tensorboard's writer.add_scalar() is incorrect so we dropped this attribute.\n",
      "***** Running Evaluation *****\n",
      "  Num examples = 198\n",
      "  Batch size = 4\n",
      "Trainer is attempting to log a value of \"['1', '6', '6', '6', '4', '7', '5', '8', '1', '7', '3', '0', '6', '1', '8', '6', '4', '0', '9', '0', '4', '3', '8', '0', '3', '1', '1', '2', '4', '1', '7', '2', '4', '3', '6', '7', '1', '7', '7', '7', '4', '3', '4', '4', '2', '4', '6', '3', '3', '8', '3', '6', '3', '3', '5', '1', '3', '2', '0', '6', '2', '3', '0', '3', '6', '6', '7', '2', '7', '6', '2', '6', '9', '0', '9', '4', '2', '1', '1', '8', '2', '1', '1', '3', '7', '1', '3', '2', '8', '5', '1', '4', '3', '2', '1', '8', '0', '9', '0', '1', '0', '4', '2', '4', '4', '6', '7', '5', '4', '7', '8', '7', '7', '2', '0', '8', '2', '6', '2', '2', '1', '1', '7', '1', '6', '7', '6', '7', '1', '2', '6', '9', '7', '7', '4', '8', '7', '8', '0', '5', '6', '9', '5', '5', '2', '7', '3', '3', '2', '4', '1', '2', '1', '9', '8', '6', '3', '1', '3', '2', '1', '0', '2', '8', '7', '4', '2', '4', '2', '1', '4', '6', '5', '5', '0', '4', '5', '7', '2', '0', '0', '8', '5', '0', '4', '7', '3', '2', '4', '1', '8', '5', '8', '8', '9', '6', '3', '9']\" of type <class 'list'> for key \"eval/pred\" as a scalar. This invocation of Tensorboard's writer.add_scalar() is incorrect so we dropped this attribute.\n",
      "Trainer is attempting to log a value of \"['1', '6', '6', '6', '4', '7', '5', '8', '1', '7', '3', '0', '6', '1', '8', '6', '4', '0', '9', '0', '4', '3', '8', '0', '3', '1', '1', '2', '4', '1', '7', '2', '4', '3', '6', '7', '1', '7', '7', '7', '4', '3', '4', '4', '2', '4', '6', '3', '3', '8', '3', '6', '3', '3', '5', '1', '3', '2', '0', '6', '2', '3', '0', '3', '6', '6', '7', '2', '7', '6', '2', '6', '2', '0', '9', '4', '2', '1', '1', '8', '2', '1', '1', '3', '7', '1', '3', '2', '8', '5', '1', '4', '3', '2', '1', '8', '0', '9', '0', '1', '0', '4', '2', '4', '4', '6', '7', '5', '4', '7', '8', '7', '7', '2', '0', '8', '2', '6', '2', '2', '1', '1', '7', '1', '6', '7', '6', '7', '1', '2', '6', '9', '7', '7', '4', '8', '7', '8', '4', '5', '6', '9', '5', '5', '2', '7', '3', '3', '2', '4', '1', '2', '1', '9', '8', '6', '3', '1', '3', '2', '1', '0', '2', '8', '7', '4', '2', '4', '2', '1', '4', '6', '5', '5', '0', '4', '5', '7', '2', '0', '0', '8', '5', '0', '4', '7', '3', '2', '4', '1', '8', '5', '8', '8', '9', '6', '3', '9']\" of type <class 'list'> for key \"eval/labels\" as a scalar. This invocation of Tensorboard's writer.add_scalar() is incorrect so we dropped this attribute.\n",
      "***** Running Evaluation *****\n",
      "  Num examples = 198\n",
      "  Batch size = 4\n",
      "Trainer is attempting to log a value of \"['1', '6', '6', '6', '4', '7', '5', '8', '1', '7', '3', '0', '6', '1', '8', '6', '4', '0', '9', '0', '4', '3', '8', '0', '3', '1', '1', '2', '4', '1', '7', '2', '4', '3', '6', '7', '1', '7', '7', '7', '4', '3', '4', '4', '2', '4', '6', '3', '3', '8', '3', '6', '3', '3', '5', '1', '3', '2', '0', '6', '2', '3', '0', '3', '6', '6', '7', '2', '7', '6', '2', '6', '9', '0', '9', '4', '2', '1', '1', '8', '2', '1', '1', '3', '7', '1', '3', '2', '8', '5', '1', '4', '3', '2', '1', '8', '0', '9', '0', '1', '0', '4', '2', '4', '4', '6', '7', '5', '4', '7', '8', '7', '7', '2', '0', '8', '2', '6', '2', '2', '1', '1', '7', '1', '6', '7', '6', '7', '1', '2', '6', '9', '7', '7', '4', '8', '7', '8', '0', '5', '6', '9', '5', '5', '2', '7', '3', '3', '2', '4', '1', '2', '1', '9', '8', '6', '3', '1', '3', '2', '1', '0', '2', '8', '7', '4', '2', '4', '2', '1', '4', '6', '5', '5', '0', '4', '5', '7', '2', '0', '0', '8', '5', '0', '4', '7', '3', '2', '4', '1', '8', '5', '8', '8', '9', '6', '3', '9']\" of type <class 'list'> for key \"eval/pred\" as a scalar. This invocation of Tensorboard's writer.add_scalar() is incorrect so we dropped this attribute.\n"
     ]
    },
    {
     "name": "stderr",
     "output_type": "stream",
     "text": [
      "Trainer is attempting to log a value of \"['1', '6', '6', '6', '4', '7', '5', '8', '1', '7', '3', '0', '6', '1', '8', '6', '4', '0', '9', '0', '4', '3', '8', '0', '3', '1', '1', '2', '4', '1', '7', '2', '4', '3', '6', '7', '1', '7', '7', '7', '4', '3', '4', '4', '2', '4', '6', '3', '3', '8', '3', '6', '3', '3', '5', '1', '3', '2', '0', '6', '2', '3', '0', '3', '6', '6', '7', '2', '7', '6', '2', '6', '2', '0', '9', '4', '2', '1', '1', '8', '2', '1', '1', '3', '7', '1', '3', '2', '8', '5', '1', '4', '3', '2', '1', '8', '0', '9', '0', '1', '0', '4', '2', '4', '4', '6', '7', '5', '4', '7', '8', '7', '7', '2', '0', '8', '2', '6', '2', '2', '1', '1', '7', '1', '6', '7', '6', '7', '1', '2', '6', '9', '7', '7', '4', '8', '7', '8', '4', '5', '6', '9', '5', '5', '2', '7', '3', '3', '2', '4', '1', '2', '1', '9', '8', '6', '3', '1', '3', '2', '1', '0', '2', '8', '7', '4', '2', '4', '2', '1', '4', '6', '5', '5', '0', '4', '5', '7', '2', '0', '0', '8', '5', '0', '4', '7', '3', '2', '4', '1', '8', '5', '8', '8', '9', '6', '3', '9']\" of type <class 'list'> for key \"eval/labels\" as a scalar. This invocation of Tensorboard's writer.add_scalar() is incorrect so we dropped this attribute.\n",
      "***** Running Evaluation *****\n",
      "  Num examples = 198\n",
      "  Batch size = 4\n",
      "Trainer is attempting to log a value of \"['1', '6', '6', '6', '4', '7', '5', '8', '1', '7', '3', '0', '6', '1', '8', '6', '4', '0', '9', '0', '4', '3', '8', '0', '3', '1', '1', '2', '4', '1', '7', '2', '4', '3', '6', '7', '1', '7', '7', '7', '4', '3', '4', '4', '2', '4', '6', '3', '3', '8', '7', '6', '3', '3', '5', '1', '3', '2', '0', '6', '2', '3', '0', '3', '6', '6', '7', '2', '7', '6', '2', '6', '9', '0', '9', '4', '2', '1', '1', '8', '2', '1', '1', '3', '7', '1', '3', '2', '8', '5', '1', '4', '3', '2', '1', '8', '0', '9', '0', '1', '0', '4', '2', '4', '4', '6', '7', '5', '4', '7', '8', '7', '7', '2', '0', '8', '2', '6', '2', '2', '1', '1', '7', '1', '6', '7', '6', '7', '1', '2', '6', '9', '7', '7', '4', '8', '7', '8', '0', '5', '6', '9', '5', '5', '2', '7', '3', '3', '2', '4', '1', '2', '1', '9', '8', '6', '3', '1', '3', '2', '1', '0', '2', '8', '7', '4', '2', '4', '2', '1', '4', '6', '5', '5', '0', '4', '5', '7', '2', '0', '0', '8', '5', '0', '4', '7', '3', '2', '4', '1', '8', '5', '8', '8', '9', '6', '3', '9']\" of type <class 'list'> for key \"eval/pred\" as a scalar. This invocation of Tensorboard's writer.add_scalar() is incorrect so we dropped this attribute.\n",
      "Trainer is attempting to log a value of \"['1', '6', '6', '6', '4', '7', '5', '8', '1', '7', '3', '0', '6', '1', '8', '6', '4', '0', '9', '0', '4', '3', '8', '0', '3', '1', '1', '2', '4', '1', '7', '2', '4', '3', '6', '7', '1', '7', '7', '7', '4', '3', '4', '4', '2', '4', '6', '3', '3', '8', '3', '6', '3', '3', '5', '1', '3', '2', '0', '6', '2', '3', '0', '3', '6', '6', '7', '2', '7', '6', '2', '6', '2', '0', '9', '4', '2', '1', '1', '8', '2', '1', '1', '3', '7', '1', '3', '2', '8', '5', '1', '4', '3', '2', '1', '8', '0', '9', '0', '1', '0', '4', '2', '4', '4', '6', '7', '5', '4', '7', '8', '7', '7', '2', '0', '8', '2', '6', '2', '2', '1', '1', '7', '1', '6', '7', '6', '7', '1', '2', '6', '9', '7', '7', '4', '8', '7', '8', '4', '5', '6', '9', '5', '5', '2', '7', '3', '3', '2', '4', '1', '2', '1', '9', '8', '6', '3', '1', '3', '2', '1', '0', '2', '8', '7', '4', '2', '4', '2', '1', '4', '6', '5', '5', '0', '4', '5', '7', '2', '0', '0', '8', '5', '0', '4', '7', '3', '2', '4', '1', '8', '5', '8', '8', '9', '6', '3', '9']\" of type <class 'list'> for key \"eval/labels\" as a scalar. This invocation of Tensorboard's writer.add_scalar() is incorrect so we dropped this attribute.\n",
      "\n",
      "\n",
      "Training completed. Do not forget to share your model on huggingface.co/models =)\n",
      "\n",
      "\n"
     ]
    },
    {
     "data": {
      "text/plain": [
       "TrainOutput(global_step=1338, training_loss=0.5739106673786281, metrics={'train_runtime': 1237.1423, 'train_samples_per_second': 4.321, 'train_steps_per_second': 1.082, 'total_flos': 4.730651079232979e+18, 'train_loss': 0.5739106673786281, 'epoch': 3.0})"
      ]
     },
     "execution_count": 24,
     "metadata": {},
     "output_type": "execute_result"
    }
   ],
   "source": [
    "from transformers import default_data_collator\n",
    "from transformers import Seq2SeqTrainer, Seq2SeqTrainingArguments\n",
    "\n",
    "training_args = Seq2SeqTrainingArguments(\n",
    "    num_train_epochs=3,\n",
    "    predict_with_generate=True,\n",
    "    evaluation_strategy=\"steps\",\n",
    "    per_device_train_batch_size=4,\n",
    "    per_device_eval_batch_size=4,\n",
    "    fp16=True, \n",
    "    output_dir=\".\",\n",
    "    logging_steps=2,\n",
    "    save_steps=50000,\n",
    "    eval_steps=50,\n",
    "    save_total_limit=1,\n",
    ")\n",
    "\n",
    "# instantiate trainer\n",
    "trainer = Seq2SeqTrainer(\n",
    "    model=model,\n",
    "    tokenizer=processor.feature_extractor,\n",
    "    args=training_args,\n",
    "    compute_metrics=compute_metrics,\n",
    "    train_dataset=train_dataset,\n",
    "    eval_dataset=eval_dataset,\n",
    "    data_collator=default_data_collator,\n",
    ")\n",
    "\n",
    "trainer.train()\n",
    "\n",
    "#Step\tTraining Loss\tValidation Loss\tCer\n",
    "#5000\t0.449600\t6.391628\t2.151000\n",
    "#10000\t0.113700\t9.725458\t2.002444\n",
    "#15000\t0.291600\t8.634416\t1.493889\n",
    "#20000\t0.232700\t9.673293\t1.266778\n",
    "#25000\t0.333000\t10.493820\t1.084333\n",
    "#30000\t0.042500\t10.242682\t1.793444\n",
    "#35000\t0.004500\t11.528788\t2.001000"
   ]
  },
  {
   "cell_type": "markdown",
   "id": "7f3dfc02",
   "metadata": {},
   "source": [
    "#### specify the FineTune model path (Pytorch model from above) and load the processor and model of ViT"
   ]
  },
  {
   "cell_type": "code",
   "execution_count": null,
   "id": "5ffec797",
   "metadata": {},
   "outputs": [],
   "source": [
    "model_path = r\"C:\\Users\\A\\Classification Aico\\modelling\\training\\model\\mnist_dataset_1\"\n",
    "\n",
    "device = torch.device(\"cuda\" if torch.cuda.is_available() else \"cpu\")\n",
    "processor = TrOCRProcessor.from_pretrained(\"microsoft/trocr-base-handwritten\") \n",
    "model = VisionEncoderDecoderModel.from_pretrained(model_path).to(device) "
   ]
  },
  {
   "cell_type": "code",
   "execution_count": null,
   "id": "c0ee1a27",
   "metadata": {},
   "outputs": [],
   "source": []
  },
  {
   "cell_type": "markdown",
   "id": "56cfb52d",
   "metadata": {},
   "source": [
    "#### Loop over all the testing set (created before) and generate the text; add these to a dictionary"
   ]
  },
  {
   "cell_type": "code",
   "execution_count": null,
   "id": "ce8695c9",
   "metadata": {},
   "outputs": [],
   "source": [
    "dict_ = dict()\n",
    "for file in test_df.file_name:\n",
    "    image = Image.open(file).convert(\"RGB\")\n",
    "    pixel_values = processor(image, return_tensors=\"pt\").pixel_values\n",
    "    generated_ids = model.generate(pixel_values.to(device))\n",
    "    generated_text = processor.batch_decode(generated_ids, skip_special_tokens=True)[0]\n",
    "    dict_[file] = generated_text\n",
    "\n",
    "# Create a pandas dataframe from a dictionary\n",
    "df_model_test = pd.DataFrame.from_dict(dict_, orient='index').reset_index()\n",
    "\n",
    "# Merge the outcome with the testing set for comparison\n",
    "df_merge = pd.merge(df_model_test,test_df,left_on='index',right_on='file_name')\n",
    "\n",
    "# Write to a csv file\n",
    "df_merge.to_csv('test_acc_custom.csv',index=False)"
   ]
  },
  {
   "cell_type": "code",
   "execution_count": null,
   "id": "b4c227b0",
   "metadata": {},
   "outputs": [],
   "source": [
    "df_merge = pd.read_csv('test_acc_mnist.csv')"
   ]
  },
  {
   "cell_type": "markdown",
   "id": "f4b52f1c",
   "metadata": {},
   "source": [
    "#### Create and print the classification report"
   ]
  },
  {
   "cell_type": "code",
   "execution_count": null,
   "id": "b590a643",
   "metadata": {},
   "outputs": [],
   "source": [
    "\n",
    "y_true = df_merge['text']\n",
    "y_pred = df_merge['0']"
   ]
  },
  {
   "cell_type": "code",
   "execution_count": null,
   "id": "cac911e4",
   "metadata": {},
   "outputs": [],
   "source": [
    "cf_matrix = confusion_matrix(y_true, y_pred)\n",
    "print(classification_report(y_pred,y_true))"
   ]
  },
  {
   "cell_type": "code",
   "execution_count": null,
   "id": "3e810bbc",
   "metadata": {},
   "outputs": [],
   "source": []
  },
  {
   "cell_type": "markdown",
   "id": "8cf5bad3",
   "metadata": {},
   "source": [
    "#### Plot the confusion matrix"
   ]
  },
  {
   "cell_type": "code",
   "execution_count": null,
   "id": "c245b783",
   "metadata": {},
   "outputs": [],
   "source": [
    "ax = sns.heatmap(cf_matrix , annot=True, cmap='magma',fmt='g')\n",
    "\n",
    "ax.set_title('Seaborn Confusion Matrix with labels\\n\\n');\n",
    "ax.set_xlabel('\\nPredicted Values')\n",
    "ax.set_ylabel('Actual Values ');\n",
    "\n",
    "## Display the visualization of the Confusion Matrix.\n",
    "plt.show()"
   ]
  },
  {
   "cell_type": "code",
   "execution_count": null,
   "id": "c3e964f7",
   "metadata": {},
   "outputs": [],
   "source": [
    "report = classification_report(y_true, y_pred, output_dict=True)\n",
    "report['accuracy']"
   ]
  },
  {
   "cell_type": "code",
   "execution_count": null,
   "id": "44ab498e",
   "metadata": {},
   "outputs": [],
   "source": []
  }
 ],
 "metadata": {
  "kernelspec": {
   "display_name": "Python 3 (ipykernel)",
   "language": "python",
   "name": "python3"
  },
  "language_info": {
   "codemirror_mode": {
    "name": "ipython",
    "version": 3
   },
   "file_extension": ".py",
   "mimetype": "text/x-python",
   "name": "python",
   "nbconvert_exporter": "python",
   "pygments_lexer": "ipython3",
   "version": "3.9.12"
  }
 },
 "nbformat": 4,
 "nbformat_minor": 5
}
