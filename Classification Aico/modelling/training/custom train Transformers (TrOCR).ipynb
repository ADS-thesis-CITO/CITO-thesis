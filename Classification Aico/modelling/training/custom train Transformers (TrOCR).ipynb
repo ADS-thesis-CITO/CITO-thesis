{
 "cells": [
  {
   "cell_type": "code",
   "execution_count": null,
   "id": "1ebfddff",
   "metadata": {},
   "outputs": [],
   "source": [
    "import numpy as np # linear algebra\n",
    "import pandas as pd # data processing, CSV file I/O (e.g. pd.read_csv)\n",
    "import os\n",
    "import glob"
   ]
  },
  {
   "cell_type": "code",
   "execution_count": null,
   "id": "662d02c2",
   "metadata": {},
   "outputs": [],
   "source": [
    "os.environ[\"WANDB_DISABLED\"] = \"true\""
   ]
  },
  {
   "cell_type": "code",
   "execution_count": null,
   "id": "6f7697e7",
   "metadata": {},
   "outputs": [],
   "source": [
    "import glob\n",
    "\n",
    "digits = [0,1,2,3,4,5,6,7,8,9]\n",
    "path = 'C:\\\\Users\\\\A\\\\datasets\\\\MNIST - JPG - training\\\\'\n",
    "\n",
    "train = []\n",
    "\n",
    "for digit in digits:\n",
    "    digit_path = path+str(digit)+'\\*'\n",
    "    for file in glob.glob(digit_path):\n",
    "        # make label from filename\n",
    "        filename = os.path.basename(file)\n",
    "        #label = filename.split('_')[0]\n",
    "        train.append([file, str(digit)])\n",
    "\n",
    "df = pd.DataFrame(train, columns=['file_name', 'text'])"
   ]
  },
  {
   "cell_type": "code",
   "execution_count": null,
   "id": "c2728db7",
   "metadata": {},
   "outputs": [],
   "source": [
    "from sklearn.model_selection import train_test_split\n",
    "df['text'].value_counts()\n",
    "df2 = pd.DataFrame()\n",
    "for digit in digits:\n",
    "    df_sample = df[df['text'] == str(digit)].sample(n=5000,random_state = 1)\n",
    "    df2 = df2.append(df_sample)"
   ]
  },
  {
   "cell_type": "code",
   "execution_count": null,
   "id": "3cc3ddd1",
   "metadata": {},
   "outputs": [],
   "source": [
    "# custom label dataset\n",
    "digits = [0,1,2,3,4,5,6,7,8,9]\n",
    "path = 'C:\\\\Users\\\\A\\\\datasets\\\\school_label_dataset\\\\extract_digits\\\\'\n",
    "\n",
    "train = []\n",
    "\n",
    "for digit in digits:\n",
    "    digit_path = path+str(digit)+'\\*'\n",
    "    for file in glob.glob(digit_path):\n",
    "    # make label from filename\n",
    "        filename = os.path.basename(file)\n",
    "        #label = filename.split('_')[0]\n",
    "        train.append([file, str(digit)])\n",
    "\n",
    "df3 = pd.DataFrame(train, columns=['file_name', 'text'])"
   ]
  },
  {
   "cell_type": "code",
   "execution_count": null,
   "id": "194fca80",
   "metadata": {},
   "outputs": [],
   "source": [
    "# split / train testset for training"
   ]
  },
  {
   "cell_type": "code",
   "execution_count": null,
   "id": "e59d10ee",
   "metadata": {},
   "outputs": [],
   "source": [
    "from sklearn.model_selection import train_test_split\n",
    "train_df, test_df = train_test_split(df, test_size=0.15)\n",
    "# we reset the indices to start from zero\n",
    "train_df.reset_index(drop=True, inplace=True)\n",
    "test_df.reset_index(drop=True, inplace=True)"
   ]
  },
  {
   "cell_type": "code",
   "execution_count": null,
   "id": "0560604b",
   "metadata": {},
   "outputs": [],
   "source": []
  },
  {
   "cell_type": "code",
   "execution_count": null,
   "id": "45957f19",
   "metadata": {},
   "outputs": [],
   "source": [
    "import torch\n",
    "from torch.utils.data import Dataset\n",
    "from PIL import Image\n",
    "\n",
    "class IAMDataset(Dataset):\n",
    "    def __init__(self, root_dir, df, processor, max_target_length=128):\n",
    "        self.root_dir = root_dir\n",
    "        self.df = df\n",
    "        self.processor = processor\n",
    "        self.max_target_length = max_target_length\n",
    "\n",
    "    def __len__(self):\n",
    "        return len(self.df)\n",
    "\n",
    "    def __getitem__(self, idx):\n",
    "        # get file name + text \n",
    "        file_name = self.df['file_name'][idx]\n",
    "        text = self.df['text'][idx]\n",
    "        # prepare image (i.e. resize + normalize)\n",
    "        image = Image.open(self.root_dir + file_name).convert(\"RGB\")\n",
    "        pixel_values = self.processor(image, return_tensors=\"pt\").pixel_values\n",
    "        # add labels (input_ids) by encoding the text\n",
    "        labels = self.processor.tokenizer(text, \n",
    "                                          padding=\"max_length\", \n",
    "                                          max_length=self.max_target_length).input_ids\n",
    "        \n",
    "        labels = [label if label != self.processor.tokenizer.pad_token_id else -100 for label in labels]\n",
    "\n",
    "        encoding = {\"pixel_values\": pixel_values.squeeze(), \"labels\": torch.tensor(labels)}\n",
    "\n",
    "        return encoding"
   ]
  },
  {
   "cell_type": "code",
   "execution_count": null,
   "id": "1c50d94f",
   "metadata": {},
   "outputs": [],
   "source": []
  },
  {
   "cell_type": "code",
   "execution_count": null,
   "id": "f7952980",
   "metadata": {},
   "outputs": [],
   "source": [
    "from transformers import TrOCRProcessor\n",
    "\n",
    "processor = TrOCRProcessor.from_pretrained(\"microsoft/trocr-base-handwritten\")\n",
    "train_dataset = IAMDataset(root_dir='',\n",
    "                           df=train_df,\n",
    "                           processor=processor)\n",
    "eval_dataset = IAMDataset(root_dir='',\n",
    "                           df=test_df,\n",
    "                           processor=processor)"
   ]
  },
  {
   "cell_type": "code",
   "execution_count": null,
   "id": "7c51b9c7",
   "metadata": {},
   "outputs": [],
   "source": [
    "print(\"Number of training examples:\", len(train_dataset))\n",
    "print(\"Number of validation examples:\", len(eval_dataset))"
   ]
  },
  {
   "cell_type": "code",
   "execution_count": null,
   "id": "53ab6f94",
   "metadata": {},
   "outputs": [],
   "source": [
    "encoding = train_dataset[0]\n",
    "for k,v in encoding.items():\n",
    "    print(k, v.shape)"
   ]
  },
  {
   "cell_type": "code",
   "execution_count": null,
   "id": "88ba58ea",
   "metadata": {},
   "outputs": [],
   "source": [
    "# print sample image\n",
    "image = Image.open(train_dataset.root_dir + train_df['file_name'][0]).convert(\"RGB\")\n",
    "print('Label: '+train_df['text'][0])\n",
    "image"
   ]
  },
  {
   "cell_type": "code",
   "execution_count": null,
   "id": "1d952581",
   "metadata": {},
   "outputs": [],
   "source": [
    "from datasets import load_metric\n",
    "\n",
    "cer_metric = load_metric(\"cer\")\n",
    "\n",
    "def compute_metrics(pred):\n",
    "    labels_ids = pred.label_ids\n",
    "    pred_ids = pred.predictions\n",
    "\n",
    "    pred_str = processor.batch_decode(pred_ids, skip_special_tokens=True)\n",
    "    labels_ids[labels_ids == -100] = processor.tokenizer.pad_token_id\n",
    "    label_str = processor.batch_decode(labels_ids, skip_special_tokens=True)\n",
    "\n",
    "    cer = cer_metric.compute(predictions=pred_str, references=label_str)\n",
    "\n",
    "    return {\"cer\": cer}"
   ]
  },
  {
   "cell_type": "code",
   "execution_count": null,
   "id": "1adbb2f4",
   "metadata": {},
   "outputs": [],
   "source": [
    "from transformers import VisionEncoderDecoderModel\n",
    "\n",
    "model = VisionEncoderDecoderModel.from_pretrained(\"microsoft/trocr-base-stage1\")"
   ]
  },
  {
   "cell_type": "code",
   "execution_count": null,
   "id": "4130ca1a",
   "metadata": {},
   "outputs": [],
   "source": [
    "# parameters\n",
    "\n",
    "# set special tokens used for creating the decoder_input_ids from the labels\n",
    "model.config.decoder_start_token_id = processor.tokenizer.cls_token_id\n",
    "model.config.pad_token_id = processor.tokenizer.pad_token_id\n",
    "# make sure vocab size is set correctly\n",
    "model.config.vocab_size = model.config.decoder.vocab_size\n",
    "\n",
    "# set beam search parameters\n",
    "model.config.eos_token_id = processor.tokenizer.sep_token_id\n",
    "model.config.max_length = 10\n",
    "model.config.early_stopping = True\n",
    "model.config.no_repeat_ngram_size = 3\n",
    "model.config.length_penalty = 2.0\n",
    "model.config.num_beams = 4"
   ]
  },
  {
   "cell_type": "code",
   "execution_count": null,
   "id": "06dbbd11",
   "metadata": {},
   "outputs": [],
   "source": [
    "from transformers import default_data_collator\n",
    "from transformers import Seq2SeqTrainer, Seq2SeqTrainingArguments\n",
    "\n",
    "training_args = Seq2SeqTrainingArguments(\n",
    "    num_train_epochs=3,\n",
    "    predict_with_generate=True,\n",
    "    evaluation_strategy=\"steps\",\n",
    "    per_device_train_batch_size=4,\n",
    "    per_device_eval_batch_size=4,\n",
    "    fp16=True, \n",
    "    output_dir=\".\",\n",
    "    logging_steps=2,\n",
    "    save_steps=20000,\n",
    "    eval_steps=5000,\n",
    "    save_total_limit=1,\n",
    ")\n",
    "\n",
    "# instantiate trainer\n",
    "trainer = Seq2SeqTrainer(\n",
    "    model=model,\n",
    "    tokenizer=processor.feature_extractor,\n",
    "    args=training_args,\n",
    "    compute_metrics=compute_metrics,\n",
    "    train_dataset=train_dataset,\n",
    "    eval_dataset=eval_dataset,\n",
    "    data_collator=default_data_collator,\n",
    ")\n",
    "\n",
    "trainer.train()\n",
    "\n",
    "#Step\tTraining Loss\tValidation Loss\tCer\n",
    "#5000\t0.449600\t6.391628\t2.151000\n",
    "#10000\t0.113700\t9.725458\t2.002444\n",
    "#15000\t0.291600\t8.634416\t1.493889\n",
    "#20000\t0.232700\t9.673293\t1.266778\n",
    "#25000\t0.333000\t10.493820\t1.084333\n",
    "#30000\t0.042500\t10.242682\t1.793444\n",
    "#35000\t0.004500\t11.528788\t2.001000"
   ]
  },
  {
   "cell_type": "code",
   "execution_count": null,
   "id": "1fccfbc1",
   "metadata": {},
   "outputs": [],
   "source": [
    "model.save_pretrained(\"model/\")"
   ]
  },
  {
   "cell_type": "code",
   "execution_count": null,
   "id": "7e02df8a",
   "metadata": {},
   "outputs": [],
   "source": []
  },
  {
   "cell_type": "code",
   "execution_count": null,
   "id": "1a1e559c",
   "metadata": {},
   "outputs": [],
   "source": []
  }
 ],
 "metadata": {
  "kernelspec": {
   "display_name": "Python 3 (ipykernel)",
   "language": "python",
   "name": "python3"
  },
  "language_info": {
   "codemirror_mode": {
    "name": "ipython",
    "version": 3
   },
   "file_extension": ".py",
   "mimetype": "text/x-python",
   "name": "python",
   "nbconvert_exporter": "python",
   "pygments_lexer": "ipython3",
   "version": "3.9.12"
  }
 },
 "nbformat": 4,
 "nbformat_minor": 5
}
